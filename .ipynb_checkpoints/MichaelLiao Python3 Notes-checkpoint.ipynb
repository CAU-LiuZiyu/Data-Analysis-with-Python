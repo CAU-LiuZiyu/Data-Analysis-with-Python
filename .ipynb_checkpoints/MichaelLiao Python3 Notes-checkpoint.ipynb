{
 "cells": [
  {
   "cell_type": "markdown",
   "metadata": {},
   "source": [
    "# 廖雪峰Python3教程学习笔记\n",
    "\n",
    "## 1 Python简介\n",
    "\n",
    "“龟叔”Guido van Rossum\n",
    "\n",
    "1989年圣诞节期间，为了打发无聊而编写\n",
    "\n",
    "[TIOBE排行榜](https://www.tiobe.com/tiobe-index/)\n",
    "\n",
    "C语言：编写操作系统，贴近硬件，适合开发追求运行速度、充分发挥硬件性能的程序\n",
    "\n",
    "Python：来编写应用程序的高级编程语言\n",
    "\n",
    "为什么要用高级语言？\n",
    "> 比如说，要编写一个电子邮件客户端，如果先从最底层开始编写网络协议相关的代码，那估计一年半载也开发不出来。高级编程语言通常都会提供一个比较完善的基础代码库，让你能直接调用，比如，针对电子邮件协议的SMTP库，针对桌面环境的GUI库，在这些已有的代码库的基础上开发，一个电子邮件客户端几天就能开发出来。\n",
    "\n",
    "Python被形象地称作“内置电池（batteries included）”\n",
    "\n",
    "大量的第三方库\n",
    "\n",
    "使用Python的大型网站、大公司\n",
    "> YouTube、Instagram、豆瓣、Google、Yahoo、NASA\n",
    "\n",
    "Python的定位是“优雅”、“明确”、“简单”\n",
    "\n",
    "Python有哪些缺点呢？\n",
    "> 第一个缺点就是运行速度慢，和C程序相比非常慢，因为Python是解释型语言，你的代码在执行时会一行一行地翻译成CPU能理解的机器码，这个翻译过程非常耗时，所以很慢。而C程序是运行前直接编译成CPU能执行的机器码，所以非常快。\n",
    ">\n",
    "> 第二个缺点就是代码不能加密。如果要发布你的Python程序，实际上就是发布源代码，这一点跟C语言不同，C语言不用发布源代码，只需要把编译后的机器码（也就是你在Windows上常见的xxx.exe文件）发布出去。要从机器码反推出C代码是不可能的，所以，凡是编译型的语言，都没有这个问题，而解释型的语言，则必须把源码发布出去。"
   ]
  },
  {
   "cell_type": "markdown",
   "metadata": {},
   "source": [
    "## 2 安装Python\n",
    "\n",
    "在Mac上安装Python\n",
    "> 如果你正在使用Mac，系统是OS X>=10.9，那么系统自带的Python版本是2.7。要安装最新的Python 3.8，有两个方法：\n",
    ">\n",
    "> 方法一：从Python官网下载Python 3.8的安装程序，下载后双击运行并安装；\n",
    ">\n",
    "> 方法二：如果安装了Homebrew，直接通过命令brew install python3安装即可。\n",
    "\n",
    "在Linux上安装Python\n",
    "> 如果你正在使用Linux，那我可以假定你有Linux系统管理经验，自行安装Python 3应该没有问题，否则，请换回Windows系统。\n",
    ">\n",
    "> 对于大量的目前仍在使用Windows的同学，如果短期内没有打算换Mac，就可以继续阅读以下内容。\n",
    "\n",
    "在Windows上安装Python\n",
    "> 首先，根据你的Windows版本（64位还是32位）从Python的官方网站下载Python 3.8对应的64位安装程序或32位安装程序，然后，运行下载的exe安装包：\n",
    ">\n",
    "> 特别要注意勾上Add Python 3.8 to PATH，然后点“Install Now”即可完成安装。\n",
    ">\n",
    "> 如果在win系统运行python失败，提示如下：'python' is not recognized as an internal or external command, operable program or batch file. 说明没有设置好环境变量。\n"
   ]
  },
  {
   "cell_type": "markdown",
   "metadata": {},
   "source": [
    "### 2.1 Python解释器\n",
    "\n",
    "CPython\n",
    "\n",
    "官方版本，使用最广。提示符为>>>\n",
    "\n",
    "IPython\n",
    "\n",
    "基于CPython，交互式，jupyter notebook。提示符为In[序号]:\n",
    "\n",
    "PyPy\n",
    "\n",
    "动态编译，速度快，但一些代码在PyPy下运行结果不同。\n",
    "\n",
    "Jython\n",
    "\n",
    "Java平台，把Python代码编译成Java字节码执行。\n",
    "\n",
    "IronPython\n",
    "\n",
    "微软.Net平台，把Python代码编译成.Net字节码执行。"
   ]
  },
  {
   "cell_type": "markdown",
   "metadata": {},
   "source": [
    "## 3 第一个Python程序\n",
    "\n",
    "命令行模式和Python交互模式\n",
    "\n",
    "写代码不要复制粘贴，要一个字母一个字母地把代码自己敲进去\n",
    "\n",
    "print()\n",
    "\n",
    ".py文件\n",
    "\n",
    "c:\\> python filename.py\n",
    "\n",
    "python interprater作为计算器\n"
   ]
  },
  {
   "cell_type": "markdown",
   "metadata": {},
   "source": [
    "### 3.1 使用文本编辑器\n",
    "\n",
    "#!/usr/bin/env python3\n",
    "\n",
    "mac和linux环境下，在.py文件头部加这行注释，可以使python脚本直接运行。\n",
    "\n",
    "> 用Python开发程序，完全可以一边在文本编辑器里写代码，一边开一个交互式命令窗口，在写代码的过程中，把部分代码粘到命令行去验证，事半功倍！前提是得有个27'的超大显示器！\n",
    "\n",
    "这种模式实际上是spyder的模式，如何能把vscode配置的如同spyder呢？"
   ]
  },
  {
   "cell_type": "markdown",
   "metadata": {},
   "source": [
    "### 3.2 Python代码运行助手\n",
    "\n",
    "learning.py的原理：\n",
    "\n",
    "在网页输入代码——>点击 Run 按钮，代码被发送到本机正在运行的Python代码运行助手——>Python代码运行助手将代码保存为临时文件，然后调用Python解释器执行代码——网页显示代码执行结果\n",
    "\n",
    "所以learning.py的本质是和网页的交互？\n",
    "\n",
    "有时间的时候可以看看这个文件的代码。"
   ]
  },
  {
   "cell_type": "markdown",
   "metadata": {},
   "source": [
    "### 3.3 输入和输出\n",
    "\n",
    "print()\n",
    "\n",
    "![](https://www.liaoxuefeng.com/files/attachments/1017032122300544/l)\n",
    "\n",
    "input()"
   ]
  },
  {
   "cell_type": "code",
   "execution_count": null,
   "metadata": {},
   "outputs": [],
   "source": [
    "name = input('please enter your name: ')\n",
    "print('hello,', name)"
   ]
  },
  {
   "cell_type": "markdown",
   "metadata": {},
   "source": [
    "input()和print()是在命令行下面最基本的输入和输出，但是，用户也可以通过其他更高级的图形界面完成输入和输出，比如，在网页上的一个文本框输入自己的名字，点击“确定”后在网页上看到输出信息。"
   ]
  },
  {
   "cell_type": "markdown",
   "metadata": {},
   "source": [
    "## 4 Python基础\n",
    "\n",
    "计算机编程语言与自然语言的区别\n",
    "\n",
    "> 最大的区别就是，自然语言在不同的语境下有不同的理解，而计算机要根据编程语言执行任务，就必须保证编程语言写出的程序决不能有歧义\n",
    "\n",
    "Python语法的特点：\n",
    "\n",
    "1. 缩进 = 4个空格\n",
    "2. #注释\n",
    "3. 大小写敏感"
   ]
  },
  {
   "cell_type": "markdown",
   "metadata": {},
   "source": [
    "### 4.1 数据类型和变量\n",
    "\n",
    "计算机顾名思义就是可以做数学计算的机器\n",
    "\n",
    "Python基础数据类型包括int、float、str、bool、None\n",
    "\n",
    "Python的整数没有大小限制，也就是没有int16、int32、int64\n",
    "\n",
    "Python的浮点数也没有大小限制，但是超出一定范围就直接表示为inf（无限大）。\n",
    "\n",
    "str需要用''或\"\"或''''''引起来，单中有双、双中有单不需处理，单中有单、双中有双需要转义字符\\\n",
    "\n",
    "\\n = 换行\n",
    "\n",
    "\\t = 制表符\n",
    "\n",
    "\\\\ = \\\n",
    "\n",
    "r''生字符\n",
    "\n",
    "多行字符（解释器中的多行字符和脚本文件中的多行字符有什么不同？）\n",
    "\n",
    "布尔值只有两个，可以做and or not 运算\n",
    "\n",
    "变量命名\n",
    "\n",
    "动态语言不需声明变量类型\n",
    "\n",
    "重复赋值的本质\n",
    "\n",
    "![](https://www.liaoxuefeng.com/files/attachments/923791878255456/0)\n",
    "\n",
    "![](https://www.liaoxuefeng.com/files/attachments/923792058613440/0)\n",
    "\n",
    "![](https://www.liaoxuefeng.com/files/attachments/923792191637760/0)\n",
    "\n",
    "常量\n",
    "\n",
    "/， //， % 三种除法"
   ]
  },
  {
   "cell_type": "markdown",
   "metadata": {},
   "source": [
    "### 4.2 字符串和编码\n",
    "\n",
    "字符的本质是编码\n",
    "\n",
    "ASCII编码 American Standard Code for Information Interchange\n",
    "\n",
    "gbk\n",
    "\n",
    "unicode\n",
    "\n",
    "utf-8\n",
    "\n",
    "现在计算机系统通用的字符编码工作方式：\n",
    "\n",
    "在计算机内存中，统一使用Unicode编码，当需要保存到硬盘或者需要传输的时候，就转换为UTF-8编码。\n",
    "\n",
    "用记事本编辑的时候，从文件读取的UTF-8字符被转换为Unicode字符到内存里，编辑完成后，保存的时候再把Unicode转换为UTF-8保存到文件：\n",
    "\n",
    "![](https://www.liaoxuefeng.com/files/attachments/923923787018816/0)\n",
    "\n",
    "浏览网页的时候，服务器会把动态生成的Unicode内容转换为UTF-8再传输到浏览器：\n",
    "\n",
    "![](https://www.liaoxuefeng.com/files/attachments/923923759189600/0)\n",
    "\n",
    "Python 3 中字符串是以Unicode编码\n",
    "\n",
    "ord()\n",
    "\n",
    "chr()\n",
    "\n",
    "'\\u4e2d\\u6587' = '中文'\n",
    "\n",
    "### 4.3 使用list和tuple\n",
    "\n",
    "### 4.4 条件判断\n",
    "\n",
    "### 4.5 循环\n",
    "\n",
    "### 4.6 使用dict和set"
   ]
  }
 ],
 "metadata": {
  "kernelspec": {
   "display_name": "Python 3.5.6 64-bit ('hackermath': conda)",
   "language": "python",
   "name": "python35664bithackermathconda2fb05c1a5e754881bf39fdbb769c9269"
  },
  "language_info": {
   "codemirror_mode": {
    "name": "ipython",
    "version": 3
   },
   "file_extension": ".py",
   "mimetype": "text/x-python",
   "name": "python",
   "nbconvert_exporter": "python",
   "pygments_lexer": "ipython3",
   "version": "3.5.6"
  }
 },
 "nbformat": 4,
 "nbformat_minor": 2
}
