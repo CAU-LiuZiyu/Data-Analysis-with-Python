{
 "cells": [
  {
   "cell_type": "markdown",
   "metadata": {},
   "source": [
    "1. 小明在安装完Python程序后，在windows命令行模式下输入\n",
    "\n",
    "c:\\User\\Adiministrator\\python\n",
    "\n",
    "但python解释器并没有启动，并且系统提示“python不是内部或外部命令，也不是可运行的程序或批处理文件”，请问这是为什么，如何修复？\n",
    "\n",
    "2. 请问最常见的python解释器是什么？哪一种解释器使用动态编译技术来提高代码执行效率？Jython是一种python解释器吗？为什么？\n",
    "\n",
    "3. 请问以下四行代码，哪一行会报错？为什么？\n",
    "\n",
    "4. 请问以下四行代码的执行结果是什么？\n",
    "\n",
    "list(range(1,100))[::-1]\n",
    "\n",
    "5. 请定义一个函数，可以把任意字符型式的数字（如'124','10.8','-32.54e100','-.6545+0j')转换为数值，定义越简洁越好。\n",
    "\n",
    "6. 关于函数名的问题 指向 列表的指向\n",
    "\n",
    "你在一些.py文件中能看到文件头部显示如下信息：\n",
    "\n",
    "#!/usr/bin/env python3\n",
    "\n",
    "\\# -- coding: utf-8 --\n",
    "\n",
    "请问这是什么意思？你认为你在编写python脚本的时候有必要写如上的代码吗？\n",
    "\n",
    "7. 格式化输出和format的问题\n",
    "\n",
    "8. 日期，库\n",
    "\n",
    "9. 请说明构造简单搜索引擎的基本思路。\n",
    "\n",
    "10. 用递归函数解决停车问题。"
   ]
  },
  {
   "cell_type": "markdown",
   "metadata": {},
   "source": [
    "了解Python的基本概念，如map-reduce、装饰器、字典等\n",
    "能够用Python实现简单的程序，会用numpy，dict，pandas等包，实现如遍历文件夹、计时装饰器等模块或完整程序；\n",
    "能调用github上他人写的Python程序并按自己的意愿重新组合和修改\n",
    "\n",
    "1）有独立负责全部功能的能力，而不是单独只写一个模块\n",
    "\n",
    "2）能够熟练地把Python运用到真实业务场景中，熟悉上线的多进程、调试、测试、协作开发等必备技能"
   ]
  }
 ],
 "metadata": {
  "kernelspec": {
   "display_name": "Python 3",
   "language": "python",
   "name": "python3"
  },
  "language_info": {
   "codemirror_mode": {
    "name": "ipython",
    "version": 3
   },
   "file_extension": ".py",
   "mimetype": "text/x-python",
   "name": "python",
   "nbconvert_exporter": "python",
   "pygments_lexer": "ipython3",
   "version": "3.7.4"
  }
 },
 "nbformat": 4,
 "nbformat_minor": 2
}
