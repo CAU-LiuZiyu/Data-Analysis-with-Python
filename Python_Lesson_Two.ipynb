{
 "cells": [
  {
   "cell_type": "markdown",
   "metadata": {},
   "source": [
    "# 第二讲 数据类型、变量、控制流程 #"
   ]
  },
  {
   "cell_type": "markdown",
   "metadata": {},
   "source": [
    "#### 课前答疑 ####\n",
    "\n",
    "1. 环境配置问题：\n",
    "    - 不用anaconda和pycharm可以不可以？\n",
    "\n",
    "    - 有没有其他工具？\n",
    "\n",
    "    - 安装anaconda和pycharm容易出现哪些错误？\n",
    "    \n",
    "\n",
    "2. 学习方法和参考书问题：\n",
    "\n",
    "    - 择一精读？择什么？\n",
    "    \n",
    "        - A bite of Python\n",
    "    \n",
    "        - Python编程:从入门到实践\n",
    "\n",
    "        - 像计算机科学家一样思考Python\n",
    "        \n",
    "        - 笨办法学Python\n",
    "        \n",
    "        - [廖雪峰Python教程](https://www.liaoxuefeng.com/wiki/1016959663602400)\n"
   ]
  },
  {
   "cell_type": "markdown",
   "metadata": {},
   "source": [
    "## 第一部分 基本数据类型 ##\n"
   ]
  },
  {
   "cell_type": "markdown",
   "metadata": {},
   "source": [
    "参见python[官方文档](https://docs.python.org/zh-cn/3/library/index.html)"
   ]
  },
  {
   "cell_type": "markdown",
   "metadata": {},
   "source": [
    "###  一、数值 ###\n",
    "\n",
    "#### 整数、浮点数与复数 ####\n",
    "\n",
    "1. 整数\n",
    "\n",
    "    - 不同进制的整数如何转换？\n",
    "\n",
    "```\n",
    "二进制、八进制、十进制、十六进制\n",
    "\n",
    "16 == 0b10000 == 0o20 == 0x10\n",
    "\n",
    "掌握：十进制与其他进制转换，bin(), oct(), hex()；其他进制转十进制，int()\n",
    "\n",
    "转换后是字符？还是数值？\n",
    "```"
   ]
  },
  {
   "cell_type": "code",
   "execution_count": null,
   "metadata": {},
   "outputs": [],
   "source": [
    "a = bin(16)   # 转二进制\n",
    "b = oct(16)   # 转八进制\n",
    "c = hex(16)   # 转十六进制\n",
    "print(a, b, c)"
   ]
  },
  {
   "cell_type": "code",
   "execution_count": null,
   "metadata": {},
   "outputs": [],
   "source": [
    "type(a)"
   ]
  },
  {
   "cell_type": "code",
   "execution_count": null,
   "metadata": {},
   "outputs": [],
   "source": [
    "d = int(a, 2)\n",
    "e = int(b, 8)\n",
    "f = int(c, 16)\n",
    "print(d, e, f)"
   ]
  },
  {
   "cell_type": "code",
   "execution_count": null,
   "metadata": {},
   "outputs": [],
   "source": [
    "type(d)"
   ]
  },
  {
   "cell_type": "markdown",
   "metadata": {},
   "source": [
    "2. 浮点数\n",
    "\n",
    "   - 不确定小数问题"
   ]
  },
  {
   "cell_type": "code",
   "execution_count": null,
   "metadata": {},
   "outputs": [],
   "source": [
    "(0.1 + 0.2) == 0.3"
   ]
  },
  {
   "cell_type": "code",
   "execution_count": null,
   "metadata": {},
   "outputs": [],
   "source": [
    "0.1 + 0.2"
   ]
  },
  {
   "cell_type": "markdown",
   "metadata": {},
   "source": [
    "```\n",
    "计算机采用二进制小数来表示浮点数的小数部分\n",
    "```\n",
    "| 二进制 | 十进制 |\n",
    "|:---|:---|\n",
    "| 0.1 | 0.5 |\n",
    "| 0.01100110011001101 | 0.40000152587890625 |\n",
    "| 0.01001100110011001 | 0.29999542236328125 |\n",
    "| 0.0011001100110011 | 0.1999969482421875 |\n",
    "| 0.00011001100110011001 | 0.09999942779541016 |\n",
    "\n",
    "```\n",
    "部分小数不能用二进制小数完全表示，通常情况下不影响计算精度，可以用四舍五入获得精确解\n",
    "```"
   ]
  },
  {
   "cell_type": "code",
   "execution_count": null,
   "metadata": {},
   "outputs": [],
   "source": [
    "0.1 + 0.7"
   ]
  },
  {
   "cell_type": "code",
   "execution_count": null,
   "metadata": {},
   "outputs": [],
   "source": [
    "a = 3 * 0.1\n",
    "print(a)"
   ]
  },
  {
   "cell_type": "code",
   "execution_count": null,
   "metadata": {},
   "outputs": [],
   "source": [
    "b = round(a, 1)\n",
    "print(b)\n",
    "b == 0.3"
   ]
  },
  {
   "cell_type": "markdown",
   "metadata": {},
   "source": [
    "3. 复数：a+bj\n",
    "\n",
    "    - 大写J或小写j\n",
    "    \n",
    "    - 虚部系数为1时,需要显式写出"
   ]
  },
  {
   "cell_type": "code",
   "execution_count": null,
   "metadata": {},
   "outputs": [],
   "source": [
    "3+4J == 3+4j\n",
    "2+5J == 2+5j"
   ]
  },
  {
   "cell_type": "code",
   "execution_count": null,
   "metadata": {},
   "outputs": [],
   "source": [
    "2+J"
   ]
  },
  {
   "cell_type": "markdown",
   "metadata": {},
   "source": [
    "#### 数值运算操作符 ####\n",
    "\n",
    "1. a 操作符 b\n",
    "\n",
    "    - 加减乘除 + - * /\n",
    "    \n",
    "    - 取相反数 -\n",
    "    \n",
    "    - 乘方 **\n",
    "    \n",
    "    - 整除 //\n",
    "    \n",
    "    - 求余数(模运算) %"
   ]
  },
  {
   "cell_type": "code",
   "execution_count": null,
   "metadata": {},
   "outputs": [],
   "source": []
  },
  {
   "cell_type": "markdown",
   "metadata": {},
   "source": [
    "2. 几点说明\n",
    "\n",
    "    - 整数与浮点数运算的结果是浮点数\n",
    "\n",
    "    - 除法运算的结果是浮点数"
   ]
  },
  {
   "cell_type": "code",
   "execution_count": null,
   "metadata": {},
   "outputs": [],
   "source": []
  },
  {
   "cell_type": "markdown",
   "metadata": {},
   "source": [
    "#### 数字运算操作函数 ####\n",
    "\n",
    "1. function(x, ...)\n",
    "\n",
    "    - 绝对值 abs()\n",
    "        - 对复数a+bj执行绝对值是求模运算(a**2+b**2)**0.5\n",
    "        \n",
    "    - 幂次方 pow(x, n)\n",
    "    \n",
    "    - 四舍五入 round(x, n)\n",
    "        - 默认n=None，n表示四舍五入后的小数位数，位数如果不足无需补齐\n",
    "    \n",
    "    - 整数商和模运算 divmod(x, y)\n",
    "        - 等价于返回二元元组(x // y, x % y)\n",
    "    \n",
    "    - 序列最大\\最小值 max() min()\n",
    "    \n",
    "    - 求和sum(x)\n",
    "        - iterable?\n",
    "    \n",
    "    - 借助科学计算库 math\\scipy\\numpy\n",
    "        - import"
   ]
  },
  {
   "cell_type": "code",
   "execution_count": null,
   "metadata": {},
   "outputs": [],
   "source": [
    "help(abs)"
   ]
  },
  {
   "cell_type": "code",
   "execution_count": null,
   "metadata": {},
   "outputs": [],
   "source": [
    "import math   # 导入库\n",
    "math.exp(1)   # 指数运算e**x\n",
    "math.log2(2)  # 对数运算\n",
    "math.sqrt(4)  # 开平方运算，等价于4**0.5"
   ]
  },
  {
   "cell_type": "code",
   "execution_count": null,
   "metadata": {},
   "outputs": [],
   "source": [
    "import numpy as np\n",
    "a = [1, 2, 3, 4, 5]\n",
    "np.mean(a)    # 求均值\n",
    "np.median(a)  # 求中位数\n",
    "mp.std(a)     # 求标准差"
   ]
  },
  {
   "cell_type": "markdown",
   "metadata": {},
   "source": [
    "### 二、字符串类型 ###"
   ]
  },
  {
   "cell_type": "markdown",
   "metadata": {},
   "source": [
    "1. 字符串的表达\n",
    "\n",
    "    - 用\"\"或''括起来的任意字符\n",
    "    \n",
    "    - 字符串中同时有双引号和单引号的情况\n",
    "        - 双中有单，单中有双\n",
    "        - 双中有双，单中有单——转义符 \\\n",
    "        - \\ 转义符可以用来换行继续输入"
   ]
  },
  {
   "cell_type": "code",
   "execution_count": null,
   "metadata": {},
   "outputs": [],
   "source": []
  },
  {
   "cell_type": "markdown",
   "metadata": {},
   "source": [
    "2. 字符串的性质\n",
    "\n",
    "    - 字符串是一个序列——索引\n",
    "```    \n",
    "变量名[位置编号]\n",
    "```  \n",
    "        - 正向索引，从0开始，位置编号不能超过字符串的长度\n",
    "        \n",
    "        - 反向索引，从-1开始递减\n",
    "        \n",
    "        - 索引只能获得一个字符，如何获得多个字符？\n",
    "\n",
    "    - 字符串的切片\n",
    "```\n",
    "变量名[开始位置:结束位置:切片间隔]\n",
    "```\n",
    "        - 起始位置默认为0，结束位置如省略则代表取到最后一个字符，切片间隔默认为1\n",
    "        \n",
    "        - 切片范围不包含结束位置\n",
    "        \n",
    "        - 反向索引与反向切片"
   ]
  },
  {
   "cell_type": "code",
   "execution_count": 11,
   "metadata": {},
   "outputs": [],
   "source": [
    "a = \"Hello, I'm Peppa!Pig.\""
   ]
  },
  {
   "cell_type": "code",
   "execution_count": null,
   "metadata": {},
   "outputs": [],
   "source": [
    "b = 'Python'"
   ]
  },
  {
   "cell_type": "markdown",
   "metadata": {},
   "source": [
    "3. 字符串操作符\n",
    "\n",
    "    - 字符串的拼接 \n",
    "```\n",
    "字符串1 + 字符串2\n",
    "```\n",
    "\n",
    "    - 字符串的成倍复制\n",
    "```\n",
    "字符串 * n 或 n * 字符串\n",
    "```\n",
    "\n",
    "    - 成员运算\n",
    "        - 判断是否子集（任何一个连续的切片都是源字符串的子集）\n",
    "```\n",
    "子集 in 全集\n",
    "```\n",
    "        - 遍历字符串字母\n",
    "```\n",
    "for 字符 in 字符串\n",
    "```"
   ]
  },
  {
   "cell_type": "code",
   "execution_count": null,
   "metadata": {},
   "outputs": [],
   "source": []
  },
  {
   "cell_type": "markdown",
   "metadata": {},
   "source": [
    "4. 字符串处理函数\n",
    "\n",
    "    - 字符串的长度 len()\n",
    "    \n",
    "    - 字符编码 将中文字库、英文字母、数字、特殊字符等转化为计算机可识别的二进制数\n",
    "    \n",
    "        - 每一个单一字符对应一个唯一的胡不重复的二进制编码\n",
    "        - Python中使用的是Unicode编码\n",
    "        \n",
    "    - 把字符转化为Unicode码 ord()\n",
    "    \n",
    "    - 把Unicode码转化为字符 chr()"
   ]
  },
  {
   "cell_type": "code",
   "execution_count": null,
   "metadata": {},
   "outputs": [],
   "source": []
  },
  {
   "cell_type": "markdown",
   "metadata": {},
   "source": [
    "5. 字符串的处理方法\n",
    "\n",
    "    - 方法\n",
    "\n",
    "    - 字符串的分割\n",
    "```\n",
    "字符串.split('分割字符')\n",
    "```\n",
    "        - 返回一个列表\n",
    "        - 源字符串不变（该特性使用所有字符串处理方法）\n",
    "\n",
    "    - 字符串的聚合\n",
    "```\n",
    "'聚合字符'.join(可迭代数据类型)\n",
    "```\n",
    "        - 可迭代类型iterable 字符串、列表\n",
    "        - 序列类型的元素必须是字符类型\n",
    "        \n",
    "    - 删除两端特定字符\n",
    "```\n",
    "字符串.strip('删除字符')\n",
    "```\n",
    "        - strip从两侧开始搜索，遇到指定字符执行删除，遇到非指定字符，搜索停止\n",
    "        - 类似的还有左删除lstrip，右删除rstrip\n",
    "        \n",
    "    - 字符串替换\n",
    "```\n",
    "字符串.replace('被替换', '替换成')\n",
    "```\n",
    "\n",
    "    - 字符串统计\n",
    "```\n",
    "字符串.count('待统计字符串')\n",
    "```\n",
    "\n",
    "    - 字符串字母大小写\n",
    "```\n",
    "字符串.upper()  #全大写\n",
    "字符串.lower()  #全小写\n",
    "字符串.title()  #首字母大写\n",
    "```"
   ]
  },
  {
   "cell_type": "markdown",
   "metadata": {},
   "source": [
    "### 三、布尔类型 ###"
   ]
  },
  {
   "cell_type": "markdown",
   "metadata": {},
   "source": [
    "1. 布尔类型作为逻辑运算的结果\n",
    "\n",
    "    - True False\n",
    "\n",
    "    - == != > >= < <=\n",
    "    \n",
    "    - any() all()\n",
    "    \n",
    "    - and or not \n",
    "    \n",
    "    - None"
   ]
  },
  {
   "cell_type": "code",
   "execution_count": null,
   "metadata": {},
   "outputs": [],
   "source": []
  },
  {
   "cell_type": "markdown",
   "metadata": {},
   "source": [
    "2. 布尔类型作为程序流程控制的指示条件"
   ]
  },
  {
   "cell_type": "code",
   "execution_count": null,
   "metadata": {},
   "outputs": [],
   "source": [
    "n = 1500\n",
    "while True:\n",
    "    m = eval(input('请输入一个正整数'))\n",
    "    if m == n:\n",
    "        print('你猜对了！')\n",
    "        break\n",
    "    elif m > n:\n",
    "        print('太大了')\n",
    "    else:\n",
    "        print('太小了')"
   ]
  },
  {
   "cell_type": "markdown",
   "metadata": {},
   "source": [
    "3. 布尔类型作为掩码(mask)"
   ]
  },
  {
   "cell_type": "code",
   "execution_count": null,
   "metadata": {},
   "outputs": [],
   "source": [
    "import numpy as np\n",
    "x = np.array([[1, 3, 2, 5, 7]]) #定义numpy数组\n",
    "print(x > 3)\n",
    "x[x > 3]"
   ]
  },
  {
   "cell_type": "markdown",
   "metadata": {},
   "source": [
    "### 四、类型判别及类型转换 ###"
   ]
  },
  {
   "cell_type": "markdown",
   "metadata": {},
   "source": [
    "1. 类型判别\n",
    "```\n",
    "type('变量') #返回类名\n",
    "isinstance(变量, 预判类型) #承认继承，变量的类型是否预判类型的子类型\n",
    "```\n",
    "    - object，类、实例、继承"
   ]
  },
  {
   "cell_type": "code",
   "execution_count": null,
   "metadata": {},
   "outputs": [],
   "source": []
  },
  {
   "cell_type": "markdown",
   "metadata": {},
   "source": [
    "2. 字符串检查方法\n",
    "\n",
    "```\n",
    "字符串.isdigit() #字符串是否全由数字组成\n",
    "字符串.isalpha() #字符串是否全由字母组成\n",
    "字符串.isalnum() #字符串是否全由字母和数字组成\n",
    "```"
   ]
  },
  {
   "cell_type": "code",
   "execution_count": null,
   "metadata": {},
   "outputs": [],
   "source": []
  },
  {
   "cell_type": "markdown",
   "metadata": {},
   "source": [
    "3. 类型转换\n",
    "\n",
    "    - 数值转字符串 str()\n",
    "    \n",
    "    - 字符串转数值 int() float() eval()\n"
   ]
  },
  {
   "cell_type": "code",
   "execution_count": null,
   "metadata": {},
   "outputs": [],
   "source": []
  },
  {
   "cell_type": "markdown",
   "metadata": {},
   "source": [
    "## 第二部分 组合数据类型 ##"
   ]
  },
  {
   "cell_type": "markdown",
   "metadata": {},
   "source": [
    "### 一、列表 ###"
   ]
  },
  {
   "cell_type": "markdown",
   "metadata": {},
   "source": [
    "1. 列表的表达\n",
    "\n",
    "    - 序列类型：内部元素又位置关系，能通过位置序号访问其中元素\n",
    "    \n",
    "    - 列表是一个可以使用多种类型元素，支持元素的增、删、查、改操作的序列操作\n",
    "    \n",
    "    - 除了变量赋值，另一种生产方式是list(可迭代对象)\n",
    "    \n",
    "    - 可迭代对象iterable包括：字符串、元组、集合、range()等"
   ]
  },
  {
   "cell_type": "code",
   "execution_count": null,
   "metadata": {},
   "outputs": [],
   "source": [
    "list('白日依山尽，黄河入海流。')\n",
    "list(('我', '们', '很', '像'))\n",
    "list({'李雷', '韩梅梅', 'Jim', 'Lucy'})\n",
    "for i in [0, 1, 2, 3, 4]:\n",
    "    print(i)\n",
    "for i in range(5):  # range(起始数字(默认为0), 终止数字, 数字间隔(默认为1)\n",
    "    print(i)\n",
    "list(range(1, 11, 2))"
   ]
  },
  {
   "cell_type": "markdown",
   "metadata": {},
   "source": [
    "2. 列表的性质\n",
    "\n",
    "    - 列表的长度 len()\n",
    "    - 列表的索引——**与同为序列类型的字符串完全相同，支持正向负向索引\n",
    "```\n",
    "变量名[位置编号]\n",
    "```\n",
    "    - 列表的切片——**与同为序列类型的字符串完全相同，支持正向反向切片\n",
    "```\n",
    "变量名[开始位置:结束位置:切片间隔]\n",
    "```\n",
    "    "
   ]
  },
  {
   "cell_type": "code",
   "execution_count": null,
   "metadata": {},
   "outputs": [],
   "source": []
  },
  {
   "cell_type": "markdown",
   "metadata": {},
   "source": [
    "3. 列表的操作符\n",
    "\n",
    "    - 拼接 +\n",
    "    \n",
    "    - 成倍复制 *\n",
    "    \n",
    "    - 初始化列表的一种方式\n",
    "```\n",
    "[0]*10\n",
    "```"
   ]
  },
  {
   "cell_type": "code",
   "execution_count": null,
   "metadata": {},
   "outputs": [],
   "source": []
  },
  {
   "cell_type": "markdown",
   "metadata": {},
   "source": [
    "4. 列表的操作方法\n",
    "\n",
    "    - 在末尾增加元素 列表.append(待增元素)\n",
    "    \n",
    "    - 在任意位置插入元素 列表.insert(位置编号，待增元素)，意味在位置编号相应元素前插入待增元素\n",
    "    \n",
    "    - 在末尾整体并入另一列表 列表1.extend(列表2)，注意与append的区别\n",
    "    \n",
    "    - 删除列表i位置的元素 列表.pop(位置)，如不写位置信息则删除最后一个元素\n",
    "    \n",
    "    - 删除列表的第一次出现的待删除元素 列表.remove(待删元素)\n",
    "    \n",
    "    - 查找列表中第一次出现的元素的位置 列表.index(待查元素)\n",
    "    \n",
    "    - 通过先索引后赋值的方式，对元素进行修改，列表[位置]=新值\n",
    "    \n",
    "    - 列表的复制中，容易出现错误，两个变量名指向同一个列表，正确的方式是浅拷贝 列表.copy() 或者 列表[:]\n",
    "    \n",
    "    - 列表的排序 列表.sort()，注意该方法直接在列表上进行操作，无返回值，永久排序，增加参数 reverse=True 可以递减排序\n",
    "    \n",
    "    - 临时排序函数 sorted(列表) 在保持源列表不变的基础上，返回排序后的列表，也可以接收reverse参数\n",
    "    \n",
    "    - 列表.reverse() 永久翻转，无返回值\n",
    "    \n",
    "    - 使用for循环对列表进行遍历"
   ]
  },
  {
   "cell_type": "code",
   "execution_count": null,
   "metadata": {},
   "outputs": [],
   "source": []
  },
  {
   "cell_type": "markdown",
   "metadata": {},
   "source": [
    "### 二、元组###"
   ]
  },
  {
   "cell_type": "markdown",
   "metadata": {},
   "source": [
    "1. 元组的表达\n",
    "\n",
    "    - 元组是一个可以使用多种类型元素、一旦定义不能增删改的序列类型，通俗地讲，可以将元组视为“不可变的列表”"
   ]
  },
  {
   "cell_type": "code",
   "execution_count": null,
   "metadata": {},
   "outputs": [],
   "source": [
    "names = ('Peppa', 'George', 'Suzzy', 'Pedro')"
   ]
  },
  {
   "cell_type": "markdown",
   "metadata": {},
   "source": [
    "2. 元组的操作\n",
    "\n",
    "    - 不支持元素的增加、删除、修改\n",
    "    \n",
    "    - 其他操作与列表的操作完全一致"
   ]
  },
  {
   "cell_type": "code",
   "execution_count": null,
   "metadata": {},
   "outputs": [],
   "source": []
  },
  {
   "cell_type": "markdown",
   "metadata": {},
   "source": [
    "3. 元组的常见用途\n",
    "\n",
    "    - 打包与解包"
   ]
  },
  {
   "cell_type": "markdown",
   "metadata": {},
   "source": [
    "例1"
   ]
  },
  {
   "cell_type": "code",
   "execution_count": null,
   "metadata": {},
   "outputs": [],
   "source": [
    "def f1(x):\n",
    "    return x**2, x**3 #实现打包返回\n",
    "print(f1(3))\n",
    "print(type(f1(3)))"
   ]
  },
  {
   "cell_type": "code",
   "execution_count": null,
   "metadata": {},
   "outputs": [],
   "source": [
    "a, b = f1(3)          #实现解包赋值\n",
    "print(a)\n",
    "print(b)"
   ]
  },
  {
   "cell_type": "markdown",
   "metadata": {},
   "source": [
    "例2"
   ]
  },
  {
   "cell_type": "code",
   "execution_count": null,
   "metadata": {},
   "outputs": [],
   "source": [
    "numbers = [199908, 200004, 200112]\n",
    "names = ['Adam', 'Ben', 'Claire']\n",
    "list(zip(numbers, names))"
   ]
  },
  {
   "cell_type": "code",
   "execution_count": null,
   "metadata": {},
   "outputs": [],
   "source": [
    "for number, name in zip(numbers, names): #每次取到一个元组，立刻进行解包赋值\n",
    "    print(number, name)"
   ]
  },
  {
   "cell_type": "markdown",
   "metadata": {},
   "source": [
    "### 三、字典 ###"
   ]
  },
  {
   "cell_type": "markdown",
   "metadata": {},
   "source": [
    "1. 字典的表达\n",
    "\n",
    "    - 映射类型：通过“键”-“值”的映射实现数据存储与查找\n",
    "    \n",
    "    - 常规的字典是无序的"
   ]
  },
  {
   "cell_type": "code",
   "execution_count": null,
   "metadata": {},
   "outputs": [],
   "source": [
    "students = {199908:'Adam', 200004:'Ben', 200112:'Claire'}\n",
    "students"
   ]
  },
  {
   "cell_type": "markdown",
   "metadata": {},
   "source": [
    "2. 字典键的要求\n",
    "\n",
    "    - 不能重复\n",
    "    \n",
    "    - 必须是不可变类型，如果键可变，就无法找到对应存储的值\n",
    "    \n",
    "        - 不可变类型：数字、字符串、元组。\n",
    "        \n",
    "        - 可变类型：列表、字典、集合。"
   ]
  },
  {
   "cell_type": "code",
   "execution_count": null,
   "metadata": {},
   "outputs": [],
   "source": []
  },
  {
   "cell_type": "markdown",
   "metadata": {},
   "source": [
    "3. 字典的性质\n",
    "\n",
    "    - 字典的长度 len() 返回键的个数\n",
    "    \n",
    "    - 字典的索引 字典[键]"
   ]
  },
  {
   "cell_type": "code",
   "execution_count": null,
   "metadata": {},
   "outputs": [],
   "source": []
  },
  {
   "cell_type": "markdown",
   "metadata": {},
   "source": [
    "4. 字典的操作方法\n",
    "\n",
    "    - 增加键值对 字典名[新键]=新值\n",
    "    \n",
    "    - 删除键值对 del 字典名[待删除键] 或 字典名.pop[待删除键] 或 字典名.popitem()\n",
    "    \n",
    "    - 通过先索引后赋值的方式修改相应的值\n",
    "    \n",
    "    - d.get(key, default) 从字典d中获取键key对应的值，如果没有这个键，则返回default\n",
    "    \n",
    "    - d.keys()\n",
    "    \n",
    "    - d.values()\n",
    "    \n",
    "    - d.items()\n",
    "    \n",
    "    - 字典的遍历"
   ]
  },
  {
   "cell_type": "code",
   "execution_count": null,
   "metadata": {},
   "outputs": [],
   "source": [
    "s = '上海自来水来自海上'\n",
    "d = {}\n",
    "for i in s:\n",
    "    d[i] = d.get(i, 0) + 1\n",
    "    #print(d)\n",
    "print(d)"
   ]
  },
  {
   "cell_type": "code",
   "execution_count": null,
   "metadata": {},
   "outputs": [],
   "source": [
    "students = {199908:'Adam', 200004:'Ben', 200112:'Claire'}\n",
    "print(list(students.keys()))\n",
    "print(list(students.values()))"
   ]
  },
  {
   "cell_type": "code",
   "execution_count": null,
   "metadata": {},
   "outputs": [],
   "source": [
    "print(list(students.items()))\n",
    "for k, v in students.items():\n",
    "    print(k, v)"
   ]
  },
  {
   "cell_type": "markdown",
   "metadata": {},
   "source": [
    "### 四、集合"
   ]
  },
  {
   "cell_type": "markdown",
   "metadata": {},
   "source": [
    "1. 集合的表达\n",
    "\n",
    "    - 一系列互不相等元素的无序集合\n",
    "    \n",
    "    - 元素必须是不可变类型：数字、字符串或元组\n",
    "    \n",
    "    - 可以看作是没有值，或者值为None的字典"
   ]
  },
  {
   "cell_type": "code",
   "execution_count": null,
   "metadata": {},
   "outputs": [],
   "source": [
    "s = {'Alice', 'Beyonce', 'Cozzy', 'Alice'} #可用于去重\n",
    "s"
   ]
  },
  {
   "cell_type": "markdown",
   "metadata": {},
   "source": [
    "2. 集合的运算\n",
    "\n",
    "    - 并集与交集"
   ]
  },
  {
   "cell_type": "code",
   "execution_count": null,
   "metadata": {},
   "outputs": [],
   "source": [
    "Chinese_A = {'刘德华', '林青霞', '欧阳娜娜', '张曼玉', '萧蔷', '张学友'}\n",
    "Math_A = {'古天乐', '林青霞', '张曼玉', '刘青云', '萧蔷', '王祖贤'}\n",
    "both_A = Chinese_A & Math_A\n",
    "atleast_one_A = Chinese_A | Math_A\n",
    "only_one_A = Chinese_A ^ Math_A\n",
    "only_Chinese_A = Chinese_A - Math_A\n",
    "only_Math_A = Math_A - Chinese_A"
   ]
  },
  {
   "cell_type": "markdown",
   "metadata": {},
   "source": [
    "3. 集合的操作方法\n",
    "\n",
    "    - S.add(x)\n",
    "    \n",
    "    - S.remove(x)\n",
    "    \n",
    "    - len(S)\n",
    "    \n",
    "    - 借助for遍历集合"
   ]
  },
  {
   "cell_type": "markdown",
   "metadata": {},
   "source": [
    "## 第三部分 变量 ##"
   ]
  },
  {
   "cell_type": "markdown",
   "metadata": {},
   "source": [
    "1. 变量的概念\n",
    "\n",
    "    - 量 实实在在的对象：如数据、文件\n",
    "\n",
    "    - 变 可变性：增、删、查、改\n",
    "\n",
    "    - 变量定义二要素 变量名、赋值\n",
    "\n",
    "2. 变量的命名\n",
    "\n",
    "    - 哪些可以用来做变量名？\n",
    "\n",
    "        - 大写字母、小写字母、数字、下划线、汉字及其组合\n",
    "\n",
    "        - 严格区分大小写\n",
    "\n",
    "    - 哪些情况不被允许？\n",
    "\n",
    "        - 首字符不允许为数字\n",
    "\n",
    "        - 变量名中间不能有空格\n",
    "\n",
    "        - 不能与33个Python保留字相同"
   ]
  },
  {
   "cell_type": "code",
   "execution_count": null,
   "metadata": {},
   "outputs": [],
   "source": [
    "import keyword \n",
    "keyword.kwlist"
   ]
  },
  {
   "cell_type": "markdown",
   "metadata": {},
   "source": [
    "3. 变量名定义技巧\n",
    "\n",
    "    - 变量名尽可能有实际意义，表征数据的某种特性\n",
    "\n",
    "    - 下划线（推荐：变量和函数名），当变量名由多个单词组成，用_连接\n",
    "\n",
    "    - 驼峰体（推荐：类名），当变量名由多个单词组成，单词首字母大写\n",
    "\n",
    "    - 尽量避免用中文和拼音做变量名\n",
    "\n",
    "    - 特殊的变量：常量（如π，e），变量名所有字母均为大写\n",
    "\n",
    "4. 变量的赋值\n",
    "\n",
    "    - 一般赋值 通过等号自右向左进行赋值\n",
    "\n",
    "    - 增量赋值\n",
    "\n",
    "    - 打包赋值"
   ]
  },
  {
   "cell_type": "markdown",
   "metadata": {},
   "source": [
    "## 第四部分 控制流程 ##"
   ]
  },
  {
   "cell_type": "markdown",
   "metadata": {},
   "source": [
    "非顺序式的程序控制，往往需要根据一定的条件，决定程序运行路线。因此我们首先来认识一下什么叫条件测试。"
   ]
  },
  {
   "cell_type": "markdown",
   "metadata": {},
   "source": [
    "### 一、条件测试"
   ]
  },
  {
   "cell_type": "markdown",
   "metadata": {},
   "source": [
    "1. 比较运算"
   ]
  },
  {
   "cell_type": "code",
   "execution_count": null,
   "metadata": {},
   "outputs": [],
   "source": [
    "a = 10\n",
    "b = 8\n",
    "print(a > b)\n",
    "print(a < b)\n",
    "print(a >= b)\n",
    "print(a <= b)\n",
    "print(a == b)\n",
    "print(a != b)"
   ]
  },
  {
   "cell_type": "markdown",
   "metadata": {},
   "source": [
    "2. 非空判断"
   ]
  },
  {
   "cell_type": "code",
   "execution_count": null,
   "metadata": {},
   "outputs": [],
   "source": [
    "ls = []\n",
    "if ls:            #数据结构不为空、变量不为0、None、False，则条件成立\n",
    "    print('非空')\n",
    "else:\n",
    "    print('空的')"
   ]
  },
  {
   "cell_type": "markdown",
   "metadata": {},
   "source": [
    "3. 逻辑运算 与、或、非"
   ]
  },
  {
   "cell_type": "code",
   "execution_count": null,
   "metadata": {},
   "outputs": [],
   "source": [
    "a = 10\n",
    "b = 8\n",
    "c = 12\n",
    "print((a > b) and (b > c))  #与\n",
    "print((a < b) or (b > c))   #或\n",
    "print(not(a > b))           #非"
   ]
  },
  {
   "cell_type": "markdown",
   "metadata": {},
   "source": [
    "复合逻辑运算的优先级：非 > 与 > 或"
   ]
  },
  {
   "cell_type": "code",
   "execution_count": null,
   "metadata": {},
   "outputs": [],
   "source": [
    "print(True or True and False)\n",
    "print((True or True) and False)"
   ]
  },
  {
   "cell_type": "markdown",
   "metadata": {},
   "source": [
    "4. 存在运算\n",
    "\n",
    "```\n",
    "元素 in 列表/字符串/元组\n",
    "元素 not in 列表/字符串/元组\n",
    "\n",
    "```"
   ]
  },
  {
   "cell_type": "code",
   "execution_count": null,
   "metadata": {},
   "outputs": [],
   "source": [
    "brands = ['addidas', 'nike', 'lining', 'anta', 'puma']\n",
    "print('addidas' in brands)\n",
    "print('pepsi' in brands)\n",
    "print('nestle' not in brands)"
   ]
  },
  {
   "cell_type": "markdown",
   "metadata": {},
   "source": [
    "### 二、分支结构 if"
   ]
  },
  {
   "cell_type": "markdown",
   "metadata": {},
   "source": [
    "1. 单分支\n",
    "\n",
    "```\n",
    "if 条件:\n",
    "    缩进的代码块\n",
    "```"
   ]
  },
  {
   "cell_type": "code",
   "execution_count": null,
   "metadata": {},
   "outputs": [],
   "source": [
    "height = 1.65\n",
    "if height > 1.4:\n",
    "    print('你太高了, 不能买儿童票')"
   ]
  },
  {
   "cell_type": "markdown",
   "metadata": {},
   "source": [
    "2. 二分支\n",
    "\n",
    "```\n",
    "if 条件:\n",
    "    缩进的代码块\n",
    "else:\n",
    "    缩进的代码块\n",
    "```"
   ]
  },
  {
   "cell_type": "code",
   "execution_count": null,
   "metadata": {},
   "outputs": [],
   "source": [
    "age = 12\n",
    "if age <= 12:\n",
    "    print('你不到12岁，可以购买儿童票')\n",
    "else:\n",
    "    print('你超过12岁，不能购买儿童票')"
   ]
  },
  {
   "cell_type": "markdown",
   "metadata": {},
   "source": [
    "3. 多分支\n",
    "\n",
    "```\n",
    "if 条件:\n",
    "    缩进的代码块\n",
    "elif 条件:\n",
    "    缩进的代码块\n",
    "elif 条件:\n",
    "    缩进的代码块\n",
    "...\n",
    "else:\n",
    "    缩进的代码块\n",
    "```\n",
    "\n",
    "不管有多少分支，最后只执行一个分支"
   ]
  },
  {
   "cell_type": "code",
   "execution_count": null,
   "metadata": {},
   "outputs": [],
   "source": [
    "age = 65\n",
    "if age <= 12:\n",
    "    print('你不到12岁，可以购买儿童票')\n",
    "elif age >= 65:\n",
    "    print('你超过65岁，可以购买老人票')\n",
    "else:\n",
    "    print('你不能购买儿童票或老人票')"
   ]
  },
  {
   "cell_type": "markdown",
   "metadata": {},
   "source": [
    "4. 嵌套语句\n",
    "\n",
    "例：65岁以上，或12岁以下身高不足1.4米的儿童，可以购买半价票"
   ]
  },
  {
   "cell_type": "markdown",
   "metadata": {},
   "source": [
    "### 三、遍历循环 for"
   ]
  },
  {
   "cell_type": "markdown",
   "metadata": {},
   "source": [
    "1. 基本形式\n",
    "\n",
    "```\n",
    "for 元素 in 可迭代对象:\n",
    "    执行语句\n",
    "```"
   ]
  },
  {
   "cell_type": "markdown",
   "metadata": {},
   "source": [
    "Python的更简洁。以下是C语言中求1到100加和的方法\n",
    "```\n",
    "# include <stdio.h>\n",
    "int main(void)\n",
    "{\n",
    "    int i;\n",
    "    int sum = 0;  //sum的英文意思是“总和”\n",
    "    for (i=1; i<=100; ++i)  //++是自加的意思, ++i相当于i = i + 1\n",
    "    {\n",
    "        sum = sum + i;  /*等价于sum += i;但是不建议这么写, 因为sum = sum + i看起来更清楚、更舒服*/\n",
    "    }\n",
    "    printf(\"sum = %d\\n\", sum);\n",
    "    return 0;\n",
    "}\n",
    "```"
   ]
  },
  {
   "cell_type": "markdown",
   "metadata": {},
   "source": [
    "2. 执行过程\n",
    "\n",
    "从可迭代对象中，依次取出每一个元素，进行相应操作"
   ]
  },
  {
   "cell_type": "code",
   "execution_count": null,
   "metadata": {},
   "outputs": [],
   "source": [
    "# 直接迭代——列表、元组、集合、字符串\n",
    "graduates = ['李雷', '韩梅梅', 'Jim', 'Lucy']\n",
    "for graduate in graduates:\n",
    "    print('Congratulations, '+graduate)"
   ]
  },
  {
   "cell_type": "code",
   "execution_count": null,
   "metadata": {},
   "outputs": [],
   "source": [
    "# 变换迭代——字典\n",
    "students = {199908:'Adam', 200004:'Ben', 200112:'Claire'}\n",
    "for k, v in students.items():\n",
    "    print(k, v)\n",
    "for student in students:\n",
    "    print(student)"
   ]
  },
  {
   "cell_type": "code",
   "execution_count": null,
   "metadata": {},
   "outputs": [],
   "source": [
    "# range()对象\n",
    "res = []\n",
    "for i in range(100):\n",
    "    res.append(i**2)\n",
    "print(res)\n",
    "print(res[:5])\n",
    "print(res[-1])"
   ]
  },
  {
   "cell_type": "code",
   "execution_count": null,
   "metadata": {},
   "outputs": [],
   "source": [
    "res = []\n",
    "for i in range(1, 10, 2):\n",
    "    res.append(i**2)\n",
    "print(res)"
   ]
  },
  {
   "cell_type": "markdown",
   "metadata": {},
   "source": [
    "3. 循环控制 break continue"
   ]
  },
  {
   "cell_type": "code",
   "execution_count": null,
   "metadata": {},
   "outputs": [],
   "source": [
    "# break 结束整个循环\n",
    "student_scores = [85, 87, 89, 95, 99, 73, 58, 55, 72, 81] #1个班10个学生，超过1人不及格则整个班不合格\n",
    "i = 0\n",
    "for score in student_scores:\n",
    "    if score < 60:\n",
    "        i += 1\n",
    "    if i == 2:\n",
    "        print('该班级不合格')\n",
    "        break"
   ]
  },
  {
   "cell_type": "code",
   "execution_count": 29,
   "metadata": {
    "collapsed": true
   },
   "outputs": [
    {
     "name": "stdout",
     "output_type": "stream",
     "text": [
      "第0个学生，分数为85，不合格，需要警示\n",
      "第1个学生，分数为87，不合格，需要警示\n",
      "第2个学生，分数为89，不合格，需要警示\n",
      "第3个学生，分数为95，不合格，需要警示\n",
      "第4个学生，分数为99，不合格，需要警示\n",
      "第5个学生，分数为73，不合格，需要警示\n",
      "第8个学生，分数为72，不合格，需要警示\n",
      "第9个学生，分数为81，不合格，需要警示\n"
     ]
    }
   ],
   "source": [
    "# continue 结束本次循环\n",
    "student_scores = [85, 87, 89, 95, 99, 73, 58, 55, 72, 81] #1个班10个学生，输出需要警示的学生\n",
    "i = 0\n",
    "for i in range(len(student_scores)):\n",
    "    if student_scores[i] < 60:\n",
    "        continue\n",
    "    print('第{0}个学生，分数为{1}，不合格，需要警示'.format(i, student_scores[i]))"
   ]
  },
  {
   "cell_type": "markdown",
   "metadata": {},
   "source": [
    "4. for 与 else 的配合\n",
    "\n",
    "如果for 循环全部执行完毕，没有被break中止，则运行else块"
   ]
  },
  {
   "cell_type": "code",
   "execution_count": null,
   "metadata": {},
   "outputs": [],
   "source": [
    "student_scores = [85, 87, 89, 95, 99, 73, 58, 55, 72, 81] #1个班10个学生，超过1人不及格则整个班不合格\n",
    "i = 0\n",
    "for score in student_scores:\n",
    "    if score < 60:\n",
    "        i += 1\n",
    "    if i == 2:\n",
    "        print('该班级不合格')\n",
    "        break\n",
    "else:\n",
    "    print('产品抽检合格！')"
   ]
  },
  {
   "cell_type": "markdown",
   "metadata": {},
   "source": [
    "### 四、无限循环 while"
   ]
  },
  {
   "cell_type": "markdown",
   "metadata": {},
   "source": [
    "1. 为什么要用while？\n",
    "    - 经典题目：猜数字\n",
    "\n",
    "代码可能要重复执行，但又不知道具体执行多少次\n",
    "\n"
   ]
  },
  {
   "cell_type": "code",
   "execution_count": null,
   "metadata": {
    "collapsed": true
   },
   "outputs": [],
   "source": [
    "import random\n",
    "if __name__ == '__main__':\n",
    "    yourname = input(\"你好! 你的名字是什么?\\n\");\n",
    "    print (\"欢迎来到猜数字游戏 .\" + yourname)\n",
    "    print (\"我猜了一个数字在1到20之间, 你能猜到它吗?\")\n",
    "\n",
    "    random_num = random.randint(1,20)\n",
    "    time = 0\n",
    "    while time < 5:\n",
    "        num = int(input(\"请输入你的数字:\"))\n",
    "        if num == random_num:\n",
    "            break;\n",
    "        elif num < random_num:\n",
    "            print (\"比我的数小.\")\n",
    "        else:\n",
    "            print (\"比我的数大.\")\n",
    "        time = time+1\n",
    "    if time < 5:\n",
    "        print (\"恭喜你你赢了^_^.\")\n",
    "    else:\n",
    "        print (\"别灰心，再来一次你可以的^_^\")"
   ]
  },
  {
   "cell_type": "markdown",
   "metadata": {},
   "source": [
    "2. while循环的一般形式\n",
    "\n",
    "```\n",
    "while 判断条件:\n",
    "    执行语句\n",
    "```"
   ]
  },
  {
   "cell_type": "markdown",
   "metadata": {},
   "source": [
    "3. while 与 continue"
   ]
  },
  {
   "cell_type": "code",
   "execution_count": null,
   "metadata": {},
   "outputs": [],
   "source": [
    "#输出10以内的奇数\n",
    "i = 0\n",
    "while i < 10:\n",
    "    i += 1\n",
    "    if i % 2 == 0:\n",
    "        continue\n",
    "    print(i)"
   ]
  },
  {
   "cell_type": "markdown",
   "metadata": {},
   "source": [
    "4. while 与 else\n",
    "\n",
    "如果while循环全部执行完毕，没有被break中止，则运行else块"
   ]
  },
  {
   "cell_type": "code",
   "execution_count": null,
   "metadata": {},
   "outputs": [],
   "source": [
    "count = 0\n",
    "while count <= 5：\n",
    "    count += 1\n",
    "    print('Loop', count)\n",
    "else:\n",
    "    print('循环正常执行完了')"
   ]
  },
  {
   "cell_type": "markdown",
   "metadata": {},
   "source": [
    "5. 小例子：\n",
    "删除列表中的特定值"
   ]
  },
  {
   "cell_type": "code",
   "execution_count": null,
   "metadata": {},
   "outputs": [],
   "source": [
    "pets = ['dog', 'cat', 'dog', 'pig', 'snake', 'goldfish', 'cat', 'spider', 'cat']\n",
    "while 'cat' in pets:\n",
    "    pets.remove('cat')\n",
    "print(pets)"
   ]
  },
  {
   "cell_type": "markdown",
   "metadata": {},
   "source": [
    "6. 小例子：读书，把未读书籍存入已读列表"
   ]
  },
  {
   "cell_type": "code",
   "execution_count": null,
   "metadata": {},
   "outputs": [],
   "source": [
    "not_read =['红楼梦', '水浒传', '三国演义', '西游记', '步步惊心', '斗破苍穹', '霸道总裁爱上我', '星辰变']\n",
    "have_read = []\n",
    "while not_read:  #not_read非空，循环继续，否则终止\n",
    "    book = not_read.pop()\n",
    "    have_read.append(book)\n",
    "    print('我已经读过《{}》了'.format(book))\n",
    "print(not_read)\n",
    "print(have_read)   "
   ]
  },
  {
   "cell_type": "markdown",
   "metadata": {},
   "source": [
    "### 五、控制语句注意问题\n",
    "\n",
    "1. 尽可能减少多层嵌套，可读性差"
   ]
  },
  {
   "cell_type": "code",
   "execution_count": null,
   "metadata": {},
   "outputs": [],
   "source": [
    "if True:\n",
    "    pass\n",
    "    if True:\n",
    "        pass\n",
    "        if True:\n",
    "            pass"
   ]
  },
  {
   "cell_type": "markdown",
   "metadata": {},
   "source": [
    "2. 避免死循环"
   ]
  },
  {
   "cell_type": "code",
   "execution_count": null,
   "metadata": {},
   "outputs": [],
   "source": [
    "while True:\n",
    "    print('念天地之无穷，独怆然而涕下。')"
   ]
  },
  {
   "cell_type": "markdown",
   "metadata": {},
   "source": [
    "3. 封装过于复杂的判断条件，包含太多and or not，导致可读性大大下降"
   ]
  },
  {
   "cell_type": "code",
   "execution_count": null,
   "metadata": {},
   "outputs": [],
   "source": [
    "a, b, c, d, e = 10, 8, 6, 4, 0\n",
    "if (a > b) and (c > d) and (not e):\n",
    "    print('看晕了！')"
   ]
  },
  {
   "cell_type": "code",
   "execution_count": null,
   "metadata": {},
   "outputs": [],
   "source": [
    "numbers = (10, 8, 6, 4, 0)\n",
    "\n",
    "def judge(num):\n",
    "    a, b, c, d, e = num\n",
    "    x = a > b\n",
    "    y = c > d\n",
    "    z = not e\n",
    "    return x and y and z\n",
    "\n",
    "if judge(numbers):\n",
    "    print('就这个feel，feel，feel, feel, 倍儿爽！')"
   ]
  }
 ],
 "metadata": {
  "kernelspec": {
   "display_name": "Python 3",
   "language": "python",
   "name": "python3"
  },
  "language_info": {
   "codemirror_mode": {
    "name": "ipython",
    "version": 3
   },
   "file_extension": ".py",
   "mimetype": "text/x-python",
   "name": "python",
   "nbconvert_exporter": "python",
   "pygments_lexer": "ipython3",
   "version": "3.7.4"
  }
 },
 "nbformat": 4,
 "nbformat_minor": 2
}
