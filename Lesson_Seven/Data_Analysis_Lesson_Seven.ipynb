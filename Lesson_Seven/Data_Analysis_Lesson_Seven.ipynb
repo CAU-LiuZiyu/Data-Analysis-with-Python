{
 "cells": [
  {
   "cell_type": "markdown",
   "metadata": {},
   "source": [
    "# 第七讲 Numpy"
   ]
  },
  {
   "cell_type": "markdown",
   "metadata": {},
   "source": [
    "*课前问题：有了列表、元组那么多组合数据类型，为什么还要用Numpy？*"
   ]
  },
  {
   "cell_type": "code",
   "execution_count": null,
   "metadata": {},
   "outputs": [],
   "source": [
    "%run answer.py"
   ]
  },
  {
   "cell_type": "markdown",
   "metadata": {},
   "source": [
    "## 第一部分 Numpy入门"
   ]
  },
  {
   "cell_type": "markdown",
   "metadata": {},
   "source": [
    "[Numpy](https://numpy.org/)是一个开源的python科学计算基础库。\n",
    "\n",
    "1.一个强大的N维数组对象ndarray\n",
    "\n",
    "2.广播功能函数\n",
    "\n",
    "3.整合C/C++/Fortran代码的工具\n",
    "\n",
    "4.线性代数、傅里叶变换、随机数生成等功能\n",
    "\n",
    "NumPy是SciPy、Pandas等数据处理或科学计算库的基础。\n",
    "\n",
    "### 1. Ndarray\n",
    "\n",
    "**一维数据**：一般认为，是对同一个参数多次观测而得到的一组数据。\n",
    "\n",
    "**二维数据**：由多个一维数据构成，是一维数据组合形式。\n",
    "\n",
    "**高维数据**：高维数据仅利用最基本的二元关系展示数据间的复杂结构\n",
    "\n",
    "如果我们使用Python的基本数据类型来表示一维数据，可以使用列表和集合类型"
   ]
  },
  {
   "cell_type": "code",
   "execution_count": null,
   "metadata": {},
   "outputs": [],
   "source": [
    "a = ['00120345','00120346', '00120347'] #有序\n",
    "\n",
    "b = {'小蓝', '小红', '小黄'} #无序"
   ]
  },
  {
   "cell_type": "markdown",
   "metadata": {},
   "source": [
    "如果我们要表征二维数据或高维数据，可以使用嵌套列表。"
   ]
  },
  {
   "cell_type": "code",
   "execution_count": null,
   "metadata": {},
   "outputs": [],
   "source": [
    "a = [[20190101,20190102,20190103],\n",
    "     ['happy','sad','happy']]"
   ]
  },
  {
   "cell_type": "markdown",
   "metadata": {},
   "source": [
    "但如前所述，如果使用嵌套列表，会存在很多问题，使用起来也很不方便。\n",
    "\n",
    "【例1】如果我们要计算$\\frac{A^{2} + B^{2}}{2}$，其中，A和B是一维数组"
   ]
  },
  {
   "cell_type": "code",
   "execution_count": null,
   "metadata": {},
   "outputs": [],
   "source": [
    "def pySum(a, b):\n",
    "    c=[]\n",
    "    for i in range(len(a)):\n",
    "        c.append((a[i]**2+b[i]**2)/2)\n",
    "    return c\n",
    "\n",
    "a = [0, 1, 2, 3, 4]\n",
    "b = [9, 8, 7, 6, 5]\n",
    "print(pySum(a, b))"
   ]
  },
  {
   "cell_type": "markdown",
   "metadata": {},
   "source": [
    "上述方法我们还是将我们的工作点放在一个一个元素的运算上，这并不是一种科学计算（不够抽象）的思想和方式。\n",
    "\n",
    "Numpy使用了另外一种思路。如下："
   ]
  },
  {
   "cell_type": "code",
   "execution_count": null,
   "metadata": {},
   "outputs": [],
   "source": [
    "import numpy as np  #引入numpy模块\n",
    "import pandas as pd\n",
    "\n",
    "def npSum(a, b):    \n",
    "    c = (a**2 + b**2) / 2   # '**' 数组中每个元素的次方\n",
    "    return c\n",
    "\n",
    "a = np.array([0,1,2,3,4]) #生成一个数组\n",
    "b = np.array([9,8,7,6,5])\n",
    "print(npSum(a, b))"
   ]
  },
  {
   "cell_type": "markdown",
   "metadata": {},
   "source": [
    "#### 1.1 ndarray\n",
    "\n",
    "- **ndarray的优势**\n",
    "\n",
    "    1. 数组对象可以去掉元素间运算所需的循环，使一维向量更像单个数据。\n",
    "\n",
    "    2. 通过设置专门的数组对象，经过优化，可以提升这类应用的运算速度。\n",
    "\n",
    "        - NumPy的底层实现是由C来完成的，在进行数组运算的时候，底层的C会提供非常高效和快速的运算性能。\n",
    "        - 由于在科学计算中，一个维度所有数据的类型往往相同（见一维数据的一般定义），数组对象采用相同的数据类型，有助于节省运算和存储空间。"
   ]
  },
  {
   "cell_type": "markdown",
   "metadata": {},
   "source": [
    "- **ndarray的内部构成**\n",
    "\n",
    "    1.实际的数据（data）\n",
    "\n",
    "    2.描述这些数据的元数据（metadata），如数据维度、数据类型等\n",
    "\n",
    "ndarray数组一般要求所有元素类型相同（同质），数组下标从0开始。\n",
    "\n",
    "注：当然，ndarray数组可以由非同质对象构成。其元素为对象类型。非同质ndarray无法有效发挥NumPy优势，尽量避免使用。\n",
    "\n",
    "- **ndarray的一些属性**"
   ]
  },
  {
   "cell_type": "code",
   "execution_count": null,
   "metadata": {},
   "outputs": [],
   "source": [
    "a=np.array([[0,1,2,3,4],\n",
    "            [9,8,7,6,5]])\n",
    "a"
   ]
  },
  {
   "cell_type": "code",
   "execution_count": null,
   "metadata": {},
   "outputs": [],
   "source": [
    "print(a) # 打印时元素由空格分割"
   ]
  },
  {
   "cell_type": "code",
   "execution_count": null,
   "metadata": {},
   "outputs": [],
   "source": [
    "a.ndim  # 秩，即轴的数量或维度的数量"
   ]
  },
  {
   "cell_type": "code",
   "execution_count": null,
   "metadata": {},
   "outputs": [],
   "source": [
    "a.shape # ndarray对象的尺度，对于矩阵，n行m列"
   ]
  },
  {
   "cell_type": "code",
   "execution_count": null,
   "metadata": {},
   "outputs": [],
   "source": [
    "a.size  # ndarray对象元素的个数，相当于.shape中的n*m的值"
   ]
  },
  {
   "cell_type": "code",
   "execution_count": null,
   "metadata": {},
   "outputs": [],
   "source": [
    "a.dtype # ndarray对象的元素类型"
   ]
  },
  {
   "cell_type": "markdown",
   "metadata": {},
   "source": [
    "[dtype有哪些？为什么？](https://numpy.org/doc/1.18/user/basics.types.html)"
   ]
  },
  {
   "cell_type": "code",
   "execution_count": null,
   "metadata": {},
   "outputs": [],
   "source": [
    "a.itemsize  # ndarray对象中每个元素的大小，以字节为单位"
   ]
  },
  {
   "cell_type": "markdown",
   "metadata": {},
   "source": [
    "*轴与秩*\n",
    "\n",
    "轴（axis）:保存数据的维度\n",
    "\n",
    "秩（rank）:轴的数量，即有几个维度\n",
    "\n",
    "ndarray的元素类型（支持的数据类型可自行百度或见[numpy doc](https://numpy.org/doc/1.18/user/basics.types.html)）\n",
    "\n",
    "    1. 科学计算涉及数据较多，对存储和性能都有较高要求。\n",
    "\n",
    "    2. 对元素类型精细定义，有助于NumPy合理使用存储空间并优化性能。\n",
    "\n",
    "    3. 对元素类型精细定义，有助于程序员对程序规模有合理评估。"
   ]
  },
  {
   "cell_type": "markdown",
   "metadata": {},
   "source": [
    "- **ndarray的创建**\n",
    "\n",
    "1.从Python中的列表、元组等类型中创建ndarray数组"
   ]
  },
  {
   "cell_type": "code",
   "execution_count": null,
   "metadata": {},
   "outputs": [],
   "source": [
    "x = np.array(list/tuple)\n",
    "x = np.array(list/tuple, dtype = np.float32) #指定元素的数据类型\n",
    "\n",
    "# 当np.array()不指定dtype时，NumPy根据数据情况关联一个dtype类型"
   ]
  },
  {
   "cell_type": "markdown",
   "metadata": {},
   "source": [
    "2.使用NumPy中的内建函数来创建ndarray数组，如：arange,ones,zero等np.zeros()\n",
    "\n",
    "函数|说明\n",
    ":--|:--\n",
    "np.arange(n)|类似range()函数，返回ndarray类型，元素从0到n-1\n",
    "np.ones(shape）|根据shape生成一个全1数组，shape是元组类型\n",
    "np.zeros(shape)|根据shape生成一个全0数组，shape是元组类型\n",
    "np.full(shape,val)|根据shape生成一个数组，每个元素值都是val\n",
    "np.eye(n)|创建一个正方的n\\*n单位矩阵，对角线为1，其余为0\n"
   ]
  },
  {
   "cell_type": "code",
   "execution_count": null,
   "metadata": {},
   "outputs": [],
   "source": [
    "a = np.arange(100)\n",
    "a"
   ]
  },
  {
   "cell_type": "code",
   "execution_count": null,
   "metadata": {},
   "outputs": [],
   "source": [
    "a = np.ones((3,4), dtype=np.int8)\n",
    "a"
   ]
  },
  {
   "cell_type": "code",
   "execution_count": null,
   "metadata": {},
   "outputs": [],
   "source": [
    "a = np.zeros((3, 3, 3))\n",
    "a"
   ]
  },
  {
   "cell_type": "code",
   "execution_count": null,
   "metadata": {},
   "outputs": [],
   "source": [
    "a = np.full((3, 3), 666)\n",
    "a"
   ]
  },
  {
   "cell_type": "code",
   "execution_count": null,
   "metadata": {},
   "outputs": [],
   "source": [
    "a = np.eye(3)\n",
    "a"
   ]
  },
  {
   "cell_type": "markdown",
   "metadata": {},
   "source": [
    "除了上述方法，还可以：\n",
    "\n",
    "函数|说明\n",
    ":--|:--\n",
    "np.ones_like(a)|根据数组a的形状生成一个全1的数组\n",
    "np.zeros_like(a)|根据数组a的形状生成一个全0的数组\n",
    "np.full_like(a,val)|根据数组a的形状状生成一个数组,每个元素值都是val\n",
    "np.linspace(start,end,num)|根据起止数据及元素个数等间距地填充数据，形成数组，如果将参数endpoint置为False,end将不作为最后一个元素出现\n",
    "np.concatenate(a)|将两个或多个数组合并成一个新数组,a为一个元组"
   ]
  },
  {
   "cell_type": "code",
   "execution_count": null,
   "metadata": {},
   "outputs": [],
   "source": [
    "a = np.ones_like([99, 8, 1])\n",
    "a"
   ]
  },
  {
   "cell_type": "code",
   "execution_count": null,
   "metadata": {},
   "outputs": [],
   "source": [
    "a = np.zeros_like([[3], [3,4], [3,4,5]])\n",
    "a"
   ]
  },
  {
   "cell_type": "code",
   "execution_count": null,
   "metadata": {},
   "outputs": [],
   "source": [
    "a = np.full_like([1, 1, 1, 1], 666)\n",
    "a"
   ]
  },
  {
   "cell_type": "code",
   "execution_count": null,
   "metadata": {},
   "outputs": [],
   "source": [
    "a = np.linspace(1, 10, 4)\n",
    "a"
   ]
  },
  {
   "cell_type": "code",
   "execution_count": null,
   "metadata": {},
   "outputs": [],
   "source": [
    "b = np.linspace(1, 10, 4, endpoint=False)\n",
    "b"
   ]
  },
  {
   "cell_type": "code",
   "execution_count": null,
   "metadata": {},
   "outputs": [],
   "source": [
    "c = np.concatenate((a, b))\n",
    "c"
   ]
  },
  {
   "cell_type": "markdown",
   "metadata": {},
   "source": [
    "此外，还可以：\n",
    "\n",
    "3.从字节流（raw bytes）中创建ndarray数组。\n",
    "\n",
    "4.从文件中读取特定格式，创建ndarray数组。\n",
    "\n",
    "本部分暂略。"
   ]
  },
  {
   "cell_type": "markdown",
   "metadata": {},
   "source": [
    "- **ndarray的维度变换**\n",
    "\n",
    "对于创建后的ndarray数组，可以对其进行维度变换和元素类型变换，这在数据整理和计算环节应用广泛。\n",
    "\n",
    "维度变换的方法主要有：\n",
    "\n",
    "方法|说明\n",
    ":--|:--\n",
    ".reshape(shape)|不改变数组元素，返回一个shape（shape是一个元组）形状的数组，原数组不变\n",
    ".resize(shape)|与.reshape()功能一致，但修改原数组\n",
    ".swapaxes(ax1,ax2)|将数组n个维度中的两个维度进行调换\n",
    ".flatten()|对数组进行降维，返回折叠后的一维数组，原数组不变\n",
    "\n",
    "*ndarray转为列表*  .tolist() 方法"
   ]
  },
  {
   "cell_type": "code",
   "execution_count": null,
   "metadata": {
    "scrolled": false
   },
   "outputs": [],
   "source": [
    "a = np.ones((2,3,4),dtype=np.int32)\n",
    "a"
   ]
  },
  {
   "cell_type": "code",
   "execution_count": null,
   "metadata": {
    "scrolled": true
   },
   "outputs": [],
   "source": [
    "a.reshape((5, 3))"
   ]
  },
  {
   "cell_type": "code",
   "execution_count": null,
   "metadata": {
    "scrolled": true
   },
   "outputs": [],
   "source": [
    "a"
   ]
  },
  {
   "cell_type": "code",
   "execution_count": null,
   "metadata": {},
   "outputs": [],
   "source": [
    "a.resize((3, 8))"
   ]
  },
  {
   "cell_type": "code",
   "execution_count": null,
   "metadata": {},
   "outputs": [],
   "source": [
    "a"
   ]
  },
  {
   "cell_type": "code",
   "execution_count": null,
   "metadata": {},
   "outputs": [],
   "source": [
    "a = np.ones((2,3,4),dtype=np.int32)\n",
    "a"
   ]
  },
  {
   "cell_type": "code",
   "execution_count": null,
   "metadata": {},
   "outputs": [],
   "source": [
    "a.flatten()"
   ]
  },
  {
   "cell_type": "code",
   "execution_count": null,
   "metadata": {},
   "outputs": [],
   "source": [
    "a"
   ]
  },
  {
   "cell_type": "code",
   "execution_count": null,
   "metadata": {
    "scrolled": true
   },
   "outputs": [],
   "source": [
    "b = a.flatten()\n",
    "b"
   ]
  },
  {
   "cell_type": "code",
   "execution_count": null,
   "metadata": {},
   "outputs": [],
   "source": [
    "a = np.ones((2,3,4),dtype=np.int32)\n",
    "a"
   ]
  },
  {
   "cell_type": "code",
   "execution_count": null,
   "metadata": {},
   "outputs": [],
   "source": [
    "b = a.astype(np.float)\n",
    "b\n",
    "\n",
    "#astype()方法一定会创建新的数组（原始数据的一个拷贝），即使两个类型一致"
   ]
  },
  {
   "cell_type": "code",
   "execution_count": null,
   "metadata": {},
   "outputs": [],
   "source": [
    "a = np.ones((2,3,4),dtype=np.int32)\n",
    "a"
   ]
  },
  {
   "cell_type": "code",
   "execution_count": null,
   "metadata": {},
   "outputs": [],
   "source": [
    "a.tolist()"
   ]
  },
  {
   "cell_type": "markdown",
   "metadata": {},
   "source": [
    "- **ndarray的操作**\n",
    "\n",
    "数组的索引和切片\n",
    "\n",
    "索引：获取数组中特定位置元素的过程\n",
    "\n",
    "切片：获取数组元素子集的过程\n",
    "\n",
    "其中，一维数组的索引和切片与python的列表类似，同样允许反向切片和反向索引\n",
    "\n",
    "另外需要注意的是，每个维度一个索引值，逗号分割"
   ]
  },
  {
   "cell_type": "code",
   "execution_count": null,
   "metadata": {},
   "outputs": [],
   "source": [
    "a=np.arange(1, 10)\n",
    "a"
   ]
  },
  {
   "cell_type": "code",
   "execution_count": null,
   "metadata": {},
   "outputs": [],
   "source": [
    "a[2]"
   ]
  },
  {
   "cell_type": "code",
   "execution_count": null,
   "metadata": {},
   "outputs": [],
   "source": [
    "a[1:4:2] #切片  [起止编号：终止编号（不含）：步长]"
   ]
  },
  {
   "cell_type": "markdown",
   "metadata": {},
   "source": [
    "对多维数组而言，索引操作如下："
   ]
  },
  {
   "cell_type": "code",
   "execution_count": null,
   "metadata": {},
   "outputs": [],
   "source": [
    "a=np.arange(50).reshape((2,5,5))\n",
    "a"
   ]
  },
  {
   "cell_type": "code",
   "execution_count": null,
   "metadata": {},
   "outputs": [],
   "source": [
    "a[1,2,3]"
   ]
  },
  {
   "cell_type": "code",
   "execution_count": null,
   "metadata": {},
   "outputs": [],
   "source": [
    "a[0,1,2]"
   ]
  },
  {
   "cell_type": "code",
   "execution_count": null,
   "metadata": {},
   "outputs": [],
   "source": [
    "a[-1,-2,-3]  # -1表示数组中最后一个元素值，-2表示倒数第二个元素值"
   ]
  },
  {
   "cell_type": "markdown",
   "metadata": {},
   "source": [
    "对多维数组而言，切片操作如下："
   ]
  },
  {
   "cell_type": "code",
   "execution_count": null,
   "metadata": {},
   "outputs": [],
   "source": [
    "a[:,1,-3]  #选取整个维度，此处表示第一维度的每个元素都要进行切片\n"
   ]
  },
  {
   "cell_type": "code",
   "execution_count": null,
   "metadata": {},
   "outputs": [],
   "source": [
    "a[:,1:3,:]  #每个维度切片方法与一维数组相同"
   ]
  },
  {
   "cell_type": "code",
   "execution_count": null,
   "metadata": {},
   "outputs": [],
   "source": [
    "a[:,:,::2]     # 每个维度可以使用步长跳跃切片"
   ]
  },
  {
   "cell_type": "markdown",
   "metadata": {},
   "source": [
    "- **ndarray数组的运算**\n",
    "\n",
    "1.数组与标量之间的运算作用于数组的每一个元素\n",
    "\n",
    "相当于矩阵乘以标量\n",
    "\n",
    "$$        \\alpha \\cdot \\begin{pmatrix}\n",
    "        x_{11} & x_{12} & \\cdots & x_{1n} \\\\\n",
    "        x_{21} & x_{22} & \\cdots & x_{2n} \\\\\n",
    "         \\vdots & \\vdots & \\ddots & \\vdots \\\\\n",
    "        x_{m1} & x_{m2} & \\cdots & x_{mn} \\\\\n",
    "        \\end{pmatrix} = \n",
    "        \\begin{pmatrix}\n",
    "        \\alpha \\cdot x_{11} & \\alpha \\cdot x_{12} & \\cdots & \\alpha \\cdot x_{1n} \\\\\n",
    "        \\alpha \\cdot x_{21} & \\alpha \\cdot x_{22} & \\cdots & \\alpha \\cdot x_{2n} \\\\\n",
    "         \\vdots & \\vdots & \\ddots & \\vdots \\\\\n",
    "        \\alpha \\cdot x_{m1} & \\alpha \\cdot x_{m2} & \\cdots & \\alpha \\cdot x_{mn} \\\\\n",
    "        \\end{pmatrix} $$"
   ]
  },
  {
   "cell_type": "code",
   "execution_count": null,
   "metadata": {},
   "outputs": [],
   "source": [
    "a=np.arange(50).reshape((2,5,5))\n",
    "a"
   ]
  },
  {
   "cell_type": "code",
   "execution_count": null,
   "metadata": {},
   "outputs": [],
   "source": [
    "a.mean()  #求a中所有元素平均值"
   ]
  },
  {
   "cell_type": "code",
   "execution_count": null,
   "metadata": {},
   "outputs": [],
   "source": [
    "a = a / a.mean()  #计算a与元素平均值的商\n",
    "a"
   ]
  },
  {
   "cell_type": "markdown",
   "metadata": {},
   "source": [
    "- **NumPy一元函数**\n",
    "\n",
    "对ndarray中的数据执行元素级运算的函数\n",
    "\n",
    "<table>\n",
    "    <tr>\n",
    "        <th>函数</th>\n",
    "        <th>说明</th>\n",
    "    </tr>\n",
    "    <tr>\n",
    "        <td>np.abs(x) np.fabs(x)</td>\n",
    "        <td>计算数组各元素（整数、浮点数）的绝对值</td>\n",
    "    </tr>\n",
    "    <tr>\n",
    "        <td>np.sqrt(x)</td>\n",
    "        <td>计算数组各元素的平方根</td>\n",
    "    </tr>\n",
    "    <tr>\n",
    "        <td>np.square(x)</td>\n",
    "        <td>计算数组各元素的平方</td>\n",
    "    </tr>\n",
    "    <tr>\n",
    "        <td>np.log(x) np.log10(x)</td>\n",
    "        <td rowspan=\"2\">计算数组各元素的自然对数、10底对数和2底对数</td>\n",
    "    </tr>\n",
    "    <tr>\n",
    "        <td>np.log2(x) </td>\n",
    "    </tr>\n",
    "    <tr>\n",
    "        <td>np.ceil(x) np.floor(x)</td>\n",
    "        <td>计算数组各元素的ceiling值（向上取整）或floor值（向下取整）</td>\n",
    "    </tr>\n",
    "    <tr>\n",
    "        <td>np.rint(x)</td>\n",
    "        <td>计算数组各元素的四舍五入值</td>\n",
    "    </tr>\n",
    "    <tr>\n",
    "        <td>np.modf(x)</td>\n",
    "        <td>将数组各元素的小数和整数部分以两个独立数组形式返回</td>\n",
    "    </tr>\n",
    "    <tr>\n",
    "        <td>np.cos(x) np.cosh(x)</td> \n",
    "        <td rowspan=\"3\">计算数组各元素的普通型和双曲型三角函数</td>\n",
    "    </tr>\n",
    "    <tr>\n",
    "        <td>np.sin(x) np.sinh(x)</td>\n",
    "    </tr>\n",
    "    <tr>\n",
    "        <td>np.tan(x) np.tanh(x)</td>\n",
    "    </tr>\n",
    "    <tr>\n",
    "        <td>np.exp(x)</td>\n",
    "        <td>计算数组各元素的指数值</td>\n",
    "    </tr>\n",
    "    <tr>\n",
    "        <td>np.sign(x)</td>\n",
    "        <td>计算数组各元素的符号值，1(+),0,-1(-)</td>\n",
    "    </tr>\n",
    "</table>"
   ]
  },
  {
   "cell_type": "code",
   "execution_count": null,
   "metadata": {},
   "outputs": [],
   "source": [
    "a=np.arange(50).reshape((2,5,5))\n",
    "a"
   ]
  },
  {
   "cell_type": "code",
   "execution_count": null,
   "metadata": {
    "scrolled": true
   },
   "outputs": [],
   "source": [
    "np.square(a)"
   ]
  },
  {
   "cell_type": "code",
   "execution_count": null,
   "metadata": {},
   "outputs": [],
   "source": [
    "a"
   ]
  },
  {
   "cell_type": "code",
   "execution_count": null,
   "metadata": {},
   "outputs": [],
   "source": [
    "a = np.sqrt(a)\n",
    "a"
   ]
  },
  {
   "cell_type": "code",
   "execution_count": null,
   "metadata": {},
   "outputs": [],
   "source": [
    "np.modf(a)"
   ]
  },
  {
   "cell_type": "markdown",
   "metadata": {},
   "source": [
    "-**Numpy二元函数**\n",
    "\n",
    "函数|说明\n",
    ":--|:--\n",
    "+ - * / **|两个数组各元素进行对应运算\n",
    "np.maximum(x,y) np.fmax()|返回一个元素为两个数组对应位置中较大的元素组成的数组\n",
    "np.minimum(x,y) np.fmin()|返回一个元素为两个数组对应位置中较小的元素组成的数组\n",
    "np.mod(x,y)|元素级的模运算\n",
    "np.copysign(x,y)|将数组y中各元素值的符号赋值给数组x对应元素\n",
    "\\> < >= <= == !=|算术比较，产生布尔型数组\n"
   ]
  },
  {
   "cell_type": "code",
   "execution_count": null,
   "metadata": {},
   "outputs": [],
   "source": [
    "a=np.arange(50).reshape((2,5,5))\n",
    "a"
   ]
  },
  {
   "cell_type": "code",
   "execution_count": null,
   "metadata": {},
   "outputs": [],
   "source": [
    "b = np.sqrt(a)\n",
    "b"
   ]
  },
  {
   "cell_type": "code",
   "execution_count": null,
   "metadata": {},
   "outputs": [],
   "source": [
    "np.maximum(a, b)"
   ]
  },
  {
   "cell_type": "code",
   "execution_count": null,
   "metadata": {},
   "outputs": [],
   "source": [
    "a > b"
   ]
  },
  {
   "cell_type": "markdown",
   "metadata": {},
   "source": [
    "## 第二部分 数据存取与函数"
   ]
  },
  {
   "cell_type": "markdown",
   "metadata": {},
   "source": [
    "### 1. csv文件读写\n",
    "\n",
    "#### 1. 读取\n",
    "\n",
    "一般来说,我们常用CSV文件（Comma-Separated Value,逗号分隔值）来存储二维批量数据。\n",
    "\n",
    "![](coronavirus.png)\n",
    "\n",
    "但Numpy并不能直接打开csv文件，但可以把csv文件当作一个txt文件来解码。（其实csv本质也是一个txt）[方法](https://docs.scipy.org/doc/numpy/reference/generated/numpy.loadtxt.html)是：\n",
    "\n",
    "numpy.loadtxt(fname, dtype=<class 'float'>, comments='#', delimiter=None, converters=None, skiprows=0, usecols=None, unpack=False, ndmin=0, encoding='bytes', max_rows=None)\n",
    "\n",
    "\n",
    "参数|说明\n",
    ":---|:---\n",
    "fname|文件、字符串或产生器，可以是.gz或.bz2的压缩文件\n",
    "dtype|数据类型，可选\n",
    "delimiter|分割字符串，默认是任何空格\n",
    "unpack|如果True，读入属性将分别写入不同变量\n",
    "\n",
    "但千万注意，np.loadtxt()方法会把读取文件的内容转化为一个ndarray，所以当文件中有不同数据类型的数据时，可能会导致错误。对数据文件来说，**Each row in the text file must have the same number of values.**"
   ]
  },
  {
   "cell_type": "code",
   "execution_count": null,
   "metadata": {},
   "outputs": [],
   "source": [
    "a = np.loadtxt('coronavirus.csv', delimiter=',')\n",
    "a"
   ]
  },
  {
   "cell_type": "code",
   "execution_count": null,
   "metadata": {},
   "outputs": [],
   "source": [
    "a = np.loadtxt('a.csv', delimiter=',')\n",
    "a"
   ]
  },
  {
   "cell_type": "markdown",
   "metadata": {},
   "source": [
    "#### 1.2 写入\n",
    "\n",
    "虽然不能很方便的打开复杂的数据文件，但我们可以用[np.savetxt()方法](https://docs.scipy.org/doc/numpy/reference/generated/numpy.savetxt.html)将文件写入CSV文件：\n",
    "\n",
    "numpy.savetxt(fname, X, fmt='%.18e', delimiter=' ', newline='n', header='', footer='', comments='# ', encoding=None)\n",
    "\n",
    "参数|说明\n",
    ":---|:---\n",
    "fname|文件（如：a.csv）、字符串或产生器，可以是.gz或.bz2的压缩文件。\n",
    "array|存入文件的数组。\n",
    "fmt|写入文件的格式，例如：%d %.2f %.18e(科学计数法保留18位小数).a.csv\n",
    "delimiter|分割字符串，默认是空格。\n",
    "\n",
    "另外需要注意的是，csv文件适用于二维数据，如果数维度据过于复杂，请不要使用np.savetxt()方法。"
   ]
  },
  {
   "cell_type": "code",
   "execution_count": null,
   "metadata": {},
   "outputs": [],
   "source": [
    "b = np.arange(100).reshape((2, 5, 10))\n",
    "np.savetxt('b.csv', b, fmt='%d', delimiter=',')"
   ]
  },
  {
   "cell_type": "code",
   "execution_count": null,
   "metadata": {},
   "outputs": [],
   "source": [
    "b = np.arange(100).reshape(10, 10)\n",
    "np.savetxt('b.csv', b, fmt='%d', delimiter=',')"
   ]
  },
  {
   "cell_type": "code",
   "execution_count": null,
   "metadata": {},
   "outputs": [],
   "source": [
    "b = np.arange(100).reshape(10, 10)\n",
    "np.savetxt('b.csv', b, fmt='%.1f', delimiter=',')"
   ]
  },
  {
   "cell_type": "markdown",
   "metadata": {},
   "source": [
    "#### 1.3 CSV文件的局限性\n",
    "\n",
    "CSV文件只能有效存储一维和二维数组\n",
    "\n",
    "np.savetxt() np.loadtxt()只能有效存取一维和二维数组\n",
    "\n",
    "#### 1.4 任意维度数据的存取\n",
    "\n",
    "- **维度的丢失**\n",
    "\n",
    "**np.ndarray.tofile()**\n",
    "\n",
    "利用[np.ndarray.tofile()方法](https://docs.scipy.org/doc/numpy/reference/generated/numpy.ndarray.tofile.html)\n",
    "\n",
    "np.ndarray.tofile(fid, sep=\"\", format=\"%s\")\n",
    "\n",
    "参数|说明\n",
    ":--|:--\n",
    "fid|一个已经打开的文件对象或文件地址。\n",
    "sep|数据分割字符串，如果是空串，写入文件为二进制。\n",
    "format|写入数据的格式。"
   ]
  },
  {
   "cell_type": "code",
   "execution_count": null,
   "metadata": {},
   "outputs": [],
   "source": [
    "a = np.arange(100).reshape((2, 5, 10))\n",
    "print(a)\n",
    "a.tofile('a.dat', sep=',', format='%d')"
   ]
  },
  {
   "cell_type": "markdown",
   "metadata": {},
   "source": [
    "但是，使用ndarray.tofile()存储数据，会失去维度信息。\n",
    "\n",
    "打开文件后，没有维度信息，只是将数组中的元素逐一地列出并输出到该文件中，是个文本文件。\n",
    "\n",
    "我们可以使用[np.fromfile()方法](https://docs.scipy.org/doc/numpy/reference/generated/numpy.fromfile.html)打开这个文件看看。\n",
    "\n",
    "**np.fromfile()**\n",
    "\n",
    "numpy.fromfile(file, dtype=float, count=-1, sep='', offset=0)\n",
    "\n",
    "\n",
    "参数|说明\n",
    ":--|:--\n",
    "frame|文件、字符串。\n",
    "dtype|读取的数据类型。\n",
    "count|读入元素的个数，-1表示读入整个文件。\n",
    "sep|数据分割字符串，如果是空串，写入文件为二进制。\n",
    "offset|The offset (in bytes) from the file’s current position. Defaults to 0. Only permitted for binary files.\n",
    "\n",
    "注意：该方法需要读取时知道存入文件时数组的维度和元素类型\n",
    "\n",
    "ndarray.tofile()和np.fromfile()需要配合使用\n",
    "\n",
    "为了解决上述问题，我们可以通过再写一个文件，将要存储的数组的每个元素的类型及数组的维度作为元信息存储起来，读入数组时通过元文件获取该数组的信息。\n",
    "\n",
    "这样的方法显然有一些复杂和麻烦，但是对于一些大规模数据存储时这样的方法还是有效的。"
   ]
  },
  {
   "cell_type": "code",
   "execution_count": null,
   "metadata": {},
   "outputs": [],
   "source": [
    "b = np.fromfile('a.dat', dtype=np.int, sep=',')\n",
    "\n",
    "b"
   ]
  },
  {
   "cell_type": "markdown",
   "metadata": {},
   "source": [
    "只有我们通过ndarray.reshape()方法，才能把读入文件的数据重新整理成为我们想要的维度。"
   ]
  },
  {
   "cell_type": "code",
   "execution_count": null,
   "metadata": {},
   "outputs": [],
   "source": [
    "c = np.fromfile(\"a.dat\",dtype=np.int,sep='').reshape((5,2,10)  #利用reshape方法得到想要的数组维度"
   ]
  },
  {
   "cell_type": "markdown",
   "metadata": {},
   "source": [
    "- **使用np.save()保存维度信息**\n",
    "\n",
    "使用[np.save()](https://docs.scipy.org/doc/numpy/reference/generated/numpy.save.html)可以很好地解决多维数组的存取问题\n",
    "\n",
    "这种方法文件的读取和写入是基于numpy自定义的文件格式(.npy)，如果你不想用这种文件格式，就用上一种方法，如果无所谓，就使用这种方法。\n",
    "\n",
    "numpy.save(file, arr, allow_pickle=True, fix_imports=True)\n",
    "\n",
    "参数|说明\n",
    ":--|:--\n",
    "frame|文件名称，以.npy为扩展名 。这种文件是numpy自定义的文件类型\n",
    "array|数组变量\n",
    "\n",
    "打开.npy文件需要使用[np.load()方法](https://docs.scipy.org/doc/numpy/reference/generated/numpy.load.html)\n",
    "\n",
    "numpy.load(file, mmap_mode=None, allow_pickle=False, fix_imports=True, encoding='ASCII')\n"
   ]
  },
  {
   "cell_type": "code",
   "execution_count": null,
   "metadata": {},
   "outputs": [],
   "source": [
    "a = np.arange(100).reshape((2, 5, 10))\n",
    "\n",
    "np.save('a.npy', a)\n",
    "\n",
    "b = np.load('a.npy')\n",
    "\n",
    "b"
   ]
  },
  {
   "cell_type": "markdown",
   "metadata": {},
   "source": [
    "### 2. Numpy函数\n",
    "\n",
    "Numpy下提供了一系列子库，来帮助我们实现许多专门针对数组（或者说矩阵）的科学计算。\n",
    "\n",
    "#### 2.1 numpy的随机数函数子库\n",
    "\n",
    "调用：\n",
    "\n",
    "np.random.*\n",
    "\n",
    "函数|说明\n",
    ":--|:--\n",
    "rand(d0,d1,…dn)|根据d0-dn创建随机数数组，浮点数，\\[0,1),均匀分布\n",
    "randn(d0,d1,…dn)|根据d0-dn创建随机数数组，标准正态分布\n",
    "randint(low[,high,shape])|根据shape创建随机整数或整数数组，范围是[low,high)\n",
    "seed(s)|随机数种子，s是给定的种子值"
   ]
  },
  {
   "cell_type": "code",
   "execution_count": null,
   "metadata": {},
   "outputs": [],
   "source": [
    "import numpy as np\n",
    "\n",
    "a = np.random.rand(3, 4, 5)\n",
    "\n",
    "a"
   ]
  },
  {
   "cell_type": "code",
   "execution_count": null,
   "metadata": {
    "scrolled": true
   },
   "outputs": [],
   "source": [
    "b = np.random.randn(3, 4, 5)\n",
    "\n",
    "b"
   ]
  },
  {
   "cell_type": "code",
   "execution_count": null,
   "metadata": {
    "scrolled": true
   },
   "outputs": [],
   "source": [
    "c = np.random.randint(100, 200, (3, 4))\n",
    "\n",
    "c"
   ]
  },
  {
   "cell_type": "code",
   "execution_count": null,
   "metadata": {},
   "outputs": [],
   "source": [
    "np.random.seed(10)\n",
    "\n",
    "np.random.randint(100, 200, (3, 4))"
   ]
  },
  {
   "cell_type": "code",
   "execution_count": null,
   "metadata": {},
   "outputs": [],
   "source": [
    "np.random.seed(10)\n",
    "\n",
    "np.random.randint(100, 200, (3, 4))"
   ]
  },
  {
   "cell_type": "markdown",
   "metadata": {},
   "source": [
    "函数|说明\n",
    ":--|:--\n",
    "shuffle(a)|根据数组a的第一轴（最外层维度）进行随机排列，改变数组x\n",
    "permutation(a)|根据数组a的第一轴产生一个新的乱序数组，不改变x\n",
    "choice(a\\[,size,replace,p\\])|从一维数组a中以概率p抽取元素，形成size形状新数组，replace表示是否可以重用元素，默认为False"
   ]
  },
  {
   "cell_type": "code",
   "execution_count": null,
   "metadata": {},
   "outputs": [],
   "source": [
    "a = np.random.randint(100, 200, (3, 4))\n",
    "\n",
    "a"
   ]
  },
  {
   "cell_type": "code",
   "execution_count": null,
   "metadata": {},
   "outputs": [],
   "source": [
    "np.random.shuffle(a)\n",
    "\n",
    "a"
   ]
  },
  {
   "cell_type": "code",
   "execution_count": null,
   "metadata": {},
   "outputs": [],
   "source": [
    "a"
   ]
  },
  {
   "cell_type": "code",
   "execution_count": null,
   "metadata": {},
   "outputs": [],
   "source": [
    "a = np.random.randint(100, 200, (3, 4))\n",
    "\n",
    "a"
   ]
  },
  {
   "cell_type": "code",
   "execution_count": null,
   "metadata": {},
   "outputs": [],
   "source": [
    "np.random.permutation(a)"
   ]
  },
  {
   "cell_type": "code",
   "execution_count": null,
   "metadata": {},
   "outputs": [],
   "source": [
    "a"
   ]
  },
  {
   "cell_type": "code",
   "execution_count": null,
   "metadata": {},
   "outputs": [],
   "source": [
    "a = np.arange(10)\n",
    "\n",
    "a"
   ]
  },
  {
   "cell_type": "code",
   "execution_count": null,
   "metadata": {},
   "outputs": [],
   "source": [
    "np.random.choice(a, (2, 2))"
   ]
  },
  {
   "cell_type": "code",
   "execution_count": null,
   "metadata": {},
   "outputs": [],
   "source": [
    "np.random.choice(a, (2, 2), replace=False)"
   ]
  },
  {
   "cell_type": "code",
   "execution_count": null,
   "metadata": {},
   "outputs": [],
   "source": [
    "np.random.choice(a, (2, 2), p=a/np.sum(a))"
   ]
  },
  {
   "cell_type": "markdown",
   "metadata": {},
   "source": [
    "函数|说明\n",
    ":--|:--\n",
    "uniform(low,high,size)|产生具有均匀分布的数组，low 起始值，high结束值，size形状\n",
    "normal（loc，scale，size)|产生具有正态分布的数组，loc均值，scale标准差，size形状\n",
    "poisson(lam,size)|产生具有泊松分布的数组，lam随机事件发生率，size形状"
   ]
  },
  {
   "cell_type": "code",
   "execution_count": null,
   "metadata": {},
   "outputs": [],
   "source": [
    "a = np.random.uniform(0, 10, (3, 4))\n",
    "\n",
    "a"
   ]
  },
  {
   "cell_type": "code",
   "execution_count": null,
   "metadata": {},
   "outputs": [],
   "source": [
    "b = np.random.normal(10, 5, (3, 4))\n",
    "\n",
    "b"
   ]
  },
  {
   "cell_type": "code",
   "execution_count": null,
   "metadata": {},
   "outputs": [],
   "source": [
    "c = np.random.poisson(0.5, (3, 4))\n",
    "\n",
    "c"
   ]
  },
  {
   "cell_type": "markdown",
   "metadata": {},
   "source": [
    "#### 2.2 numpy的统计函数\n",
    "\n",
    "统计函数即可以对数组进行统计计算的函数,numpy提供了库一级别的统计类函数\n",
    "\n",
    "调用 ： np.*\n",
    "\n",
    "函数|说明\n",
    ":--|:--\n",
    "sum(a,axis=None)|根据给定轴axis计算数组a相关元素之和，axis整数或元组\n",
    "mean(a,axis=None)|根据给定轴axis计算数组a相关元素的期望，axis整数或元组\n",
    "average(a,axis=None,weights=None)|根据给定轴axis计算数组a相关元素的加权平均值\n",
    "std(a,axis=None)|根据给定轴axis计算数组a相关元素的标准差\n",
    "var(a,axis=None)|根据给定轴axis计算数组a相关元素的方差\n"
   ]
  },
  {
   "cell_type": "code",
   "execution_count": null,
   "metadata": {},
   "outputs": [],
   "source": [
    "a = np.arange(15).reshape(5, 3)\n",
    "\n",
    "a"
   ]
  },
  {
   "cell_type": "code",
   "execution_count": null,
   "metadata": {},
   "outputs": [],
   "source": [
    "np.sum(a)"
   ]
  },
  {
   "cell_type": "code",
   "execution_count": null,
   "metadata": {},
   "outputs": [],
   "source": [
    "np.mean(a, axis=0)"
   ]
  },
  {
   "cell_type": "code",
   "execution_count": null,
   "metadata": {},
   "outputs": [],
   "source": [
    "np.mean(a, axis=1)"
   ]
  },
  {
   "cell_type": "code",
   "execution_count": null,
   "metadata": {},
   "outputs": [],
   "source": [
    "np.average(a, axis=0, weights=[10, 8, 6, 4, 2])"
   ]
  },
  {
   "cell_type": "code",
   "execution_count": null,
   "metadata": {},
   "outputs": [],
   "source": [
    "np.std(a)"
   ]
  },
  {
   "cell_type": "code",
   "execution_count": null,
   "metadata": {},
   "outputs": [],
   "source": [
    "np.var(a)"
   ]
  },
  {
   "cell_type": "markdown",
   "metadata": {},
   "source": [
    "函数|说明\n",
    ":--|:--\n",
    "min(a) max(a)|计算数组a中元素的最小值、最大值\n",
    "argmin(a) argmax(a)|计算数组a中元素的最小值、最大值的降成一维数组后下标\n",
    "unravel_index(index,shape)|根据shape将一维下表index转换成多维下标\n",
    "ptp(a)|计算数组a中元素的最大值和最小值的差\n",
    "median(a)|计算数组a中元素的中位数（中值）\n",
    "\n",
    "说明：axis=None 是统计函数的标配参数，表示对数组中所有元素进行统计计算。\n"
   ]
  },
  {
   "cell_type": "code",
   "execution_count": null,
   "metadata": {},
   "outputs": [],
   "source": [
    "a = np.arange(15, 0, -1).reshape(3, 5)\n",
    "\n",
    "a"
   ]
  },
  {
   "cell_type": "code",
   "execution_count": null,
   "metadata": {},
   "outputs": [],
   "source": [
    "np.max(a)"
   ]
  },
  {
   "cell_type": "code",
   "execution_count": null,
   "metadata": {},
   "outputs": [],
   "source": [
    "np.argmax(a)  #扁平化后的下标 "
   ]
  },
  {
   "cell_type": "code",
   "execution_count": null,
   "metadata": {},
   "outputs": [],
   "source": [
    "np.unravel_index(np.argmax(a), a.shape)  #重塑成多维下标"
   ]
  },
  {
   "cell_type": "code",
   "execution_count": null,
   "metadata": {},
   "outputs": [],
   "source": [
    "np.ptp(a)"
   ]
  },
  {
   "cell_type": "code",
   "execution_count": null,
   "metadata": {},
   "outputs": [],
   "source": [
    "np.median(a)"
   ]
  },
  {
   "cell_type": "markdown",
   "metadata": {},
   "source": [
    "#### 2.3 numpy中的梯度函数\n",
    "\n",
    "函数|说明\n",
    ":---|:---\n",
    "np.gradient(f)|计算数组f中元素的梯度，当f为多维时，返回每个维度的梯度\n",
    "\n",
    "![](grad1.png)\n",
    "\n",
    "![](grad2.png)\n",
    "\n",
    "![](grad3.png)\n",
    "\n",
    "![](grad4.png)\n",
    "\n",
    "![](grad5.png)\n",
    "\n",
    "梯度：连续值之间的变化率，即斜率。 梯度有助于我们发现图像的边缘。\n",
    "\n",
    "XY坐标轴连续三个X坐标对应的Y轴值：a,b,c, 其中，b的梯度是：(c-a)/2"
   ]
  },
  {
   "cell_type": "code",
   "execution_count": null,
   "metadata": {},
   "outputs": [],
   "source": [
    "a = np.random.randint(0, 20, (5))\n",
    "\n",
    "a"
   ]
  },
  {
   "cell_type": "code",
   "execution_count": null,
   "metadata": {},
   "outputs": [],
   "source": [
    "np.gradient(a)"
   ]
  },
  {
   "cell_type": "code",
   "execution_count": null,
   "metadata": {},
   "outputs": [],
   "source": [
    "b = np.random.randint(0, 20, (5))\n",
    "\n",
    "b"
   ]
  },
  {
   "cell_type": "code",
   "execution_count": null,
   "metadata": {},
   "outputs": [],
   "source": [
    "np.gradient(b)"
   ]
  },
  {
   "cell_type": "code",
   "execution_count": null,
   "metadata": {},
   "outputs": [],
   "source": [
    "c = np.random.randint(0, 50, (3, 5))\n",
    "\n",
    "c"
   ]
  },
  {
   "cell_type": "code",
   "execution_count": null,
   "metadata": {},
   "outputs": [],
   "source": [
    "np.gradient(c)"
   ]
  },
  {
   "cell_type": "markdown",
   "metadata": {},
   "source": [
    "## 第三部分 实例\n",
    "\n",
    "初学Numpy库，能够直接上手的实例并不多，最常见的上手案例是对图像的操作。\n",
    "\n",
    "图像操作需要用到PIL库，这是一个具有强大图像处理能力的第三方库。\n",
    "\n",
    "Anaconda已经安装该库，没有使用anaconda的同学可以通过pip安装。\n",
    "\n",
    "```\n",
    "pip install pillow\n",
    "```\n",
    "\n",
    "在这里，大家不需要深入学习PIL的内部，只需要使用PIL的Image子库接口打开图片，解析为ndarray，就可以使用Numpy来进行操作。\n",
    "\n",
    "图像一般使用RGB色彩模式，图像是一个由像素组成的二维矩阵，每个元素是一个RGB值（R, G, B），也就是一个 m * n * 3 的ndarray\n",
    "\n",
    "![](cat.jpg)"
   ]
  },
  {
   "cell_type": "code",
   "execution_count": null,
   "metadata": {},
   "outputs": [],
   "source": [
    "from PIL import Image\n",
    "import numpy as np\n",
    "\n",
    "im = np.array(Image.open('cat.jpg'))\n",
    "\n",
    "print(im.shape, im.dtype)\n",
    "print(im)"
   ]
  },
  {
   "cell_type": "markdown",
   "metadata": {},
   "source": [
    "通过改变ndarray中元素的数值，我们可以对图像实现各种各样的操作,修改后保存为新的文件就可改变图像。\n",
    "\n",
    "当然，如果要实现各种高级的图像变换功能，除了需要了解数据处理方面的知识，还要懂得一些计算机图像理论，譬如不同图像效果的视觉特征和数值特征，灰度变化与人类视觉的关系等。"
   ]
  },
  {
   "cell_type": "code",
   "execution_count": null,
   "metadata": {},
   "outputs": [],
   "source": [
    "from PIL import Image\n",
    "import numpy as np\n",
    "\n",
    "a = np.asarray(Image.open('./cat.jpg').convert('L')).astype('float')\n",
    "\n",
    "depth = 10.            # (0-100)\n",
    "grad = np.gradient(a)  #取图像灰度的梯度值\n",
    "grad_x, grad_y = grad  #分别取横纵图像梯度值\n",
    "grad_x = grad_x*depth/100.\n",
    "grad_y = grad_y*depth/100.\n",
    "A = np.sqrt(grad_x**2 + grad_y**2 + 1.)\n",
    "uni_x = grad_x/A\n",
    "uni_y = grad_y/A\n",
    "uni_z = 1./A\n",
    "\n",
    "vec_el = np.pi/2.2     # 光源的俯视角度，弧度值\n",
    "vec_az = np.pi/4.      # 光源的方位角度，弧度值\n",
    "dx = np.cos(vec_el)*np.cos(vec_az) #光源对x 轴的影响\n",
    "dy = np.cos(vec_el)*np.sin(vec_az) #光源对y 轴的影响\n",
    "dz = np.sin(vec_el)                #光源对z 轴的影响\n",
    "\n",
    "b = 255*(dx*uni_x + dy*uni_y + dz*uni_z)  #光源归一化\n",
    "b = b.clip(0,255)\n",
    "\n",
    "im = Image.fromarray(b.astype('uint8'))   #重构图像\n",
    "im.save('./catHD.jpg')"
   ]
  },
  {
   "cell_type": "markdown",
   "metadata": {},
   "source": [
    "![](catHD.jpg)"
   ]
  },
  {
   "cell_type": "code",
   "execution_count": null,
   "metadata": {},
   "outputs": [],
   "source": [
    "from PIL import Image\n",
    "import numpy as np\n",
    "\n",
    "a = np.array(Image.open('cat.jpg'))\n",
    "\n",
    "b = np.random.randn(425, 640, 3)\n",
    "\n",
    "b = 10 * np.sign(b)\n",
    "\n",
    "a = a + b\n",
    "\n",
    "im = Image.fromarray(a.astype('uint8'))   #重构图像\n",
    "\n",
    "im.save('./cat_2.jpg')"
   ]
  },
  {
   "cell_type": "markdown",
   "metadata": {},
   "source": [
    "![](cat_2.jpg)"
   ]
  },
  {
   "cell_type": "code",
   "execution_count": null,
   "metadata": {},
   "outputs": [],
   "source": []
  }
 ],
 "metadata": {
  "kernelspec": {
   "display_name": "Python 3.7.4 64-bit ('base': conda)",
   "language": "python",
   "name": "python37464bitbaseconda21d6255dfc6f47b9a722fafee858c8c9"
  },
  "language_info": {
   "codemirror_mode": {
    "name": "ipython",
    "version": 3
   },
   "file_extension": ".py",
   "mimetype": "text/x-python",
   "name": "python",
   "nbconvert_exporter": "python",
   "pygments_lexer": "ipython3",
   "version": "3.7.4"
  }
 },
 "nbformat": 4,
 "nbformat_minor": 2
}
