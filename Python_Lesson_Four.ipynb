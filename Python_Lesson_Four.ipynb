{
 "cells": [
  {
   "cell_type": "markdown",
   "metadata": {},
   "source": [
    "# 第四讲 模块、异常处理、Python提升探索"
   ]
  },
  {
   "cell_type": "markdown",
   "metadata": {},
   "source": [
    "## 第一部分 模块\n",
    "\n",
    "已经被封装好\n",
    "\n",
    "无需自己再“造轮子”\n",
    "\n",
    "声明导入后，拿来即用\n",
    "\n",
    "### 1. 广义模块分类\n",
    "\n",
    "#### 1.1 Python内置\n",
    "\n",
    "如时间time、随机random、容器数据类型collection、迭代器函数itertools等\n",
    "\n",
    "#### 1.2 第三方库\n",
    "\n",
    "数据分析numpy、pandas、数据可视化matplotlib、机器学习scikit-learn、深度学习Tensorflow、Pytorch\n",
    "\n",
    "#### 1.3 自定义文件\n",
    "\n",
    "- 单独.py文件\n",
    "\n",
    "- 包：文件夹内多个.py文件，再加一个__init__.py文件（内容可以是空）\n",
    "\n",
    "### 2. 模块的导入\n",
    "\n",
    "#### 2.1 导入整个模块——import 模块名\n",
    "\n",
    "- 调用方式：模块名.函数名或类名"
   ]
  },
  {
   "cell_type": "code",
   "execution_count": null,
   "metadata": {},
   "outputs": [],
   "source": [
    "import time\n",
    "\n",
    "start = time.time()    #调用time模块中的time()\n",
    "time.sleep(3)          #调用time模块中的sleep() 休息3秒钟\n",
    "end = time.time()\n",
    "print('程序运行时间：{:.2f}秒'.format(end-start))"
   ]
  },
  {
   "cell_type": "code",
   "execution_count": 5,
   "metadata": {},
   "outputs": [
    {
     "data": {
      "text/plain": [
       "True"
      ]
     },
     "execution_count": 5,
     "metadata": {},
     "output_type": "execute_result"
    }
   ],
   "source": [
    "import function\n",
    "\n",
    "function.fun1.f1()"
   ]
  },
  {
   "cell_type": "markdown",
   "metadata": {},
   "source": [
    "#### 2.2 从模块中导入类或函数——from 模块 import 类名或函数名\n",
    "\n",
    "- 调用方式：函数名或类名"
   ]
  },
  {
   "cell_type": "code",
   "execution_count": 2,
   "metadata": {
    "collapsed": true
   },
   "outputs": [
    {
     "name": "stdout",
     "output_type": "stream",
     "text": [
      "[('A', '1'), ('A', '2'), ('A', '3'), ('B', '1'), ('B', '2'), ('B', '3')]\n"
     ]
    }
   ],
   "source": [
    "from itertools import product\n",
    "ls = list(product('AB', '123'))\n",
    "print(ls)"
   ]
  },
  {
   "cell_type": "code",
   "execution_count": 7,
   "metadata": {},
   "outputs": [
    {
     "data": {
      "text/plain": [
       "True"
      ]
     },
     "execution_count": 7,
     "metadata": {},
     "output_type": "execute_result"
    }
   ],
   "source": [
    "from function import fun1\n",
    "fun1.f1()"
   ]
  },
  {
   "cell_type": "code",
   "execution_count": 9,
   "metadata": {},
   "outputs": [
    {
     "name": "stdout",
     "output_type": "stream",
     "text": [
      "True\n",
      "False\n"
     ]
    }
   ],
   "source": [
    "# 一次导入多个\n",
    "\n",
    "from function import fun1, fun2\n",
    "print(fun1.f1())\n",
    "print(fun2.f2())"
   ]
  },
  {
   "cell_type": "markdown",
   "metadata": {},
   "source": [
    "#### 2.3 导入模块中所有的类和函数——from 模块 import *\n",
    "\n",
    "- 调用方式：函数名或类名"
   ]
  },
  {
   "cell_type": "code",
   "execution_count": null,
   "metadata": {},
   "outputs": [],
   "source": [
    "from random import *\n",
    "\n",
    "print(randint(1, 100))\n",
    "print(random())"
   ]
  },
  {
   "cell_type": "markdown",
   "metadata": {},
   "source": [
    "### 3. 模块的加载顺序\n",
    "\n",
    "#### 3.1 内存中已经加载的模块"
   ]
  },
  {
   "cell_type": "code",
   "execution_count": 2,
   "metadata": {},
   "outputs": [
    {
     "name": "stdout",
     "output_type": "stream",
     "text": [
      "fun1导入成功\n"
     ]
    }
   ],
   "source": [
    "from function import fun1\n",
    "\n",
    "fun1.f1()"
   ]
  },
  {
   "cell_type": "code",
   "execution_count": null,
   "metadata": {},
   "outputs": [],
   "source": [
    "# 删除硬盘上的function.py文件\n",
    "from function import fun1\n",
    "\n",
    "fun1.f1()"
   ]
  },
  {
   "cell_type": "code",
   "execution_count": null,
   "metadata": {},
   "outputs": [],
   "source": [
    "# 修改硬盘上的function.py文件\n",
    "from function import fun1\n",
    "\n",
    "fun1.f1()"
   ]
  },
  {
   "cell_type": "markdown",
   "metadata": {},
   "source": [
    "#### 3.2 内置模块\n",
    "\n"
   ]
  },
  {
   "cell_type": "code",
   "execution_count": null,
   "metadata": {},
   "outputs": [],
   "source": [
    "# Python启动时，解释器会默认加载一些 modules 并加载在sys.modules中\n",
    "# sys.modules 变量包含一个当前载入（完整且成功导入）到解释器的模块组成的字典，模块名作为键，它们的位置作为值\n",
    "import sys\n",
    "\n",
    "print(len(sys.modules))\n",
    "print('math' in sys.modules)\n",
    "print('numpy' in sys.modules)\n",
    "for k,v in list(sys.modules.items())[:20]:\n",
    "    print(k, \":\", v)"
   ]
  },
  {
   "cell_type": "markdown",
   "metadata": {},
   "source": [
    "#### 3.3 sys.path路径中包含的模块"
   ]
  },
  {
   "cell_type": "code",
   "execution_count": null,
   "metadata": {},
   "outputs": [],
   "source": [
    "import sys\n",
    "\n",
    "sys.path"
   ]
  },
  {
   "cell_type": "markdown",
   "metadata": {},
   "source": [
    "- sys.path的第一个路径是当前执行文件所在的文件夹\n",
    "- 若需将不在该文件夹内的模块导入，需要将模块的路径添加到sys.path"
   ]
  },
  {
   "cell_type": "code",
   "execution_count": null,
   "metadata": {},
   "outputs": [],
   "source": [
    "# import fun3\n",
    "\n",
    "import sys\n",
    "\n",
    "sys.path.append(r'C:\\Users\\Administrator\\Desktop\\fun3.py')\n",
    "\n",
    "import fun3\n",
    "\n",
    "fun3.f3()"
   ]
  },
  {
   "cell_type": "markdown",
   "metadata": {},
   "source": [
    "## 第二部分 Python标准库\n",
    "\n",
    "Python自称“batteries included”，自身提供了比较丰富的生态，拿来即用，可以极大地提高开发效率\n",
    "\n",
    "### 1. time库\n",
    "\n",
    "**Python处理时间的标准库\n",
    "\n",
    "#### 1.1 获取当前时间\n",
    "\n",
    "- time.localtime()\n",
    "\n",
    "- time.gmtime() UTC世界同一时间\n",
    "\n",
    "北京时间比世界统一时间UTC早8个小时"
   ]
  },
  {
   "cell_type": "code",
   "execution_count": null,
   "metadata": {},
   "outputs": [],
   "source": [
    "import time\n",
    "\n",
    "t_local = time.localtime()\n",
    "t_UTC = time.gmtime()\n",
    "print('t_local', t_local)\n",
    "print('t_UTC', t_UTC)"
   ]
  },
  {
   "cell_type": "code",
   "execution_count": null,
   "metadata": {},
   "outputs": [],
   "source": [
    "time.ctime()"
   ]
  },
  {
   "cell_type": "markdown",
   "metadata": {},
   "source": [
    "#### 1.2 时间戳与计时器\n",
    "\n",
    "- time.time()  返回自纪元以来的秒数，记录sleep\n",
    "\n",
    "- time.perf_counter()  随意选取一个时间点，记录现在时间到该时间点的间隔描述，记录sleep\n",
    "\n",
    "- time.process_time()  随意选取一个时间点，记录现在时间到该时间点的间隔描述，不记录sleep\n",
    "\n",
    "perf_counter()精度比time()更高一些"
   ]
  },
  {
   "cell_type": "code",
   "execution_count": null,
   "metadata": {},
   "outputs": [],
   "source": [
    "t_1_start = time.time()\n",
    "t_2_start = time.perf_counter()\n",
    "t_3_start = time.process_time()\n",
    "\n",
    "res = 0\n",
    "for i in range(1000000):\n",
    "    res += 1\n",
    "\n",
    "time.sleep(5)\n",
    "t_1_end = time.time()\n",
    "t_2_end = time.perf_counter()\n",
    "t_3_end = time.process_time()\n",
    "\n",
    "print('time方法：{:.3f}'.format(t_1_end - t_1_start))\n",
    "print('perf_counter方法：{:.3f}'.format(t_2_end - t_2_start))\n",
    "print('process_time方法：{:.3f}'.format(t_3_end - t_3_start))"
   ]
  },
  {
   "cell_type": "markdown",
   "metadata": {},
   "source": [
    "#### 1.3 格式化\n",
    "\n",
    "- time.strftime() 自定义格式化输出"
   ]
  },
  {
   "cell_type": "code",
   "execution_count": null,
   "metadata": {},
   "outputs": [],
   "source": [
    "lctime = time.localtime()\n",
    "time.strftime('%Y-%m-%d %A %H:%M:%S', lctime)"
   ]
  },
  {
   "cell_type": "markdown",
   "metadata": {},
   "source": [
    "#### 1.4 睡觉"
   ]
  },
  {
   "cell_type": "code",
   "execution_count": null,
   "metadata": {},
   "outputs": [],
   "source": [
    "time.sleep()"
   ]
  },
  {
   "cell_type": "markdown",
   "metadata": {},
   "source": [
    "### 2. random库\n",
    "\n",
    "随机数在计算机应用中十分常见\n",
    "\n",
    "Python通过random库提供各种伪随机数\n",
    "\n",
    "基本可以用于除加密解密算法外的大多数工程应用\n",
    "\n",
    "#### 2.1 随机种子——seed(a=None)\n",
    "\n",
    "- 相同种子会产生相同的随机数\n",
    "\n",
    "- 如果不设置随机种子，以系统当前时间为默认值"
   ]
  },
  {
   "cell_type": "code",
   "execution_count": null,
   "metadata": {},
   "outputs": [],
   "source": [
    "from random import *\n",
    "\n",
    "seed(10)\n",
    "print(random())\n",
    "seed(10)\n",
    "print(random())"
   ]
  },
  {
   "cell_type": "code",
   "execution_count": null,
   "metadata": {},
   "outputs": [],
   "source": [
    "print(random())"
   ]
  },
  {
   "cell_type": "markdown",
   "metadata": {},
   "source": [
    "#### 2.2 产生随机整数\n",
    "\n",
    "- randint(a, b)  产生[a, b]之间的随机整数"
   ]
  },
  {
   "cell_type": "code",
   "execution_count": null,
   "metadata": {},
   "outputs": [],
   "source": [
    "numbers = [randint(1, 10) for i in range(10)]\n",
    "numbers"
   ]
  },
  {
   "cell_type": "markdown",
   "metadata": {},
   "source": [
    "- randrange(a)  产生[0, a)之间的随机整数"
   ]
  },
  {
   "cell_type": "code",
   "execution_count": null,
   "metadata": {},
   "outputs": [],
   "source": [
    "numbers = [randrange(10) for i in range(10)]\n",
    "numbers"
   ]
  },
  {
   "cell_type": "markdown",
   "metadata": {},
   "source": [
    "- randrange(a, b, step)  产生[a, b)之间以step为步长的随机整数"
   ]
  },
  {
   "cell_type": "code",
   "execution_count": null,
   "metadata": {},
   "outputs": [],
   "source": [
    "numbers = [randrange(0, 10, 2) for i in range(10)]\n",
    "numbers"
   ]
  },
  {
   "cell_type": "markdown",
   "metadata": {},
   "source": [
    "#### 2.3 产生随机浮点数\n",
    "\n",
    "- random()  产生[0.0, 1.0)之间的随机浮点数"
   ]
  },
  {
   "cell_type": "code",
   "execution_count": null,
   "metadata": {},
   "outputs": [],
   "source": [
    "numbers = [random() for i in range(10)]\n",
    "numbers"
   ]
  },
  {
   "cell_type": "markdown",
   "metadata": {},
   "source": [
    "- uniform(a, b)  产生[a, b]之间的随机浮点数"
   ]
  },
  {
   "cell_type": "code",
   "execution_count": null,
   "metadata": {},
   "outputs": [],
   "source": [
    "numbers = [uniform(2.1, 3.5) for i in range(10)]\n",
    "numbers"
   ]
  },
  {
   "cell_type": "markdown",
   "metadata": {},
   "source": [
    "#### 2.4 序列用函数\n",
    "\n",
    "- choice(seq)  从序列类型中随机返回一个元素"
   ]
  },
  {
   "cell_type": "code",
   "execution_count": null,
   "metadata": {},
   "outputs": [],
   "source": [
    "choice(['win', 'lose', 'draw'])"
   ]
  },
  {
   "cell_type": "code",
   "execution_count": null,
   "metadata": {},
   "outputs": [],
   "source": [
    "choice('Python')"
   ]
  },
  {
   "cell_type": "markdown",
   "metadata": {},
   "source": [
    "- choices(seq, weights=None, k)  对序列类型进行k次取样，可以设置权重"
   ]
  },
  {
   "cell_type": "code",
   "execution_count": null,
   "metadata": {},
   "outputs": [],
   "source": [
    "choices(['win', 'lose', 'draw'], 5)"
   ]
  },
  {
   "cell_type": "code",
   "execution_count": null,
   "metadata": {},
   "outputs": [],
   "source": [
    "choices(['win', 'lose', 'draw'], [4, 4, 2], k=10)"
   ]
  },
  {
   "cell_type": "markdown",
   "metadata": {},
   "source": [
    "- shuffle(seq)  将序列类型中元素随机排列，返回打乱后的序列"
   ]
  },
  {
   "cell_type": "code",
   "execution_count": null,
   "metadata": {},
   "outputs": [],
   "source": [
    "numbers = [1, 2, 3, 4, 5]\n",
    "shuffle(numbers)\n",
    "numbers"
   ]
  },
  {
   "cell_type": "markdown",
   "metadata": {},
   "source": [
    "- sample(pop, k)  从pop类型中随机选取k个元素，以列表类型返回"
   ]
  },
  {
   "cell_type": "code",
   "execution_count": null,
   "metadata": {},
   "outputs": [],
   "source": [
    "sample([10, 20, 30, 40, 50], k=3)"
   ]
  },
  {
   "cell_type": "markdown",
   "metadata": {},
   "source": [
    "#### 2.5 概率分布——以高斯分布为例\n",
    "\n",
    "gauss(mean, std)  产生一个符合高斯分布的随机数"
   ]
  },
  {
   "cell_type": "code",
   "execution_count": 5,
   "metadata": {
    "collapsed": true
   },
   "outputs": [
    {
     "data": {
      "text/plain": [
       "1.2088022935270708"
      ]
     },
     "execution_count": 5,
     "metadata": {},
     "output_type": "execute_result"
    }
   ],
   "source": [
    "from random import gauss\n",
    "\n",
    "number = gauss(0, 1)\n",
    "number"
   ]
  },
  {
   "cell_type": "code",
   "execution_count": 6,
   "metadata": {
    "collapsed": true
   },
   "outputs": [
    {
     "data": {
      "image/png": "[encoded data removed]",
      "text/plain": [
       "<Figure size 432x288 with 1 Axes>"
      ]
     },
     "metadata": {
      "needs_background": "light"
     },
     "output_type": "display_data"
    }
   ],
   "source": [
    "# 多生成几个\n",
    "from random import gauss\n",
    "import matplotlib.pyplot as plt\n",
    "\n",
    "res = [gauss(0, 1) for i in range(10000)]\n",
    "\n",
    "plt.hist(res, bins=1000)\n",
    "plt.show()"
   ]
  },
  {
   "cell_type": "markdown",
   "metadata": {},
   "source": [
    "[例1] 用random库实现简单的微信红包分配"
   ]
  },
  {
   "cell_type": "code",
   "execution_count": 10,
   "metadata": {
    "collapsed": true
   },
   "outputs": [
    {
     "name": "stdout",
     "output_type": "stream",
     "text": [
      "第1位红包金额：1.67元\n",
      "第2位红包金额：1.13元\n",
      "第3位红包金额：2.81元\n",
      "第4位红包金额：1.25元\n",
      "第5位红包金额：3.14元\n"
     ]
    }
   ],
   "source": [
    "import random\n",
    "\n",
    "def red_packet(total, num):\n",
    "    for i in range(1, num):\n",
    "        per = random.uniform(0.01, total/(num-i+1)*2)  #保证每个人的红包期望是total/num\n",
    "        total = total - per\n",
    "        print('第{}位红包金额：{:.2f}元'.format(i, per))\n",
    "    else:\n",
    "        print('第{}位红包金额：{:.2f}元'.format(num, total))\n",
    "    \n",
    "red_packet(10, 5)"
   ]
  },
  {
   "cell_type": "code",
   "execution_count": 12,
   "metadata": {
    "collapsed": true
   },
   "outputs": [
    {
     "name": "stdout",
     "output_type": "stream",
     "text": [
      "[[2.81761925 0.99045702 1.79452911 1.27839302 3.11900159]\n",
      " [1.10490398 3.3094463  0.43885465 0.93605477 4.21074031]\n",
      " [1.35644894 4.19082744 2.28683528 0.06379883 2.10208951]\n",
      " [2.87463857 2.64193284 1.02510588 2.14825494 1.31006777]\n",
      " [0.21294515 0.19199265 3.96795875 4.02112851 1.60597493]\n",
      " [3.95410992 0.05865684 1.26660675 4.22234158 0.49828491]\n",
      " [2.72729402 0.0764063  1.90667478 4.13678115 1.15284374]\n",
      " [2.10098461 0.57030973 3.65302686 1.85627105 1.81940775]\n",
      " [1.66457789 3.62349512 2.09012989 1.47863997 1.14315713]\n",
      " [2.80232277 3.35080077 0.84177188 0.350639   2.65446557]]\n"
     ]
    },
    {
     "data": {
      "text/plain": [
       "array([2.00412573, 1.9997124 , 2.01951824, 1.97940497, 1.99723866])"
      ]
     },
     "execution_count": 12,
     "metadata": {},
     "output_type": "execute_result"
    }
   ],
   "source": [
    "import random\n",
    "import numpy as np\n",
    "\n",
    "\n",
    "def red_packet(total, num):\n",
    "    ls = []\n",
    "    for i in range(1, num):\n",
    "        per = random.uniform(0.01, total/(num-i+1)*2)  #保证每个人的红包期望是total/num\n",
    "        ls.append(per)\n",
    "        total = total - per\n",
    "    else:\n",
    "        ls.append(total)\n",
    "    return ls\n",
    "\n",
    "\n",
    "#重复发十万次红包，统计每个位置的平均值（接近期望）\n",
    "res = []\n",
    "for i in range(10000):\n",
    "    ls = red_packet(10, 5)\n",
    "    res.append(ls)\n",
    "    \n",
    "res = np.array(res)\n",
    "print(res[:10])\n",
    "np.mean(res, axis=0)"
   ]
  },
  {
   "cell_type": "markdown",
   "metadata": {},
   "source": [
    "[例2]生产4位由数字和英文字母构成的验证码"
   ]
  },
  {
   "cell_type": "code",
   "execution_count": 15,
   "metadata": {
    "collapsed": true
   },
   "outputs": [
    {
     "name": "stdout",
     "output_type": "stream",
     "text": [
      "0123456789\n",
      "abcdefghijklmnopqrstuvwxyzABCDEFGHIJKLMNOPQRSTUVWXYZ\n",
      "['k', 'L', 'H', 's']\n",
      "kLHs\n"
     ]
    }
   ],
   "source": [
    "import random\n",
    "import string\n",
    "\n",
    "print(string.digits)\n",
    "print(string.ascii_letters)\n",
    "\n",
    "s = string.digits + string.ascii_letters\n",
    "v = random.sample(s, 4)\n",
    "print(v)\n",
    "print(''.join(v))"
   ]
  },
  {
   "cell_type": "markdown",
   "metadata": {},
   "source": [
    "### 3. collections库——容器数据类型"
   ]
  },
  {
   "cell_type": "code",
   "execution_count": 19,
   "metadata": {},
   "outputs": [],
   "source": [
    "import collections"
   ]
  },
  {
   "cell_type": "markdown",
   "metadata": {},
   "source": [
    "#### 3.1 namedtuple——具名元组\n",
    "\n",
    "- 点的坐标，仅看数据，很难知道表达的是一个点的坐标"
   ]
  },
  {
   "cell_type": "code",
   "execution_count": null,
   "metadata": {},
   "outputs": [],
   "source": [
    "p = (1, 2)"
   ]
  },
  {
   "cell_type": "markdown",
   "metadata": {},
   "source": [
    "- 构建一个新的元组子类\n",
    "\n",
    "定义方法如下：newtypename 是新的元组名字，field_names 是域名"
   ]
  },
  {
   "cell_type": "code",
   "execution_count": 16,
   "metadata": {
    "collapsed": true
   },
   "outputs": [
    {
     "ename": "SyntaxError",
     "evalue": "invalid syntax (<ipython-input-16-2d0611edbb29>, line 1)",
     "output_type": "error",
     "traceback": [
      "\u001b[1;36m  File \u001b[1;32m\"<ipython-input-16-2d0611edbb29>\"\u001b[1;36m, line \u001b[1;32m1\u001b[0m\n\u001b[1;33m    collections.namedtuple(newtypename, field_names, *, rename=False, defaults=None, module=None)\u001b[0m\n\u001b[1;37m                                                      ^\u001b[0m\n\u001b[1;31mSyntaxError\u001b[0m\u001b[1;31m:\u001b[0m invalid syntax\n"
     ]
    }
   ],
   "source": [
    "collections.namedtuple(newtypename, field_names, *, rename=False, defaults=None, module=None)"
   ]
  },
  {
   "cell_type": "code",
   "execution_count": null,
   "metadata": {},
   "outputs": [],
   "source": [
    "Point = collections.namedtuple('Point', ['x', 'y'])\n",
    "p = Point(1, y=2)\n",
    "p"
   ]
  },
  {
   "cell_type": "markdown",
   "metadata": {},
   "source": [
    "- 可以调用属性"
   ]
  },
  {
   "cell_type": "code",
   "execution_count": null,
   "metadata": {},
   "outputs": [],
   "source": [
    "print(p.x)\n",
    "print(p.y)"
   ]
  },
  {
   "cell_type": "markdown",
   "metadata": {},
   "source": [
    "- 有元组的性质"
   ]
  },
  {
   "cell_type": "code",
   "execution_count": 17,
   "metadata": {
    "collapsed": true
   },
   "outputs": [
    {
     "ename": "NameError",
     "evalue": "name 'p' is not defined",
     "output_type": "error",
     "traceback": [
      "\u001b[1;31m---------------------------------------------------------------------------\u001b[0m",
      "\u001b[1;31mNameError\u001b[0m                                 Traceback (most recent call last)",
      "\u001b[1;32m<ipython-input-17-16dd5aed2d7f>\u001b[0m in \u001b[0;36m<module>\u001b[1;34m\u001b[0m\n\u001b[1;32m----> 1\u001b[1;33m \u001b[0mprint\u001b[0m\u001b[1;33m(\u001b[0m\u001b[0mp\u001b[0m\u001b[1;33m[\u001b[0m\u001b[1;36m0\u001b[0m\u001b[1;33m]\u001b[0m\u001b[1;33m)\u001b[0m\u001b[1;33m\u001b[0m\u001b[1;33m\u001b[0m\u001b[0m\n\u001b[0m\u001b[0;32m      2\u001b[0m \u001b[0mprint\u001b[0m\u001b[1;33m(\u001b[0m\u001b[0mp\u001b[0m\u001b[1;33m[\u001b[0m\u001b[1;36m1\u001b[0m\u001b[1;33m]\u001b[0m\u001b[1;33m)\u001b[0m\u001b[1;33m\u001b[0m\u001b[1;33m\u001b[0m\u001b[0m\n",
      "\u001b[1;31mNameError\u001b[0m: name 'p' is not defined"
     ]
    }
   ],
   "source": [
    "print(p[0])\n",
    "print(p[1])\n",
    "x, y = p\n",
    "print(x)\n",
    "print(y)"
   ]
  },
  {
   "cell_type": "code",
   "execution_count": null,
   "metadata": {},
   "outputs": [],
   "source": [
    "print(isinstance(p, tuple))"
   ]
  },
  {
   "cell_type": "markdown",
   "metadata": {},
   "source": [
    "[例]模拟扑克牌"
   ]
  },
  {
   "cell_type": "code",
   "execution_count": 21,
   "metadata": {
    "collapsed": true
   },
   "outputs": [
    {
     "name": "stdout",
     "output_type": "stream",
     "text": [
      "ranks ['2', '3', '4', '5', '6', '7', '8', '9', '10', 'J', 'Q', 'K', 'A']\n",
      "suits ['spades', 'diamonds', 'clubs', 'hearts']\n"
     ]
    },
    {
     "data": {
      "text/plain": [
       "[Card(rank='2', suit='spades'),\n",
       " Card(rank='2', suit='diamonds'),\n",
       " Card(rank='2', suit='clubs'),\n",
       " Card(rank='2', suit='hearts'),\n",
       " Card(rank='3', suit='spades'),\n",
       " Card(rank='3', suit='diamonds'),\n",
       " Card(rank='3', suit='clubs'),\n",
       " Card(rank='3', suit='hearts'),\n",
       " Card(rank='4', suit='spades'),\n",
       " Card(rank='4', suit='diamonds'),\n",
       " Card(rank='4', suit='clubs'),\n",
       " Card(rank='4', suit='hearts'),\n",
       " Card(rank='5', suit='spades'),\n",
       " Card(rank='5', suit='diamonds'),\n",
       " Card(rank='5', suit='clubs'),\n",
       " Card(rank='5', suit='hearts'),\n",
       " Card(rank='6', suit='spades'),\n",
       " Card(rank='6', suit='diamonds'),\n",
       " Card(rank='6', suit='clubs'),\n",
       " Card(rank='6', suit='hearts'),\n",
       " Card(rank='7', suit='spades'),\n",
       " Card(rank='7', suit='diamonds'),\n",
       " Card(rank='7', suit='clubs'),\n",
       " Card(rank='7', suit='hearts'),\n",
       " Card(rank='8', suit='spades'),\n",
       " Card(rank='8', suit='diamonds'),\n",
       " Card(rank='8', suit='clubs'),\n",
       " Card(rank='8', suit='hearts'),\n",
       " Card(rank='9', suit='spades'),\n",
       " Card(rank='9', suit='diamonds'),\n",
       " Card(rank='9', suit='clubs'),\n",
       " Card(rank='9', suit='hearts'),\n",
       " Card(rank='10', suit='spades'),\n",
       " Card(rank='10', suit='diamonds'),\n",
       " Card(rank='10', suit='clubs'),\n",
       " Card(rank='10', suit='hearts'),\n",
       " Card(rank='J', suit='spades'),\n",
       " Card(rank='J', suit='diamonds'),\n",
       " Card(rank='J', suit='clubs'),\n",
       " Card(rank='J', suit='hearts'),\n",
       " Card(rank='Q', suit='spades'),\n",
       " Card(rank='Q', suit='diamonds'),\n",
       " Card(rank='Q', suit='clubs'),\n",
       " Card(rank='Q', suit='hearts'),\n",
       " Card(rank='K', suit='spades'),\n",
       " Card(rank='K', suit='diamonds'),\n",
       " Card(rank='K', suit='clubs'),\n",
       " Card(rank='K', suit='hearts'),\n",
       " Card(rank='A', suit='spades'),\n",
       " Card(rank='A', suit='diamonds'),\n",
       " Card(rank='A', suit='clubs'),\n",
       " Card(rank='A', suit='hearts')]"
      ]
     },
     "execution_count": 21,
     "metadata": {},
     "output_type": "execute_result"
    }
   ],
   "source": [
    "Card = collections.namedtuple('Card', ['rank', 'suit'])\n",
    "ranks = [str(n) for n in range(2, 11)] + list('JQKA')\n",
    "suits = 'spades diamonds clubs hearts'.split()\n",
    "print('ranks', ranks)\n",
    "print('suits', suits)\n",
    "cards = [Card(rank, suit) for rank in ranks for suit in suits]\n",
    "cards"
   ]
  },
  {
   "cell_type": "code",
   "execution_count": 22,
   "metadata": {
    "collapsed": true
   },
   "outputs": [
    {
     "data": {
      "text/plain": [
       "[Card(rank='K', suit='hearts'),\n",
       " Card(rank='5', suit='hearts'),\n",
       " Card(rank='9', suit='spades'),\n",
       " Card(rank='A', suit='diamonds'),\n",
       " Card(rank='8', suit='spades')]"
      ]
     },
     "execution_count": 22,
     "metadata": {},
     "output_type": "execute_result"
    }
   ],
   "source": [
    "from random import *\n",
    "#洗牌\n",
    "shuffle(cards)\n",
    "cards\n",
    "#随机抽一张牌\n",
    "choice(cards)\n",
    "#随机抽多张牌\n",
    "sample(cards, k=5)"
   ]
  },
  {
   "cell_type": "markdown",
   "metadata": {},
   "source": [
    "#### 3.2 Counter ——计数器工具"
   ]
  },
  {
   "cell_type": "code",
   "execution_count": 25,
   "metadata": {},
   "outputs": [],
   "source": [
    "from collections import Counter"
   ]
  },
  {
   "cell_type": "code",
   "execution_count": 27,
   "metadata": {
    "collapsed": true
   },
   "outputs": [
    {
     "name": "stdout",
     "output_type": "stream",
     "text": [
      "Counter({'奶': 5, '牛': 2, '找': 1, '刘': 1, '买': 1})\n",
      "Counter({'blue': 3, 'red': 2, 'green': 1})\n"
     ]
    }
   ],
   "source": [
    "s = '牛奶奶找刘奶奶买牛奶'\n",
    "colors = ['red', 'blue', 'red', 'green', 'blue', 'blue']\n",
    "cnt_str = Counter(s)\n",
    "cnt_color = Counter(colors)\n",
    "print(cnt_str)\n",
    "print(cnt_color)"
   ]
  },
  {
   "cell_type": "markdown",
   "metadata": {},
   "source": [
    "- 是字典的一个子类"
   ]
  },
  {
   "cell_type": "code",
   "execution_count": null,
   "metadata": {},
   "outputs": [],
   "source": [
    "print(isinstance(Counter(), dict))"
   ]
  },
  {
   "cell_type": "markdown",
   "metadata": {},
   "source": [
    "- 最常见的统计——most_common(n)\n",
    "\n",
    "提供n个频率是最高的元素和计数"
   ]
  },
  {
   "cell_type": "code",
   "execution_count": 28,
   "metadata": {
    "collapsed": true
   },
   "outputs": [
    {
     "data": {
      "text/plain": [
       "[('blue', 3), ('red', 2)]"
      ]
     },
     "execution_count": 28,
     "metadata": {},
     "output_type": "execute_result"
    }
   ],
   "source": [
    "cnt_color.most_common(2)"
   ]
  },
  {
   "cell_type": "markdown",
   "metadata": {},
   "source": [
    "- 元素展开——elements()"
   ]
  },
  {
   "cell_type": "code",
   "execution_count": null,
   "metadata": {},
   "outputs": [],
   "source": [
    "list(cnt_str.elements())"
   ]
  },
  {
   "cell_type": "markdown",
   "metadata": {},
   "source": [
    "- 其他一些加减操作"
   ]
  },
  {
   "cell_type": "code",
   "execution_count": 29,
   "metadata": {
    "collapsed": true
   },
   "outputs": [
    {
     "data": {
      "text/plain": [
       "Counter({'a': 4, 'b': 3})"
      ]
     },
     "execution_count": 29,
     "metadata": {},
     "output_type": "execute_result"
    }
   ],
   "source": [
    "c = Counter(a = 3, b = 1)\n",
    "d = Counter(a = 1, b = 2)\n",
    "c + d"
   ]
  },
  {
   "cell_type": "markdown",
   "metadata": {},
   "source": [
    "[例]从一副牌中取出10张，大于10的比例有多少？"
   ]
  },
  {
   "cell_type": "code",
   "execution_count": 35,
   "metadata": {
    "collapsed": true
   },
   "outputs": [
    {
     "name": "stdout",
     "output_type": "stream",
     "text": [
      "['s_than_ten', 's_than_ten', 's_than_ten', 's_than_ten', 'b_than_ten', 's_than_ten', 'b_than_ten', 's_than_ten', 's_than_ten', 's_than_ten']\n"
     ]
    },
    {
     "data": {
      "text/plain": [
       "0.2"
      ]
     },
     "execution_count": 35,
     "metadata": {},
     "output_type": "execute_result"
    }
   ],
   "source": [
    "cards = collections.Counter(b_than_ten = 16, s_than_ten = 36)\n",
    "seen = sample(list(cards.elements()), k=10)\n",
    "print(seen)\n",
    "seen.count('b_than_ten')/10"
   ]
  },
  {
   "cell_type": "markdown",
   "metadata": {},
   "source": [
    "#### 3.3 deque——双向队列\n",
    "\n",
    "列表访问数据非常快速\n",
    "\n",
    "插入和删除操作非常慢——通过移动元素位置来实现\n",
    "\n",
    "特别是insert(0,v)和pop(0),在列表开始进行的插入和删除操作\n",
    "\n",
    "**双向队列可以方便的在队列两边高效快速的增加和删除元素**"
   ]
  },
  {
   "cell_type": "code",
   "execution_count": 37,
   "metadata": {},
   "outputs": [
    {
     "data": {
      "text/plain": [
       "deque(['c', 'd', 'e'])"
      ]
     },
     "execution_count": 37,
     "metadata": {},
     "output_type": "execute_result"
    }
   ],
   "source": [
    "from collections import deque\n",
    "\n",
    "d = deque('cde')\n",
    "d"
   ]
  },
  {
   "cell_type": "code",
   "execution_count": null,
   "metadata": {},
   "outputs": [],
   "source": [
    "d.append('f')      #右端增加\n",
    "d.append('g')\n",
    "d.appendleft('b')  #左端增加\n",
    "d.appendleft('a')\n",
    "d"
   ]
  },
  {
   "cell_type": "code",
   "execution_count": null,
   "metadata": {},
   "outputs": [],
   "source": [
    "d.pop()       #右端删除\n",
    "d.popleft()   #左端删除\n",
    "d"
   ]
  },
  {
   "cell_type": "markdown",
   "metadata": {},
   "source": [
    "collections的其他用法可参考[官方文档](https://docs.python.org/3/library/collections.html)\n",
    "\n",
    "### 4. itertools库——迭代器\n",
    "\n",
    "#### 4.1 排列组合迭代器\n",
    "\n",
    "- product——笛卡儿积"
   ]
  },
  {
   "cell_type": "code",
   "execution_count": 39,
   "metadata": {
    "collapsed": true
   },
   "outputs": [
    {
     "name": "stdout",
     "output_type": "stream",
     "text": [
      "('A', '0')\n",
      "('A', '1')\n",
      "('B', '0')\n",
      "('B', '1')\n",
      "('C', '0')\n",
      "('C', '1')\n"
     ]
    }
   ],
   "source": [
    "import itertools\n",
    "\n",
    "for i in itertools.product('ABC', '01'):\n",
    "    print(i)"
   ]
  },
  {
   "cell_type": "code",
   "execution_count": null,
   "metadata": {},
   "outputs": [],
   "source": [
    "for i in itertools.product('ABC', repeat = 3):\n",
    "    print(i)"
   ]
  },
  {
   "cell_type": "markdown",
   "metadata": {},
   "source": [
    "- permutations——排列"
   ]
  },
  {
   "cell_type": "code",
   "execution_count": null,
   "metadata": {},
   "outputs": [],
   "source": [
    "for i in itertools.permutations('ABC', 3):  #3是排列的长度\n",
    "    print(i)"
   ]
  },
  {
   "cell_type": "code",
   "execution_count": null,
   "metadata": {},
   "outputs": [],
   "source": [
    "for i in itertools.permutations(range(3)):\n",
    "    print(i)"
   ]
  },
  {
   "cell_type": "markdown",
   "metadata": {},
   "source": [
    "- combinations——组合"
   ]
  },
  {
   "cell_type": "code",
   "execution_count": null,
   "metadata": {},
   "outputs": [],
   "source": [
    "for i in itertools.combinations('ABCD', 2): #2是组合的长度，不可缺省\n",
    "    print(i)"
   ]
  },
  {
   "cell_type": "code",
   "execution_count": null,
   "metadata": {},
   "outputs": [],
   "source": [
    "for i in itertools.combinations(range(4), 3):\n",
    "    print(i)"
   ]
  },
  {
   "cell_type": "markdown",
   "metadata": {},
   "source": [
    "- combinations_with_replacement——元素可重复组合"
   ]
  },
  {
   "cell_type": "code",
   "execution_count": 40,
   "metadata": {
    "collapsed": true
   },
   "outputs": [
    {
     "name": "stdout",
     "output_type": "stream",
     "text": [
      "('A', 'A')\n",
      "('A', 'B')\n",
      "('A', 'C')\n",
      "('B', 'B')\n",
      "('B', 'C')\n",
      "('C', 'C')\n"
     ]
    }
   ],
   "source": [
    "for i in itertools.combinations_with_replacement('ABC', 2):\n",
    "    print(i)"
   ]
  },
  {
   "cell_type": "code",
   "execution_count": 41,
   "metadata": {
    "collapsed": true
   },
   "outputs": [
    {
     "name": "stdout",
     "output_type": "stream",
     "text": [
      "('A', 'A')\n",
      "('A', 'B')\n",
      "('A', 'C')\n",
      "('B', 'A')\n",
      "('B', 'B')\n",
      "('B', 'C')\n",
      "('C', 'A')\n",
      "('C', 'B')\n",
      "('C', 'C')\n"
     ]
    }
   ],
   "source": [
    "for i in itertools.product('ABC', repeat = 2):\n",
    "    print(i)"
   ]
  },
  {
   "cell_type": "markdown",
   "metadata": {},
   "source": [
    "#### 4.2 拉链\n",
    "\n",
    "- zip——短拉链"
   ]
  },
  {
   "cell_type": "code",
   "execution_count": null,
   "metadata": {},
   "outputs": [],
   "source": [
    "for i in zip('ABC', '012', 'xyz'):\n",
    "    print(i)"
   ]
  },
  {
   "cell_type": "markdown",
   "metadata": {},
   "source": [
    "长度不一时，执行到最短的对象处就停止"
   ]
  },
  {
   "cell_type": "code",
   "execution_count": null,
   "metadata": {},
   "outputs": [],
   "source": [
    "for i in zip('ABC', '012345'):\n",
    "    print(i)"
   ]
  },
  {
   "cell_type": "markdown",
   "metadata": {},
   "source": [
    "- zip_longest——长拉链\n",
    "\n",
    "长度不一时，执行到最长的对象处停止，缺省元素用None或指定字符代替"
   ]
  },
  {
   "cell_type": "code",
   "execution_count": null,
   "metadata": {},
   "outputs": [],
   "source": [
    "for in in itertools.zip_longest('ABC', '012345'):\n",
    "    print(i)"
   ]
  },
  {
   "cell_type": "code",
   "execution_count": null,
   "metadata": {},
   "outputs": [],
   "source": [
    "for in in itertools.zip_longest('ABC', '012345', fillvalue = '?'):\n",
    "    print(i)"
   ]
  },
  {
   "cell_type": "markdown",
   "metadata": {},
   "source": [
    "#### 4.3 无穷迭代器\n",
    "\n",
    "- count(start = 0, step = 1)——计数\n",
    "\n",
    "创建一个迭代器，它从start开始，返回均匀间隔的值"
   ]
  },
  {
   "cell_type": "code",
   "execution_count": null,
   "metadata": {},
   "outputs": [],
   "source": [
    "for i in itertools.count(10):\n",
    "    print(i)"
   ]
  },
  {
   "cell_type": "markdown",
   "metadata": {},
   "source": [
    "- cycle(iterable)——循环\n",
    "\n",
    "创建一个迭代器，返回iterable中所有元素，无限重复"
   ]
  },
  {
   "cell_type": "code",
   "execution_count": null,
   "metadata": {},
   "outputs": [],
   "source": [
    "for i in itertools.cycle('ABC'):\n",
    "    print(i)"
   ]
  },
  {
   "cell_type": "markdown",
   "metadata": {},
   "source": [
    "- repeat(object, [, times])——重复"
   ]
  },
  {
   "cell_type": "code",
   "execution_count": 47,
   "metadata": {
    "collapsed": true
   },
   "outputs": [
    {
     "name": "stdout",
     "output_type": "stream",
     "text": [
      "10\n",
      "10\n",
      "10\n"
     ]
    }
   ],
   "source": [
    "for i in itertools.repeat(10, 3):\n",
    "    print(i)"
   ]
  },
  {
   "cell_type": "markdown",
   "metadata": {},
   "source": [
    "- 其他\n",
    "\n",
    "chain(iterable)——锁链\n",
    "\n",
    "把一组迭代对象串联起来，形成一个更大的迭代器"
   ]
  },
  {
   "cell_type": "code",
   "execution_count": null,
   "metadata": {},
   "outputs": [],
   "source": [
    "for i in itertools.chain('ABC', [1, 2, 3], ('me', 'you')):\n",
    "    print(i)"
   ]
  },
  {
   "cell_type": "markdown",
   "metadata": {},
   "source": [
    "enumerate(iterable, start=0)——枚举\n",
    "\n",
    "产出两个元素组成的元组，结构是(index, item), 其中index从start开始，item从iterable中取"
   ]
  },
  {
   "cell_type": "code",
   "execution_count": null,
   "metadata": {},
   "outputs": [],
   "source": [
    "for i in emumerate('Python', start = 0):\n",
    "    print(i)"
   ]
  },
  {
   "cell_type": "markdown",
   "metadata": {},
   "source": [
    "groupby(iterable, key=None)——分组\n",
    "\n",
    "创建一个迭代器，按照key置顶的方式，返回iterable中连续的键和组\n",
    "\n",
    "一般来说要预先对数据进行排序\n",
    "\n",
    "key为None默认把连续重复元素分组"
   ]
  },
  {
   "cell_type": "code",
   "execution_count": null,
   "metadata": {},
   "outputs": [],
   "source": [
    "for key, group in itertools.groupby('AAAABBBCCDAABBB'):\n",
    "    print(key, list(group))"
   ]
  },
  {
   "cell_type": "code",
   "execution_count": 50,
   "metadata": {
    "collapsed": true
   },
   "outputs": [
    {
     "name": "stdout",
     "output_type": "stream",
     "text": [
      "['rat', 'cat', 'cow', 'duck', 'lion', 'eagle', 'horse', 'whale', 'shark', 'zebra']\n",
      "3 ['rat', 'cat', 'cow']\n",
      "4 ['duck', 'lion']\n",
      "5 ['eagle', 'horse', 'whale', 'shark', 'zebra']\n"
     ]
    }
   ],
   "source": [
    "animals = ['duck', 'eagle', 'rat', 'horse', 'whale', 'cat', 'shark', 'zebra', 'lion', 'cow']\n",
    "animals.sort(key=len)\n",
    "print(animals)\n",
    "for key, group in itertools.groupby(animals, key = len):\n",
    "    print(key, list(group))"
   ]
  },
  {
   "cell_type": "code",
   "execution_count": 51,
   "metadata": {
    "collapsed": true
   },
   "outputs": [
    {
     "name": "stdout",
     "output_type": "stream",
     "text": [
      "['cat', 'cow', 'duck', 'eagle', 'horse', 'lion', 'rat', 'shark', 'whale', 'zebra']\n",
      "c ['cat', 'cow']\n",
      "d ['duck']\n",
      "e ['eagle']\n",
      "h ['horse']\n",
      "l ['lion']\n",
      "r ['rat']\n",
      "s ['shark']\n",
      "w ['whale']\n",
      "z ['zebra']\n"
     ]
    }
   ],
   "source": [
    "animals.sort(key = lambda x : x[0])\n",
    "print(animals)\n",
    "for key, group in itertools.groupby(animals, key = lambda x : x[0]):\n",
    "    print(key, list(group))"
   ]
  },
  {
   "cell_type": "markdown",
   "metadata": {},
   "source": [
    "## 第三部分 异常处理\n",
    "\n",
    "### 1. 常见异常的产生\n",
    "\n",
    "#### 1.1 除0运算——ZeroDivisionError"
   ]
  },
  {
   "cell_type": "code",
   "execution_count": null,
   "metadata": {},
   "outputs": [],
   "source": [
    "5 / 0"
   ]
  },
  {
   "cell_type": "markdown",
   "metadata": {},
   "source": [
    "#### 1.2 找不到可读文件——FileNotFoundError"
   ]
  },
  {
   "cell_type": "code",
   "execution_count": null,
   "metadata": {},
   "outputs": [],
   "source": [
    "with open('nobody.txt') as f:\n",
    "    pass"
   ]
  },
  {
   "cell_type": "markdown",
   "metadata": {},
   "source": [
    "#### 1.3 值错误——ValueError\n",
    "\n",
    "传入一个调用者不期望的值，即使这个值的类型是正确的"
   ]
  },
  {
   "cell_type": "code",
   "execution_count": null,
   "metadata": {},
   "outputs": [],
   "source": [
    "s = '1.3'\n",
    "a = int(s)"
   ]
  },
  {
   "cell_type": "markdown",
   "metadata": {},
   "source": [
    "#### 1.4 索引错误——IndexError\n",
    "\n",
    "下标超出序列边界"
   ]
  },
  {
   "cell_type": "code",
   "execution_count": null,
   "metadata": {},
   "outputs": [],
   "source": [
    "ls = [1, 2, 3]\n",
    "ls[4]"
   ]
  },
  {
   "cell_type": "markdown",
   "metadata": {},
   "source": [
    "#### 1.5 类型错误——TypeError\n",
    "\n",
    "传入对象类型与要求不符"
   ]
  },
  {
   "cell_type": "code",
   "execution_count": null,
   "metadata": {},
   "outputs": [],
   "source": [
    "1 + '3'"
   ]
  },
  {
   "cell_type": "markdown",
   "metadata": {},
   "source": [
    "#### 1.6 其他常见错误\n",
    "\n",
    "NameError：使用未定义的变量\n",
    "\n",
    "KeyError：试图访问字典里不存在的键\n",
    "\n",
    "AttributeError：特性引用和赋值失败时会引发属性错误\n",
    "\n",
    "SyntaxError：代码形式错误，比如少了括号、冒号等\n",
    "\n",
    "IndentationError：缩进错误"
   ]
  },
  {
   "cell_type": "code",
   "execution_count": null,
   "metadata": {},
   "outputs": [],
   "source": [
    "print(string)"
   ]
  },
  {
   "cell_type": "code",
   "execution_count": null,
   "metadata": {},
   "outputs": [],
   "source": [
    "d = {}\n",
    "d['1']"
   ]
  },
  {
   "cell_type": "code",
   "execution_count": null,
   "metadata": {},
   "outputs": [],
   "source": [
    "tp = (1, 2, 3)\n",
    "tp.append(4)"
   ]
  },
  {
   "cell_type": "code",
   "execution_count": 1,
   "metadata": {
    "collapsed": true
   },
   "outputs": [
    {
     "ename": "IndentationError",
     "evalue": "expected an indented block (<ipython-input-1-08a1f7d40f56>, line 3)",
     "output_type": "error",
     "traceback": [
      "\u001b[1;36m  File \u001b[1;32m\"<ipython-input-1-08a1f7d40f56>\"\u001b[1;36m, line \u001b[1;32m3\u001b[0m\n\u001b[1;33m    print(a)\u001b[0m\n\u001b[1;37m        ^\u001b[0m\n\u001b[1;31mIndentationError\u001b[0m\u001b[1;31m:\u001b[0m expected an indented block\n"
     ]
    }
   ],
   "source": [
    "a = 1\n",
    "if a>0:\n",
    "print(a)"
   ]
  },
  {
   "cell_type": "markdown",
   "metadata": {},
   "source": [
    "当异常发生的时候，如果不预先设定处理方法，程序会中断。因此要预判并相应处理。\n",
    "\n",
    "### 2. 异常的处理\n",
    "\n",
    "**提高程序稳定性和可靠性\n",
    "\n",
    "#### 2.1 try_except\n",
    "\n",
    "- 如果try内代码块顺利执行，except不会被触发\n",
    "    \n",
    "- 如果try内代码块发生错误，触发except，执行except内代码块"
   ]
  },
  {
   "cell_type": "code",
   "execution_count": null,
   "metadata": {},
   "outputs": [],
   "source": [
    "# 单分支\n",
    "\n",
    "x = 10\n",
    "y = 0\n",
    "try:\n",
    "    z = x/y\n",
    "except ZeroDivisionError:   #提前预判错误类型，如果预判错误？\n",
    "    # z = x/(y+1e-7)\n",
    "    # print(z)\n",
    "    print('0不能被除！')"
   ]
  },
  {
   "cell_type": "code",
   "execution_count": null,
   "metadata": {},
   "outputs": [],
   "source": [
    "# 多分支\n",
    "\n",
    "ls = []\n",
    "d = {'name':'刘子瑜'}\n",
    "try:\n",
    "    # y = x\n",
    "    # ls[3]\n",
    "    d['age']\n",
    "except NameError:\n",
    "    print('变量名不存在')\n",
    "except IndexError:\n",
    "    print('索引超出界限')\n",
    "except KeyError:\n",
    "    print('键不存在')"
   ]
  },
  {
   "cell_type": "markdown",
   "metadata": {},
   "source": [
    "- 万能异常 Exception（所有错误的父类）"
   ]
  },
  {
   "cell_type": "code",
   "execution_count": null,
   "metadata": {},
   "outputs": [],
   "source": [
    "ls = []\n",
    "d = {'name':'刘子瑜'}\n",
    "try:\n",
    "    # y = x\n",
    "    # ls[3]\n",
    "    d['age']\n",
    "except Exception:\n",
    "    print('出错啦')"
   ]
  },
  {
   "cell_type": "markdown",
   "metadata": {},
   "source": [
    "- 捕获异常值 as"
   ]
  },
  {
   "cell_type": "code",
   "execution_count": null,
   "metadata": {},
   "outputs": [],
   "source": [
    "ls = []\n",
    "d = {'name':'刘子瑜'}\n",
    "# y = x\n",
    "try:\n",
    "    # y = x\n",
    "    # ls[3]\n",
    "    d['age']\n",
    "except Exception as e:    #不能获得错误具体类型，但可以获得错误的值\n",
    "    print(e)"
   ]
  },
  {
   "cell_type": "markdown",
   "metadata": {},
   "source": [
    "#### 2.2 try_except_else\n",
    "\n",
    "- 如果try 模块执行，则else模块也执行\n",
    "\n",
    "可以把else看作try成功的额外奖赏"
   ]
  },
  {
   "cell_type": "code",
   "execution_count": null,
   "metadata": {},
   "outputs": [],
   "source": [
    "try:\n",
    "    with open('imagine_lyrics.txt') as f:\n",
    "        text = f.read()\n",
    "except FileNotFoundError:\n",
    "    print('找不到该文件，它隐身了？')\n",
    "else:\n",
    "    for s in ['\\n', ',', '.', '?']:\n",
    "        text = text.replace(s, '')\n",
    "        print('披头士的歌曲《Imagine》共由{}个字组成。'.format(len(text)))"
   ]
  },
  {
   "cell_type": "markdown",
   "metadata": {},
   "source": [
    "#### 2.3 try_except_finally\n",
    "\n",
    "- 不论try模块是否执行，finally最终都会执行"
   ]
  },
  {
   "cell_type": "code",
   "execution_count": null,
   "metadata": {},
   "outputs": [],
   "source": [
    "ls = []\n",
    "d = {'name':'刘子瑜'}\n",
    "# y = x\n",
    "try:\n",
    "    # y = x\n",
    "    # ls[3]\n",
    "    d['age']\n",
    "except Exception as e:    #不能获得错误具体类型，但可以获得错误的值\n",
    "    print(e)\n",
    "finally:\n",
    "    print('不论是否触发异常，都将执行finally')"
   ]
  },
  {
   "cell_type": "markdown",
   "metadata": {},
   "source": [
    "## 第四部分 Python提升探索\n",
    "\n",
    "尝试着潜入水中，往大洋的深处扎一个小小的猛子\n",
    "\n",
    "### 1. 数据类型的底层实现\n",
    "\n",
    "#### 1.1 奇怪的列表\n",
    "\n",
    "- 错综复杂的复制"
   ]
  },
  {
   "cell_type": "code",
   "execution_count": 23,
   "metadata": {},
   "outputs": [],
   "source": [
    "list_1 = [1, [22, 33, 44], (5, 6, 7), {'name':'Admond'}]\n",
    "\n",
    "#直接赋值，对象的引用（别名）\n",
    "list_2 = list_1\n",
    "\n",
    "#浅拷贝，拷贝父对象，不会拷贝对象内部的子对象\n",
    "list_3 = list_1.copy()\n",
    "list_4 = list_1[:]\n",
    "list_5 = list(list_1)\n",
    "\n",
    "#深拷贝，copy模块的deepcopy方法，完全拷贝了父对象及其子对象\n",
    "import copy\n",
    "\n",
    "list_6 = copy.deepcopy(list_1)"
   ]
  },
  {
   "cell_type": "markdown",
   "metadata": {},
   "source": [
    "直接赋值\n",
    "\n",
    "![直接赋值](https://www.runoob.com/wp-content/uploads/2017/03/1489720931-7116-4AQC6.png)\n",
    "\n",
    "浅拷贝\n",
    "\n",
    "![浅拷贝](https://www.runoob.com/wp-content/uploads/2017/03/1489720930-6827-Vtk4m.png)\n",
    "\n",
    "深拷贝\n",
    "\n",
    "![深拷贝](https://www.runoob.com/wp-content/uploads/2017/03/1489720930-5882-BO4qO.png)"
   ]
  },
  {
   "cell_type": "markdown",
   "metadata": {},
   "source": [
    "#### 1.2 列表的底层实现\n",
    "\n",
    "**引用数组的概念**\n",
    "\n",
    "列表内的元素可以分散地存储在内存中\n",
    "\n",
    "列表内存储的，实际上是这些**元素的地址！**——地址的存储\n",
    "\n",
    "![列表与引用数组](.\\image\\list.png)"
   ]
  },
  {
   "cell_type": "code",
   "execution_count": 26,
   "metadata": {},
   "outputs": [],
   "source": [
    "list_1 = [1, [22, 33, 44], (5, 6, 7), {'name':'Admond'}]\n",
    "list_2 = list_1.copy()"
   ]
  },
  {
   "cell_type": "markdown",
   "metadata": {},
   "source": [
    "- 新增元素"
   ]
  },
  {
   "cell_type": "code",
   "execution_count": null,
   "metadata": {},
   "outputs": [],
   "source": [
    "list_1.append(100)\n",
    "list_2.append('n')\n",
    "\n",
    "print('list_1: ', list_1)\n",
    "print('list_2: ', list_2)"
   ]
  },
  {
   "cell_type": "markdown",
   "metadata": {},
   "source": [
    "![如何实现](.\\image\\list_copy_append.png)\n",
    "\n",
    "- 修改元素"
   ]
  },
  {
   "cell_type": "markdown",
   "metadata": {},
   "source": [
    "list_1[0] = 10\n",
    "list_2[0] = 20\n",
    "\n",
    "print('list_1: ', list_1)\n",
    "print('list_2: ', list_2)"
   ]
  },
  {
   "cell_type": "markdown",
   "metadata": {},
   "source": [
    "![修改如何实现](.\\image\\list_copy_change.png)\n",
    "\n",
    "- 对列表型元素进行操作"
   ]
  },
  {
   "cell_type": "code",
   "execution_count": null,
   "metadata": {},
   "outputs": [],
   "source": [
    "list_1[1].remove(44)\n",
    "list_2[1] += [55, 66]\n",
    "\n",
    "print('list_1: ', list_1)\n",
    "print('list_2: ', list_2)"
   ]
  },
  {
   "cell_type": "markdown",
   "metadata": {},
   "source": [
    "![如何实现](.\\image\\list_copy_change_1.png)\n",
    "\n",
    "- 对元组型元素进行操作"
   ]
  },
  {
   "cell_type": "code",
   "execution_count": null,
   "metadata": {},
   "outputs": [],
   "source": [
    "list_2[2] += (8, 9)\n",
    "\n",
    "print('list_1: ', list_1)\n",
    "print('list_2: ', list_2)"
   ]
  },
  {
   "cell_type": "markdown",
   "metadata": {},
   "source": [
    "![如何实现](.\\image\\list_copy_change_2.png)\n",
    "\n",
    "元组是不可变的，一旦进行了拼接操作，会形成新的元组\n",
    "\n",
    "- 对字典型元素进行操作"
   ]
  },
  {
   "cell_type": "code",
   "execution_count": null,
   "metadata": {},
   "outputs": [],
   "source": [
    "list_1[-1]['age'] = 18\n",
    "\n",
    "print('list_1: ', list_1)\n",
    "print('list_2: ', list_2)"
   ]
  },
  {
   "cell_type": "markdown",
   "metadata": {},
   "source": [
    "![如何实现](.\\image\\list_copy_change_3.png)\n",
    "\n",
    "- **引入深拷贝**\n",
    "\n",
    "深拷贝将所有层级的相关元素全部复制，完全分开，泾渭分明，避免了上述问题"
   ]
  },
  {
   "cell_type": "code",
   "execution_count": null,
   "metadata": {},
   "outputs": [],
   "source": [
    "import copy\n",
    "\n",
    "list_1 = [1, [22, 33, 44], (5, 6, 7), {'name':'Admond'}]\n",
    "list_2 = copy.deepcopy(list_1)\n",
    "list_1[-1]['age'] = 18\n",
    "list_2[1].append(55)\n",
    "\n",
    "print('list_1: ', list_1)\n",
    "print('list_2: ', list_2)"
   ]
  },
  {
   "cell_type": "markdown",
   "metadata": {},
   "source": [
    "#### 1.2 神秘的字典\n",
    "\n",
    "- 快速的查找"
   ]
  },
  {
   "cell_type": "code",
   "execution_count": null,
   "metadata": {},
   "outputs": [],
   "source": [
    "import time\n",
    "\n",
    "ls_1 = list(range(1000000))\n",
    "ls_2 = list(range(500)) + [-10] * 500\n",
    "\n",
    "start = time.time()\n",
    "count = 0\n",
    "for n in ls_2:\n",
    "    if n in ls_1:\n",
    "        count += 1\n",
    "end = timt.time()\n",
    "print('查找{}个元素，在ls_1列表中的有{}个，共用时{}秒'.format(len(ls_2), count, round((end-start), 2)))"
   ]
  },
  {
   "cell_type": "code",
   "execution_count": null,
   "metadata": {},
   "outputs": [],
   "source": [
    "import time\n",
    "\n",
    "d = {i: i for i in range(1000000)}\n",
    "ls_2 = list(range(500)) + [-10] * 500\n",
    "\n",
    "start = time.time()\n",
    "count = 0\n",
    "for n in ls_2:\n",
    "    try:\n",
    "        d[n]\n",
    "    except:\n",
    "        pass\n",
    "    else:\n",
    "        count += 1\n",
    "end = timt.time()\n",
    "print('查找{}个元素，在ls_1列表中的有{}个，共用时{}秒'.format(len(ls_2), count, round((end-start), 2)))"
   ]
  },
  {
   "cell_type": "markdown",
   "metadata": {},
   "source": [
    "- 字典的底层实现\n",
    "\n",
    "通过稀疏数组来实现值的存储与访问\n",
    "\n",
    "- **字典的创建过程**\n",
    "\n",
    "    > 第一步：创建一个散列表（稀疏数组 N >> n）"
   ]
  },
  {
   "cell_type": "code",
   "execution_count": null,
   "metadata": {},
   "outputs": [],
   "source": [
    "d = {}"
   ]
  },
  {
   "cell_type": "markdown",
   "metadata": {},
   "source": [
    "    > 第二步：通过hash()计算键的散列值"
   ]
  },
  {
   "cell_type": "code",
   "execution_count": null,
   "metadata": {},
   "outputs": [],
   "source": [
    "print(hash('python'))\n",
    "print(hash(1024))\n",
    "print(hash(1.2))"
   ]
  },
  {
   "cell_type": "code",
   "execution_count": null,
   "metadata": {},
   "outputs": [],
   "source": [
    "d['age'] = 18   #增加键值对的操作，首先会计算键的散列值hash('age')\n",
    "print(hash('age'))"
   ]
  },
  {
   "cell_type": "markdown",
   "metadata": {},
   "source": [
    "    > 第三步：根据计算的散列值确定在散列表中的位置\n",
    "    \n",
    "    极个别时候，散列值会发生冲突，而内部有相应的解决冲突的办法\n",
    "    \n",
    "    > 第四步：在该位置上存入值\n",
    "    \n",
    "![字典的底层实现](.\\image\\dict.png)\n",
    "    \n",
    "- **键值对的访问过程**"
   ]
  },
  {
   "cell_type": "code",
   "execution_count": null,
   "metadata": {},
   "outputs": [],
   "source": [
    "d['age']"
   ]
  },
  {
   "cell_type": "markdown",
   "metadata": {},
   "source": [
    "    > 第一步：计算要访问键的散列值\n",
    "    \n",
    "    > 第二步：根据计算的散列值，通过一定的规则，确定其在散列表中的位置\n",
    "    \n",
    "    > 第三步：读取该位置上存储的值\n",
    "    \n",
    "        如果存在，则返回该值\n",
    "        \n",
    "        如果不存在，则报错KeyError\n",
    "        \n",
    "- **小结**\n",
    "\n",
    "**（1）字典数据类型，通过空间换时间，实现了快速的数据查找**\n",
    "\n",
    "但同时空间利用效率低下\n",
    "\n",
    "**（2）因为散列值对应位置的顺序与键在字典中显式的顺序可能不同，因此表现出来字典是无序的**\n",
    "\n",
    "N >> n\n",
    "如果N == n， 会产生很多位置冲突\n",
    "\n",
    "#### 1.3 紧凑的字符串\n",
    "\n",
    "**通过紧凑数组来实现字符串的存储**\n",
    "\n",
    "![字符串实现](.\\image\\str.png)\n",
    "\n",
    "数据在内存中是连续存放的，效率更高，节省空间\n",
    "\n",
    "为什么列表采用引用数组，而字符串采用紧凑数组？\n",
    "\n",
    "#### 1.4 是否可变\n",
    "\n",
    "- **不可变类型：数字、字符串、元组**\n",
    "\n",
    "    在生命周期中保持内容不变。换言之，改变了值就不是它自己了（内存中的id变了），不可变对象的+=操作，实际上创建了一个新的对象"
   ]
  },
  {
   "cell_type": "code",
   "execution_count": null,
   "metadata": {},
   "outputs": [],
   "source": [
    "x = 1\n",
    "y = 'Python'\n",
    "\n",
    "print('x id:', id(x))\n",
    "print('y id:', id(y))\n",
    "\n",
    "x += 2\n",
    "y += '3.8'\n",
    "\n",
    "print('x id:', id(x))\n",
    "print('y id:', id(y))\n",
    "\n",
    "x = x + 5\n",
    "y = y + 'beta'\n",
    "\n",
    "print('x id:', id(x))\n",
    "print('y id:', id(y))"
   ]
  },
  {
   "cell_type": "markdown",
   "metadata": {},
   "source": [
    "元组也并不是不可变的"
   ]
  },
  {
   "cell_type": "code",
   "execution_count": 1,
   "metadata": {
    "collapsed": true
   },
   "outputs": [
    {
     "name": "stdout",
     "output_type": "stream",
     "text": [
      "t id: 2720937693640\n",
      "(1, [2, 3])\n",
      "t id: 2720937693640\n"
     ]
    }
   ],
   "source": [
    "t = (1, [2])\n",
    "print('t id:', id(t))\n",
    "\n",
    "t[1].append(3)\n",
    "print(t)\n",
    "print('t id:', id(t))"
   ]
  },
  {
   "cell_type": "markdown",
   "metadata": {},
   "source": [
    "- **可变类型：列表、字典、集合**\n",
    "\n",
    "    id 保持不变，但是里面的内容可以变。可变对象的 += 操作实际在元对象的基础上就地修改。"
   ]
  },
  {
   "cell_type": "code",
   "execution_count": null,
   "metadata": {},
   "outputs": [],
   "source": [
    "ls = [1, 2, 3]\n",
    "d = {'name': 'Sarah', 'age': 18}\n",
    "\n",
    "print('ls id: ', id(ls))\n",
    "print('d id: ', id(d))\n",
    "\n",
    "ls += [4, 5]\n",
    "d_2 = {'sex': 'Female'}\n",
    "d.update(d_2)\n",
    "\n",
    "print('ls id: ', id(ls))\n",
    "print('d id: ', id(d))"
   ]
  },
  {
   "cell_type": "markdown",
   "metadata": {},
   "source": [
    "#### 1.5 列表操作的几个小例子\n",
    "\n",
    "【例1】删除列表内的特定元素\n",
    "\n",
    "方法1：存在运算删除法\n",
    "\n",
    "缺点：每次存在运算，都要从头对列表进行遍历、查找，效率低"
   ]
  },
  {
   "cell_type": "code",
   "execution_count": 6,
   "metadata": {
    "collapsed": true
   },
   "outputs": [
    {
     "name": "stdout",
     "output_type": "stream",
     "text": [
      "[2, 2, 4]\n"
     ]
    }
   ],
   "source": [
    "alist = ['d', 'd', 'd', 2, 2, 'd', 'd', 4]\n",
    "s = 'd'\n",
    "while True:\n",
    "    if s in alist:\n",
    "        alist.remove(s)  #remove(s)删除列表中第一次出现的该元素\n",
    "    else:\n",
    "        break\n",
    "print(alist)"
   ]
  },
  {
   "cell_type": "markdown",
   "metadata": {},
   "source": [
    "方法2：一次性遍历元素执行删除"
   ]
  },
  {
   "cell_type": "code",
   "execution_count": 7,
   "metadata": {
    "collapsed": true
   },
   "outputs": [
    {
     "name": "stdout",
     "output_type": "stream",
     "text": [
      "[2, 2, 'd', 'd', 4]\n"
     ]
    }
   ],
   "source": [
    "alist = ['d', 'd', 'd', 2, 2, 'd', 'd', 4]\n",
    "for s in alist:\n",
    "    if s == 'd':\n",
    "        alist.remove(s)\n",
    "print(alist)"
   ]
  },
  {
   "cell_type": "markdown",
   "metadata": {},
   "source": [
    "解决方法：使用负向索引"
   ]
  },
  {
   "cell_type": "code",
   "execution_count": null,
   "metadata": {},
   "outputs": [],
   "source": [
    "alist = ['d', 'd', 'd', 2, 2, 'd', 'd', 4]\n",
    "for i in range(-len(alist), 0):\n",
    "    if alist[i] == 'd':\n",
    "        alist.remove(alist[i])  #remove(s)删除列表中第一次出现的该元素\n",
    "print(alist)"
   ]
  },
  {
   "cell_type": "markdown",
   "metadata": {},
   "source": [
    "【例2】多维列表的创建"
   ]
  },
  {
   "cell_type": "code",
   "execution_count": 8,
   "metadata": {
    "collapsed": true
   },
   "outputs": [
    {
     "data": {
      "text/plain": [
       "[[0, 0, 0, 0, 0, 0, 0, 0, 0, 0],\n",
       " [0, 0, 0, 0, 0, 0, 0, 0, 0, 0],\n",
       " [0, 0, 0, 0, 0, 0, 0, 0, 0, 0],\n",
       " [0, 0, 0, 0, 0, 0, 0, 0, 0, 0],\n",
       " [0, 0, 0, 0, 0, 0, 0, 0, 0, 0]]"
      ]
     },
     "execution_count": 8,
     "metadata": {},
     "output_type": "execute_result"
    }
   ],
   "source": [
    "ls = [[0]*10]*5\n",
    "ls"
   ]
  },
  {
   "cell_type": "code",
   "execution_count": 9,
   "metadata": {
    "collapsed": true
   },
   "outputs": [
    {
     "data": {
      "text/plain": [
       "[[1, 0, 0, 0, 0, 0, 0, 0, 0, 0],\n",
       " [1, 0, 0, 0, 0, 0, 0, 0, 0, 0],\n",
       " [1, 0, 0, 0, 0, 0, 0, 0, 0, 0],\n",
       " [1, 0, 0, 0, 0, 0, 0, 0, 0, 0],\n",
       " [1, 0, 0, 0, 0, 0, 0, 0, 0, 0]]"
      ]
     },
     "execution_count": 9,
     "metadata": {},
     "output_type": "execute_result"
    }
   ],
   "source": [
    "ls[0][0] = 1\n",
    "ls"
   ]
  },
  {
   "cell_type": "markdown",
   "metadata": {},
   "source": [
    "### 2. 更加简洁的语法\n",
    "\n",
    "#### 2.1 解析语法"
   ]
  },
  {
   "cell_type": "code",
   "execution_count": null,
   "metadata": {},
   "outputs": [],
   "source": [
    "ls = [[0]*10 for i in range(5)]\n",
    "ls"
   ]
  },
  {
   "cell_type": "code",
   "execution_count": null,
   "metadata": {},
   "outputs": [],
   "source": [
    "ls[0][0] = 1\n",
    "ls"
   ]
  },
  {
   "cell_type": "markdown",
   "metadata": {},
   "source": [
    "- 解析语法的基本结构——以列表解析为例（也称为列表推导、列表生成式等）\n",
    "\n",
    "[**expression** for value in **iterable** if condition]\n",
    "\n",
    "- 三要素：表达式、可迭代对象、if条件（可选）\n",
    "\n",
    "**执行过程**\n",
    "\n",
    "    > 第一步，从可迭代对象中拿出一个元素\n",
    "    \n",
    "    > 第二步，通过if条件（如果有），对元素进行筛选\n",
    "        \n",
    "        若通过筛选，则把元素传递给表达式\n",
    "        \n",
    "        若未通过，则进入下一次迭代\n",
    "      \n",
    "    > 第三步，将传递给表达式的元素，代入表达式处理，产生结果\n",
    "    \n",
    "    > 第四步，将第三步产生的结果作为列表的一个元素进行存储\n",
    "    \n",
    "    > 第五步，重复一至四步，直到迭代结束，返回新创建的列表"
   ]
  },
  {
   "cell_type": "code",
   "execution_count": null,
   "metadata": {},
   "outputs": [],
   "source": [
    "#等价于如下代码\n",
    "result = []\n",
    "for value in iteralbe:\n",
    "    if condition:\n",
    "        result.append(expression)"
   ]
  },
  {
   "cell_type": "markdown",
   "metadata": {},
   "source": [
    "【例】求20以内奇数的平方"
   ]
  },
  {
   "cell_type": "code",
   "execution_count": null,
   "metadata": {},
   "outputs": [],
   "source": [
    "square = []\n",
    "for i in range(1, 21):\n",
    "    if i%2 == 1:\n",
    "        square.append(i**2)\n",
    "print(square)"
   ]
  },
  {
   "cell_type": "code",
   "execution_count": null,
   "metadata": {},
   "outputs": [],
   "source": [
    "squares = [i**2 for i in range(1, 21) if i%2 == 1]\n",
    "print(square)"
   ]
  },
  {
   "cell_type": "markdown",
   "metadata": {},
   "source": [
    "**支持多变量和嵌套循环**"
   ]
  },
  {
   "cell_type": "code",
   "execution_count": null,
   "metadata": {},
   "outputs": [],
   "source": [
    "x = [1, 2, 3]\n",
    "y = [4, 5, 6]\n",
    "\n",
    "results = [i*j for i, j in zip(x, y)]\n",
    "results"
   ]
  },
  {
   "cell_type": "code",
   "execution_count": null,
   "metadata": {},
   "outputs": [],
   "source": [
    "colors = ['black', 'white']\n",
    "sizes = ['s', 'm', 'l']\n",
    "tshirts = ['{} {}'.format(color, size) for color in colors for size in sizes]\n",
    "tshirts"
   ]
  },
  {
   "cell_type": "markdown",
   "metadata": {},
   "source": [
    "#### 2.2 其他解析语法的例子\n",
    "\n",
    "- 解析语法构造字典（字典生成式）"
   ]
  },
  {
   "cell_type": "code",
   "execution_count": null,
   "metadata": {},
   "outputs": [],
   "source": [
    "squares = {i : i**2 for i in range(10)}\n",
    "for k, v in squares.items():\n",
    "    print(k, ': ', v)"
   ]
  },
  {
   "cell_type": "markdown",
   "metadata": {},
   "source": [
    "- 解析语法构造集合（集合生成式）"
   ]
  },
  {
   "cell_type": "code",
   "execution_count": null,
   "metadata": {},
   "outputs": [],
   "source": [
    "squares = {i**2 for i in range(10)}\n",
    "squares"
   ]
  },
  {
   "cell_type": "markdown",
   "metadata": {},
   "source": [
    "- 生成器表达式"
   ]
  },
  {
   "cell_type": "code",
   "execution_count": null,
   "metadata": {},
   "outputs": [],
   "source": [
    "squares = (i**2 for i in range(10))\n",
    "squares"
   ]
  },
  {
   "cell_type": "code",
   "execution_count": 10,
   "metadata": {
    "collapsed": true
   },
   "outputs": [
    {
     "name": "stdout",
     "output_type": "stream",
     "text": [
      "black s\n",
      "black m\n",
      "black l\n",
      "white s\n",
      "white m\n",
      "white l\n"
     ]
    }
   ],
   "source": [
    "colors = ['black', 'white']\n",
    "sizes = ['s', 'm', 'l']\n",
    "tshirts = ('{} {}'.format(color, size) for color in colors for size in sizes)\n",
    "for tshirt in tshirts:\n",
    "    print(tshirt)"
   ]
  },
  {
   "cell_type": "markdown",
   "metadata": {},
   "source": [
    "#### 2.3 条件表达式\n",
    "\n",
    "expr1 if condition else expr2\n",
    "\n",
    "【例】将变量n的绝对值赋给变量x"
   ]
  },
  {
   "cell_type": "code",
   "execution_count": null,
   "metadata": {},
   "outputs": [],
   "source": [
    "n = 10\n",
    "if n >= 0:\n",
    "    x = n\n",
    "else:\n",
    "    x = -n\n",
    "x"
   ]
  },
  {
   "cell_type": "code",
   "execution_count": null,
   "metadata": {},
   "outputs": [],
   "source": [
    "n = -10\n",
    "x = n if n>=0 else -n\n",
    "x"
   ]
  },
  {
   "cell_type": "markdown",
   "metadata": {},
   "source": [
    "**条件表达式和解析语法简单实用，运行速度相对快一些，相信大家慢慢会爱上它们**\n",
    "\n",
    "### 3. 三大神器\n",
    "\n",
    "#### 3.1 生成器"
   ]
  },
  {
   "cell_type": "code",
   "execution_count": null,
   "metadata": {},
   "outputs": [],
   "source": [
    "ls = [i**2 for i in range(1, 1000001)]"
   ]
  },
  {
   "cell_type": "code",
   "execution_count": null,
   "metadata": {},
   "outputs": [],
   "source": [
    "for i in ls:\n",
    "    pass"
   ]
  },
  {
   "cell_type": "markdown",
   "metadata": {},
   "source": [
    "缺点：占用大量内存\n",
    "\n",
    "**生成器**\n",
    "\n",
    "（1）采用惰性计算的方式\n",
    "\n",
    "（2）无需一次性存储海量数据\n",
    "\n",
    "（3）一边执行一边计算，只计算每次需要的值\n",
    "\n",
    "（4）实际上一直在执行next()操作，直到无值可取\n",
    "\n",
    "- **生成器表达式**\n",
    "\n",
    "海量数据，不需存储"
   ]
  },
  {
   "cell_type": "code",
   "execution_count": null,
   "metadata": {},
   "outputs": [],
   "source": [
    "squares = (i**2 for i in range(1000000))"
   ]
  },
  {
   "cell_type": "code",
   "execution_count": null,
   "metadata": {},
   "outputs": [],
   "source": [
    "for i in squares:\n",
    "    pass"
   ]
  },
  {
   "cell_type": "code",
   "execution_count": 11,
   "metadata": {
    "collapsed": true
   },
   "outputs": [
    {
     "data": {
      "text/plain": [
       "5050"
      ]
     },
     "execution_count": 11,
     "metadata": {},
     "output_type": "execute_result"
    }
   ],
   "source": [
    "#求0-100的和\n",
    "\n",
    "sum(i for i in range(101))"
   ]
  },
  {
   "cell_type": "markdown",
   "metadata": {},
   "source": [
    "- **生成器函数——yield**"
   ]
  },
  {
   "cell_type": "code",
   "execution_count": null,
   "metadata": {},
   "outputs": [],
   "source": [
    "#生产斐波那契数列\n",
    "def fib(max):\n",
    "    ls = []\n",
    "    n, a, b = 0, 1, 1\n",
    "    while n < max:\n",
    "        ls.append(a)\n",
    "        a, b = b, a + b\n",
    "        n = n+1\n",
    "    return ls\n",
    "\n",
    "fib(10)"
   ]
  },
  {
   "cell_type": "code",
   "execution_count": null,
   "metadata": {},
   "outputs": [],
   "source": [
    "#依次输出斐波那契数列\n",
    "def fib(max):\n",
    "    n, a, b = 0, 1, 1\n",
    "    while n < max:\n",
    "        print(a)\n",
    "        a, b = b, a + b\n",
    "        n + n +1\n",
    "\n",
    "fib(10)"
   ]
  },
  {
   "cell_type": "markdown",
   "metadata": {},
   "source": [
    "构造生成器函数，在每次调用next()的时候执行，遇到yield语句返回，再次执行时从上次返回yield语句处继续执行"
   ]
  },
  {
   "cell_type": "code",
   "execution_count": 12,
   "metadata": {
    "collapsed": true
   },
   "outputs": [
    {
     "data": {
      "text/plain": [
       "<generator object fib at 0x00000279849DA748>"
      ]
     },
     "execution_count": 12,
     "metadata": {},
     "output_type": "execute_result"
    }
   ],
   "source": [
    "def fib(max):\n",
    "    n, a, b = 0, 1, 1\n",
    "    while n < max:\n",
    "        yield a\n",
    "        a, b = b, a + b\n",
    "        n + n +1\n",
    "\n",
    "fib(10)"
   ]
  },
  {
   "cell_type": "code",
   "execution_count": null,
   "metadata": {},
   "outputs": [],
   "source": [
    "for i in fib(10):\n",
    "    print(i)"
   ]
  },
  {
   "cell_type": "markdown",
   "metadata": {},
   "source": [
    "#### 3.2 迭代器\n",
    "\n",
    "- **可迭代对象**\n",
    "\n",
    "可直接作用于for循环的对象统称为可迭代对象：iterable\n",
    "\n",
    "**（1）列表、元组、字符串、字典、集合、文件**\n",
    "\n",
    "可以使用isinstance()判断一个对象是否可迭代（iterable）\n"
   ]
  },
  {
   "cell_type": "code",
   "execution_count": 2,
   "metadata": {
    "collapsed": true
   },
   "outputs": [
    {
     "name": "stderr",
     "output_type": "stream",
     "text": [
      "d:\\Anaconda3\\lib\\site-packages\\ipykernel_launcher.py:1: DeprecationWarning: Using or importing the ABCs from 'collections' instead of from 'collections.abc' is deprecated, and in 3.8 it will stop working\n",
      "  \"\"\"Entry point for launching an IPython kernel.\n"
     ]
    },
    {
     "data": {
      "text/plain": [
       "True"
      ]
     },
     "execution_count": 2,
     "metadata": {},
     "output_type": "execute_result"
    }
   ],
   "source": [
    "from collections import Iterable\n",
    "\n",
    "isinstance([1, 2, 3], Iterable)"
   ]
  },
  {
   "cell_type": "code",
   "execution_count": null,
   "metadata": {},
   "outputs": [],
   "source": [
    "isinstance({'name':'Joe'}, Iterable)"
   ]
  },
  {
   "cell_type": "code",
   "execution_count": null,
   "metadata": {},
   "outputs": [],
   "source": [
    "isinstance('Python', Iterable)"
   ]
  },
  {
   "cell_type": "markdown",
   "metadata": {},
   "source": [
    "**（2）生成器**"
   ]
  },
  {
   "cell_type": "code",
   "execution_count": null,
   "metadata": {},
   "outputs": [],
   "source": [
    "squares = {i**2 for i in range(5)}\n",
    "isinstance(squares, Iterable)"
   ]
  },
  {
   "cell_type": "markdown",
   "metadata": {},
   "source": [
    "生成器不但可以用于for循环，还可以被next()调用"
   ]
  },
  {
   "cell_type": "code",
   "execution_count": null,
   "metadata": {},
   "outputs": [],
   "source": [
    "print(next(squares))\n",
    "print(next(squares))\n",
    "print(next(squares))\n",
    "print(next(squares))\n",
    "print(next(squares))"
   ]
  },
  {
   "cell_type": "markdown",
   "metadata": {},
   "source": [
    "直到没有数据可取，抛出Stopiteration"
   ]
  },
  {
   "cell_type": "code",
   "execution_count": null,
   "metadata": {},
   "outputs": [],
   "source": [
    "print(next(squares))"
   ]
  },
  {
   "cell_type": "markdown",
   "metadata": {},
   "source": [
    "可以被next()调用，并不断返回下一个值，直至没有数据可取的对象成为**迭代器：Iterator**\n",
    "\n",
    "- **迭代器**\n",
    "\n",
    "**（1）生成器都是迭代器**"
   ]
  },
  {
   "cell_type": "code",
   "execution_count": 3,
   "metadata": {
    "collapsed": true
   },
   "outputs": [
    {
     "name": "stderr",
     "output_type": "stream",
     "text": [
      "d:\\Anaconda3\\lib\\site-packages\\ipykernel_launcher.py:1: DeprecationWarning: Using or importing the ABCs from 'collections' instead of from 'collections.abc' is deprecated, and in 3.8 it will stop working\n",
      "  \"\"\"Entry point for launching an IPython kernel.\n"
     ]
    },
    {
     "data": {
      "text/plain": [
       "False"
      ]
     },
     "execution_count": 3,
     "metadata": {},
     "output_type": "execute_result"
    }
   ],
   "source": [
    "from collections import Iterator\n",
    "\n",
    "squares = {i**2 for i in range(5)}\n",
    "isinstance(squares, Iterator)"
   ]
  },
  {
   "cell_type": "markdown",
   "metadata": {},
   "source": [
    "**（2）列表、元组、字符串、字典、集合不是迭代器**"
   ]
  },
  {
   "cell_type": "code",
   "execution_count": null,
   "metadata": {},
   "outputs": [],
   "source": [
    "isinstance([1, 2, 3], Iterator)"
   ]
  },
  {
   "cell_type": "markdown",
   "metadata": {},
   "source": [
    "可以通过*iter(iterable)*创建迭代器"
   ]
  },
  {
   "cell_type": "code",
   "execution_count": null,
   "metadata": {},
   "outputs": [],
   "source": [
    "isinstance(iter([1, 2, 3]), Iterator)"
   ]
  },
  {
   "cell_type": "markdown",
   "metadata": {},
   "source": [
    "for iterm in Iterable  等价于：\n",
    "    \n",
    "    先通过iter()函数获取Iterable的迭代器Iterator\n",
    "    \n",
    "    然后对获取到的迭代器不断调用next()方法来获取下一个值并将其赋值给iterm\n",
    "    \n",
    "    当遇到StopIteration的异常后循环结束\n",
    "    \n",
    "**（3）zip enumarate等 itertools里的函数是迭代器**"
   ]
  },
  {
   "cell_type": "code",
   "execution_count": null,
   "metadata": {},
   "outputs": [],
   "source": [
    "x = [1, 2]\n",
    "y = ['a', 'b']\n",
    "zip(x, y)"
   ]
  },
  {
   "cell_type": "code",
   "execution_count": null,
   "metadata": {},
   "outputs": [],
   "source": [
    "for i in zip(x, y):\n",
    "    print(i)\n",
    "    \n",
    "isinstance(zip(x, y), Iterator)"
   ]
  },
  {
   "cell_type": "code",
   "execution_count": null,
   "metadata": {},
   "outputs": [],
   "source": [
    "numbers = [1, 2, 3, 4, 5]\n",
    "enumerate(numbers)"
   ]
  },
  {
   "cell_type": "code",
   "execution_count": null,
   "metadata": {},
   "outputs": [],
   "source": [
    "for i in enumerate(numbers):\n",
    "    print(i)\n",
    "    \n",
    "isinstance(enumerate(numbers))"
   ]
  },
  {
   "cell_type": "markdown",
   "metadata": {},
   "source": [
    "**（4）文件是迭代器**"
   ]
  },
  {
   "cell_type": "code",
   "execution_count": null,
   "metadata": {},
   "outputs": [],
   "source": [
    "with open('test.txt', 'r', encoding = 'utf-8') as f:\n",
    "    print(isinstance(f, Iterator))"
   ]
  },
  {
   "cell_type": "markdown",
   "metadata": {},
   "source": [
    "**（5）迭代器是可以耗尽的**"
   ]
  },
  {
   "cell_type": "code",
   "execution_count": null,
   "metadata": {},
   "outputs": [],
   "source": [
    "squares = {i**2 for i in range(5)}\n",
    "for square in squares:\n",
    "    print(square)"
   ]
  },
  {
   "cell_type": "code",
   "execution_count": null,
   "metadata": {},
   "outputs": [],
   "source": [
    "for sauqre in squares:\n",
    "    print(square)"
   ]
  },
  {
   "cell_type": "markdown",
   "metadata": {},
   "source": [
    "**（6）range()不是迭代器**"
   ]
  },
  {
   "cell_type": "code",
   "execution_count": 4,
   "metadata": {
    "collapsed": true
   },
   "outputs": [
    {
     "name": "stdout",
     "output_type": "stream",
     "text": [
      "True\n",
      "False\n"
     ]
    }
   ],
   "source": [
    "numbers = range(10)\n",
    "print(isinstance(numbers, Iterable))\n",
    "print(isinstance(numbers, Iterator))"
   ]
  },
  {
   "cell_type": "code",
   "execution_count": null,
   "metadata": {},
   "outputs": [],
   "source": [
    "print(len(numbers))    #有长度，而迭代器无长度\n",
    "print(numbers[0])      #可索引，而迭代器不可索引\n",
    "print(9 in numbers)    #可存在计算，而迭代器不可存在计算\n",
    "next(numbers)          #不可被next()调用，而迭代器可以被next()调用"
   ]
  },
  {
   "cell_type": "code",
   "execution_count": null,
   "metadata": {},
   "outputs": [],
   "source": [
    "for number in numbers:\n",
    "    print(number)"
   ]
  },
  {
   "cell_type": "markdown",
   "metadata": {},
   "source": [
    "for number in numbers:\n",
    "    print(number)"
   ]
  },
  {
   "cell_type": "markdown",
   "metadata": {},
   "source": [
    "range()不会被耗尽，可以称其为一个**懒序列（惰性序列)**\n",
    "\n",
    "    它是一种序列\n",
    "    \n",
    "    但并不包含任何内存中的内容\n",
    "    \n",
    "    而是通过计算来回答问题\n",
    "    \n",
    "#### 3.3 装饰器\n",
    "\n",
    "- **为什么要有装饰器？**\n",
    "\n",
    "（1）需要对已开发上线的程序添加某些功能\n",
    "\n",
    "（2）不能对程序中函数的源代码进行修改\n",
    "\n",
    "（3）不能改变程序中函数的调用方式\n",
    "\n",
    "比如说，**要统计每个函数运行的时间**，这个时候可以用装饰器"
   ]
  },
  {
   "cell_type": "code",
   "execution_count": null,
   "metadata": {},
   "outputs": [],
   "source": [
    "def f1():\n",
    "    pass\n",
    "\n",
    "\n",
    "def f2():\n",
    "    pass\n",
    "\n",
    "\n",
    "def f3():\n",
    "    pass\n",
    "\n",
    "\n",
    "f1()\n",
    "f2()\n",
    "f3()"
   ]
  },
  {
   "cell_type": "markdown",
   "metadata": {},
   "source": [
    "- **函数对象**\n",
    "\n",
    "函数是Python中的第一类对象\n",
    "\n",
    "（1）可以把函数赋值给变量\n",
    "\n",
    "（2）对该变量进行调用，可实现原函数的功能\n",
    "\n",
    "（3）可以把函数当作参数进行传递、返回"
   ]
  },
  {
   "cell_type": "code",
   "execution_count": 9,
   "metadata": {
    "collapsed": true
   },
   "outputs": [
    {
     "name": "stdout",
     "output_type": "stream",
     "text": [
      "<class 'function'>\n"
     ]
    }
   ],
   "source": [
    "def square(x):\n",
    "    return x**2\n",
    "\n",
    "print(type(square))     #square 是 function 类的一个实例"
   ]
  },
  {
   "cell_type": "code",
   "execution_count": null,
   "metadata": {},
   "outputs": [],
   "source": [
    "pow_2 = square\n",
    "print(pow_2(5))\n",
    "print(square(5))"
   ]
  },
  {
   "cell_type": "markdown",
   "metadata": {},
   "source": [
    "- **高阶函数**\n",
    "\n",
    "（1）接收函数作为参数\n",
    "\n",
    "（2）或者返回一个函数\n",
    "\n",
    "**满足上述条件之一的函数称之为高阶函数**"
   ]
  },
  {
   "cell_type": "code",
   "execution_count": null,
   "metadata": {},
   "outputs": [],
   "source": [
    "def square(x):\n",
    "    return x**2\n",
    "\n",
    "def pow_2(fun):\n",
    "    return fun\n",
    "\n",
    "f = pow_2(square)\n",
    "f(8)"
   ]
  },
  {
   "cell_type": "markdown",
   "metadata": {},
   "source": [
    "- **嵌套函数**\n",
    "\n",
    "**在函数内部定义一个函数**"
   ]
  },
  {
   "cell_type": "code",
   "execution_count": null,
   "metadata": {},
   "outputs": [],
   "source": [
    "def outer():\n",
    "    print('outer is running')\n",
    "    \n",
    "    def inner():\n",
    "        print('inner is running')\n",
    "        \n",
    "    inner()\n",
    "    \n",
    "    \n",
    "outer()"
   ]
  },
  {
   "cell_type": "markdown",
   "metadata": {},
   "source": [
    "- **闭包**"
   ]
  },
  {
   "cell_type": "code",
   "execution_count": 5,
   "metadata": {},
   "outputs": [
    {
     "name": "stdout",
     "output_type": "stream",
     "text": [
      "<function outer.<locals>.inner at 0x0000024540411168>\n"
     ]
    }
   ],
   "source": [
    "def outer():\n",
    "    x = 1\n",
    "    z = 10\n",
    "    \n",
    "    def inner():\n",
    "        y = x + 100\n",
    "        return y, z\n",
    "    \n",
    "    return inner\n",
    "\n",
    "\n",
    "f = outer()\n",
    "print(f)"
   ]
  },
  {
   "cell_type": "code",
   "execution_count": 6,
   "metadata": {
    "collapsed": true
   },
   "outputs": [
    {
     "name": "stdout",
     "output_type": "stream",
     "text": [
      "(<cell at 0x000002454034E5E8: int object at 0x00007FF8F4B9A190>, <cell at 0x000002454034ECA8: int object at 0x00007FF8F4B9A2B0>)\n"
     ]
    }
   ],
   "source": [
    "print(f.__closure__)  # __closure__属性中包含了来自外部函数的信息\n",
    "for i in f.__closure__:\n",
    "    print(i.cell__contents)"
   ]
  },
  {
   "cell_type": "code",
   "execution_count": null,
   "metadata": {},
   "outputs": [],
   "source": [
    "res = f()\n",
    "print(res)"
   ]
  },
  {
   "cell_type": "markdown",
   "metadata": {},
   "source": [
    "**闭包：延伸了作用域的函数**\n",
    "\n",
    "如果一个函数定义在另一个函数的作用域内，并且引用了外层函数的变量，则该函数称为闭包\n",
    "\n",
    "闭包是由函数及其相关的引用环境组合而成的实体（闭包 = 函数 + 引用环境）\n",
    "\n",
    "- 一旦在内层函数重新定义了相同名字的变量，则变量称为局部变量"
   ]
  },
  {
   "cell_type": "code",
   "execution_count": null,
   "metadata": {},
   "outputs": [],
   "source": [
    "def outer():\n",
    "    x = 1\n",
    "    \n",
    "    def inner():\n",
    "        x = x + 100\n",
    "        return x\n",
    "    \n",
    "    return inner\n",
    "\n",
    "f = outer()\n",
    "f()"
   ]
  },
  {
   "cell_type": "code",
   "execution_count": null,
   "metadata": {},
   "outputs": [],
   "source": [
    "def outer():\n",
    "    x = 1\n",
    "    \n",
    "    def inner():\n",
    "        nonlocal x\n",
    "        x = x + 100\n",
    "        return x\n",
    "    \n",
    "    return inner\n",
    "\n",
    "f = outer()\n",
    "f()"
   ]
  },
  {
   "cell_type": "markdown",
   "metadata": {},
   "source": [
    "- **一个简单的装饰器**\n",
    "\n",
    "**嵌套函数实现**"
   ]
  },
  {
   "cell_type": "code",
   "execution_count": null,
   "metadata": {},
   "outputs": [],
   "source": [
    "import time\n",
    "\n",
    "def timer(func):\n",
    "    \n",
    "    def inner():\n",
    "        print('inner run')\n",
    "        start = time.time()\n",
    "        func()\n",
    "        end = time.time()\n",
    "        print('{}函数运行用时：{:.2f}秒'.format(func.__name__, (end - start)))\n",
    "    \n",
    "    return inner\n",
    "\n",
    "\n",
    "def f1():\n",
    "    print('f1 run')\n",
    "    time.sleep(1)\n",
    "    \n",
    "\n",
    "f1 = timer(f1)    #包含inner()和timer的环境，如传递过来的参数func\n",
    "f1()"
   ]
  },
  {
   "cell_type": "markdown",
   "metadata": {},
   "source": [
    "**语法糖**"
   ]
  },
  {
   "cell_type": "code",
   "execution_count": null,
   "metadata": {},
   "outputs": [],
   "source": [
    "import time\n",
    "\n",
    "def timer(func):\n",
    "    \n",
    "    def inner():\n",
    "        print('inner run')\n",
    "        start = time.time()\n",
    "        func()\n",
    "        end = time.time()\n",
    "        print('{}函数运行用时：{:.2f}秒'.format(func.__name__, (end - start)))\n",
    "    \n",
    "    return inner\n",
    "\n",
    "@timer      #相当于 f1 = timer(f1) 语句\n",
    "def f1():\n",
    "    print('f1 run')\n",
    "    time.sleep(1)\n",
    "    \n",
    "\n",
    "f1()"
   ]
  },
  {
   "cell_type": "markdown",
   "metadata": {},
   "source": [
    "被修饰函数有参数的情况"
   ]
  },
  {
   "cell_type": "code",
   "execution_count": null,
   "metadata": {},
   "outputs": [],
   "source": [
    "import time\n",
    "\n",
    "def timer(func):\n",
    "    \n",
    "    def inner(*args, **kwargs):\n",
    "        print('inner run')\n",
    "        start = time.time()\n",
    "        func(*args, **kwargs)\n",
    "        end = time.time()\n",
    "        print('{}函数运行用时：{:.2f}秒'.format(func.__name__, (end - start)))\n",
    "    \n",
    "    return inner\n",
    "\n",
    "@timer      #相当于 f1 = timer(f1) 语句\n",
    "def f1(n):\n",
    "    print('f1 run')\n",
    "    time.sleep(n)\n",
    "    \n",
    "\n",
    "f1(2)"
   ]
  },
  {
   "cell_type": "markdown",
   "metadata": {},
   "source": [
    "被装饰函数有返回值的情况"
   ]
  },
  {
   "cell_type": "code",
   "execution_count": null,
   "metadata": {},
   "outputs": [],
   "source": [
    "import time\n",
    "\n",
    "def timer(func):\n",
    "    \n",
    "    def inner(*args, **kwargs):\n",
    "        print('inner run')\n",
    "        start = time.time()\n",
    "        res = func(*args, **kwargs)\n",
    "        end = time.time()\n",
    "        print('{}函数运行用时：{:.2f}秒'.format(func.__name__, (end - start)))\n",
    "        return res\n",
    "    \n",
    "    return inner\n",
    "\n",
    "@timer      #相当于 f1 = timer(f1) 语句\n",
    "def f1(n):\n",
    "    print('f1 run')\n",
    "    time.sleep(n)\n",
    "    return 'wake up'\n",
    "    \n",
    "\n",
    "res = f1(2)\n",
    "print(res)"
   ]
  },
  {
   "cell_type": "markdown",
   "metadata": {},
   "source": [
    "- **带参数的装饰器**\n",
    "\n",
    "装饰器本身要传递一些额外参数\n",
    "\n",
    "- 需求：有事需要统计绝对时间，有时需要统计绝对时间的2倍"
   ]
  },
  {
   "cell_type": "code",
   "execution_count": 13,
   "metadata": {
    "collapsed": true
   },
   "outputs": [
    {
     "name": "stdout",
     "output_type": "stream",
     "text": [
      "inner run\n",
      "origin_inner run\n",
      "f1 run\n",
      "f1函数运行用时：2.00秒\n",
      "wake up\n",
      "inner run\n",
      "double_inner run\n",
      "f2 run\n",
      "f2函数运行双倍用时：4.00秒\n",
      "wake up\n"
     ]
    }
   ],
   "source": [
    "import time\n",
    "\n",
    "def timer(method):\n",
    "    \n",
    "    def outer(func):\n",
    "        \n",
    "        def inner(*args, **kwargs):\n",
    "            print('inner run')\n",
    "            if method == 'origin':\n",
    "                print('origin_inner run')\n",
    "                start = time.time()\n",
    "                res = func(*args, **kwargs)\n",
    "                end = time.time()\n",
    "                print('{}函数运行用时：{:.2f}秒'.format(func.__name__, (end - start)))\n",
    "            elif method == 'double':\n",
    "                print('double_inner run')\n",
    "                start = time.time()\n",
    "                res = func(*args, **kwargs)\n",
    "                end = time.time()\n",
    "                print('{}函数运行双倍用时：{:.2f}秒'.format(func.__name__, 2*(end - start)))\n",
    "            return res\n",
    "    \n",
    "        return inner\n",
    "    \n",
    "    return outer\n",
    "\n",
    "@timer(method='origin')      #相当于 timer = timer(method='origin')    f1 = timer(f1)\n",
    "def f1(n):\n",
    "    print('f1 run')\n",
    "    time.sleep(n)\n",
    "    return 'wake up'\n",
    "    \n",
    "\n",
    "@timer(method='double')      #相当于 timer = timer(method='double')    f1 = timer(f1)\n",
    "def f2(n):\n",
    "    print('f2 run')\n",
    "    time.sleep(n)\n",
    "    return 'wake up'\n",
    "\n",
    "res = f1(2)\n",
    "print(res)\n",
    "\n",
    "res = f2(2)\n",
    "print(res)"
   ]
  },
  {
   "cell_type": "markdown",
   "metadata": {},
   "source": [
    "**理解闭包是关键！！！**\n",
    "\n",
    "- **何时执行装饰器？**\n",
    "\n",
    "一装饰就执行，不必等调用"
   ]
  },
  {
   "cell_type": "code",
   "execution_count": 14,
   "metadata": {
    "collapsed": true
   },
   "outputs": [
    {
     "name": "stdout",
     "output_type": "stream",
     "text": [
      "run\n",
      "run\n",
      "run\n"
     ]
    }
   ],
   "source": [
    "func_names = []\n",
    "\n",
    "def find_function(func):\n",
    "    print('run')\n",
    "    func_names.append(func)\n",
    "    return func\n",
    "\n",
    "@find_function\n",
    "def f1():\n",
    "    print('f1 run')\n",
    "\n",
    "    \n",
    "@find_function\n",
    "def f2():\n",
    "    print('f2 run')\n",
    "    \n",
    "    \n",
    "@find_function\n",
    "def f3():\n",
    "    print('f3 run')"
   ]
  },
  {
   "cell_type": "code",
   "execution_count": null,
   "metadata": {},
   "outputs": [],
   "source": [
    "for func in func_names:\n",
    "    print(func.__name__)\n",
    "    func()\n",
    "    print()"
   ]
  },
  {
   "cell_type": "markdown",
   "metadata": {},
   "source": [
    "- **回归本源**\n",
    "\n",
    "**原函数的属性倍掩盖了**"
   ]
  },
  {
   "cell_type": "code",
   "execution_count": null,
   "metadata": {},
   "outputs": [],
   "source": [
    "import time\n",
    "\n",
    "def timer(func):\n",
    "    def inner():\n",
    "        print('inner run')\n",
    "        start = time.time()\n",
    "        func()\n",
    "        end = time.time()\n",
    "        print('{}函数运行用时{:.2f}秒'.format(func.__name__, (end-start)))\n",
    "    \n",
    "    return inner\n",
    "\n",
    "@timer\n",
    "def f1():\n",
    "    time.sleep(1)\n",
    "    print('f1 run')\n",
    "    \n",
    "\n",
    "print(f1.__name__)"
   ]
  },
  {
   "cell_type": "markdown",
   "metadata": {},
   "source": [
    "@wraps"
   ]
  },
  {
   "cell_type": "code",
   "execution_count": null,
   "metadata": {},
   "outputs": [],
   "source": [
    "import time\n",
    "\n",
    "def timer(func):\n",
    "    @wraps(func)\n",
    "    def inner():\n",
    "        print('inner run')\n",
    "        start = time.time()\n",
    "        func()\n",
    "        end = time.time()\n",
    "        print('{}函数运行用时{:.2f}秒'.format(func.__name__, (end-start)))\n",
    "    \n",
    "    return inner\n",
    "\n",
    "@timer\n",
    "def f1():\n",
    "    time.sleep(1)\n",
    "    print('f1 run')\n",
    "    \n",
    "\n",
    "print(f1.__name__)"
   ]
  }
 ],
 "metadata": {
  "kernelspec": {
   "display_name": "Python 3",
   "language": "python",
   "name": "python3"
  },
  "language_info": {
   "codemirror_mode": {
    "name": "ipython",
    "version": 3
   },
   "file_extension": ".py",
   "mimetype": "text/x-python",
   "name": "python",
   "nbconvert_exporter": "python",
   "pygments_lexer": "ipython3",
   "version": "3.7.4"
  }
 },
 "nbformat": 4,
 "nbformat_minor": 2
}
