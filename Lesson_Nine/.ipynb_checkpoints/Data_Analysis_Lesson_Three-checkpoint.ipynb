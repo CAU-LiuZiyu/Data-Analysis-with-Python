{
 "cells": [
  {
   "cell_type": "markdown",
   "metadata": {},
   "source": [
    "# 第九讲 Matplotlib & Seaborn\n",
    "\n",
    "Matplotlib库由各种可视化类构成，内部结构复杂，受Matlab启发。\n",
    "\n",
    "Scipy生态的一部分，优秀的数据可视化第三方库。\n",
    "\n",
    "\n",
    "## 第一部分 matplotlib.pyplot\n",
    "\n",
    "matplotlib.pyplot是绘制各类可视化图形的命令子库，相当于快捷方式。\n"
   ]
  },
  {
   "cell_type": "code",
   "execution_count": 2,
   "metadata": {},
   "outputs": [
    {
     "data": {
      "image/png": "[encoded data removed]",
      "text/plain": [
       "<Figure size 432x288 with 1 Axes>"
      ]
     },
     "metadata": {
      "needs_background": "light"
     },
     "output_type": "display_data"
    }
   ],
   "source": [
    "import numpy as np\n",
    "import matplotlib.pyplot as plt   #引入模块\n",
    "\n",
    "plt.plot([3,1,4,5,2])\n",
    "plt.ylabel('Grage')\n",
    "plt.savefig('test',dpi=600) #默认输出PNG文件  dpi表示每一英寸包含点的数量，可通过dpi修改输出质量\n",
    "plt.show()"
   ]
  },
  {
   "cell_type": "markdown",
   "metadata": {},
   "source": [
    "plt.plot()只有一个输入列表或数组时，参数被当作Y轴，X轴以索引自动生成\n",
    "\n",
    "plt.savefig()将输出图形存储为文件，默认PNG格式，可以通过dpi修改输出质量"
   ]
  },
  {
   "cell_type": "code",
   "execution_count": null,
   "metadata": {},
   "outputs": [],
   "source": [
    "# plt.plot(x,y)当有两个以上参数时，按照X轴和Y轴顺序绘制数据点。\n",
    "\n",
    "plt.plot([0,2,4,6,8],[3,1,4,5,2])\n",
    "plt.ylabel('Grade')\n",
    "plt.axis([-1,10,0,6])   #指x轴坐标起始于-1，终止于10. y轴坐标起始于0终止于6\n",
    "plt.show()\n",
    "\n"
   ]
  },
  {
   "cell_type": "markdown",
   "metadata": {},
   "source": [
    "### 1. pyplot的绘图区域"
   ]
  },
  {
   "cell_type": "code",
   "execution_count": null,
   "metadata": {},
   "outputs": [],
   "source": [
    "plt.subplot(3,2,1)\n",
    "plt.subplot(3,2,4)"
   ]
  },
  {
   "cell_type": "code",
   "execution_count": null,
   "metadata": {},
   "outputs": [],
   "source": [
    "def f(t):\n",
    "    return np.exp(-t)*np.cos(2*np.pi*t)\n",
    "\n",
    "a=np.arange(0.0,5.0,0.02)\n",
    "plt.subplot(211)\n",
    "plt.plot(a,f(a))\n",
    "\n",
    "plt.subplot(2,1,2) #'，'可省略\n",
    "plt.plot(a,np.cos(2*np.pi*a),'r--')\n",
    "plt.show()"
   ]
  },
  {
   "cell_type": "markdown",
   "metadata": {},
   "source": [
    "### 2. pyplot的plot()函数"
   ]
  },
  {
   "cell_type": "code",
   "execution_count": null,
   "metadata": {},
   "outputs": [],
   "source": [
    "plt.plot(x,y,format_string,**kwargs)\n",
    "#   x: X轴数据，列表或数组，可选。\n",
    "#   y: Y轴数据，列表或数组。\n",
    "#   format_string:控制曲线的格式字符串，可选。\n",
    "#   ** kwargs:第二组或更多(x,y,format_string) 即绘制多条曲线"
   ]
  },
  {
   "cell_type": "markdown",
   "metadata": {},
   "source": [
    "当绘制多条曲线时，各条曲线的x不能省略。"
   ]
  },
  {
   "cell_type": "code",
   "execution_count": null,
   "metadata": {},
   "outputs": [],
   "source": [
    "a = np.arange(10)\n",
    "plt.plot(a,a*1.5,a,a*2.5,a,a*3.5,a,a*4.5)\n",
    "plt.show()"
   ]
  },
  {
   "cell_type": "markdown",
   "metadata": {},
   "source": [
    "format_string：控制曲线的格式字符串，可选。由颜色字符、风格字符和标记字符组成。\n",
    "\n",
    "颜色字符|说明|颜色字符|说明\n",
    ":--|:--|:--|:--\n",
    "'b'|蓝色|'m'|洋红色magenta\n",
    "'g'|绿色|'y'|黄色\n",
    "'r'|红色|'k'|黑色\n",
    "'c'|青绿色cyan|'w'|白色\n",
    "'#008000'|RGB某颜色|'0.8'|灰度值字符串\n",
    "\n",
    "风格字符|说明|风格字符|说明\n",
    ":--|:--|:--|:--\n",
    "'\\_'|实线|'--'|破折号\n",
    "‘-.’|点画线|‘’或'  '|无线条\n",
    "\n",
    "标记字符|说明|标记字符|说明\n",
    ":--|:--|:--|:--\n",
    "‘.’|点标记|‘,’|像素标记(极小点）\n",
    "‘o’|实心圈标记|‘v’|倒三角标记\n",
    "‘^’|上三角标记|‘>’|右三角标记\n",
    "‘<’|左三角标记|‘1’|下花三角标记\n",
    "‘2’|下花三角标记|‘3’|左花三角标记\n",
    "‘4’|右花三角标记|'s'|实心方形标记\n",
    "'p’|实心五角标记|‘\\*’|星形标记\n",
    "‘h’|竖六边形标记|‘H’|横六边形标记\n",
    "‘+’|十字标记|‘x’|x标记\n",
    "‘D’|菱形标记|‘d’|瘦菱形标记\n",
    "‘\\’|竖线是垂直线标记"
   ]
  },
  {
   "cell_type": "code",
   "execution_count": null,
   "metadata": {},
   "outputs": [],
   "source": [
    "a=np.arange(10)\n",
    "plt.plot(a,a*1.5,\"go-\",a,a*2.5,'rx',a,a*3.5,'*',a,a*4.5,'b-.')   #颜色字符、风格字符、标记字符组合使用\n",
    "plt.show()\n"
   ]
  },
  {
   "cell_type": "markdown",
   "metadata": {},
   "source": [
    "参数|说明\n",
    ":--|:--\n",
    "** kwargs|第二组或更多（x,y,format_string）\n",
    "color|控制颜色，color='green'\n",
    "linestyle|线条风格，linestyle=‘dashed’\n",
    "marker|标记风格，marker=‘0’\n",
    "markerfacecolor|标记颜色，markerfacecolor='blue'\n",
    "markersize|标记尺寸，markersize=20\n",
    "\n",
    "### pyplot的中文显示方法\n",
    "\n",
    "第一种方法 这种方法会使坐标轴中数字的字体等也随之改变\n",
    "\n",
    "pyplot并不默认支持中文显示，需要rcParams修改字体实现。"
   ]
  },
  {
   "cell_type": "code",
   "execution_count": null,
   "metadata": {},
   "outputs": [],
   "source": [
    "import matplotlib\n",
    "matplotlib.rcParams['font.family']='SimHei'   #黑体\n",
    "plt.plot([3,1,4,5,2])\n",
    "plt.ylabel('纵轴（值）')\n",
    "plt.savefig('test',dpi=600)\n",
    "plt.show()\n"
   ]
  },
  {
   "cell_type": "markdown",
   "metadata": {},
   "source": [
    "rcParams的属性\n",
    "\n",
    "属性|说明\n",
    ":--|:--\n",
    "‘font.family’|用于显示字体的名字\n",
    " ‘font.style'|字体风格，正常'normal'或斜体'italic'\n",
    "  'font.size'|字体太小，整数字号或者'large'、'x-small'\n",
    "  \n",
    "rcParams\\[‘font.family’\\]可以设置为以下几种字体\n",
    "\n",
    "中文字体|说明\n",
    ":--|:--\n",
    "  'SimHei'|中文黑体\n",
    "   'Kaiti'|中文楷体 \n",
    "   'LiSu'|中文隶书\n",
    "  ‘FangSong’|中文仿宋\n",
    "  ‘YouYuan’|中文幼圆\n",
    "  ‘STSong’|华文宋体\n",
    "  \n",
    "第二种方法\n",
    "\n",
    "在有中文输出的地方，增加一个属性：fontproperties.这种方法能有效的在特定需要输入中文地方确定中文的字体和字号。"
   ]
  },
  {
   "cell_type": "code",
   "execution_count": 3,
   "metadata": {},
   "outputs": [
    {
     "data": {
      "image/png": "[encoded data removed]",
      "text/plain": [
       "<Figure size 432x288 with 1 Axes>"
      ]
     },
     "metadata": {
      "needs_background": "light"
     },
     "output_type": "display_data"
    }
   ],
   "source": [
    "a=np.arange(0.0,5.0,0.02)\n",
    "plt.xlabel('横轴：时间',fontproperties='SimHei',fontsize=20)\n",
    "plt.ylabel('纵轴：振幅',fontproperties='SimHei',fontsize=20)\n",
    "plt.plot(a,np.cos(2*np.pi*a),'r--')\n",
    "plt.show()\n"
   ]
  },
  {
   "cell_type": "markdown",
   "metadata": {},
   "source": [
    "pyplot的文本显示方法\n",
    "\n",
    "pyplot的文本显示函数\n",
    "\n",
    " 函数|说明\n",
    " :--|:--\n",
    "   plt.xlabel()|对X轴增加文本标签\n",
    "   plt.ylabel()|对y轴增加文本标签\n",
    "   plt.title()|对图形整体增加文本标签\n",
    "   plt.text()|在任意位置增加文本         \n",
    "   plt.annolate()|在图形中增加带箭头的注释"
   ]
  },
  {
   "cell_type": "code",
   "execution_count": null,
   "metadata": {},
   "outputs": [],
   "source": [
    "a=np.arange(0.0,5.0,0.02)   #起 0.0   止  5.0  步长 0.02\n",
    "plt.plot(a,np.cos(2*np.pi*a),'r--')\n",
    "\n",
    "plt.xlabel('横轴：时间',fontproperties='SimHei',fontsize=15,color='green')\n",
    "plt.ylabel('纵轴：振幅',fontproperties='SimHei',fontsize=15)\n",
    "plt.title(r'正弦波实例 $y=cos(2\\pi x)$',fontproperties='SimHei',fontsize=25)   ##  $ Latex文本 $\n",
    "plt.text(2,1,r'$\\mu=100$',fontsize=15)\n",
    "\n",
    "plt.axis([-1,6,-2,2])  #横纵坐标范围\n",
    "plt.grid(True)   #加入网格曲线\n",
    "plt.show()\n"
   ]
  },
  {
   "cell_type": "code",
   "execution_count": null,
   "metadata": {},
   "outputs": [],
   "source": [
    "plt.annotate(s,xy=arrow_crd,xytext=text_crd,arrowprops=dict)\n"
   ]
  },
  {
   "cell_type": "markdown",
   "metadata": {},
   "source": [
    "参数|说明\n",
    ":--|:--\n",
    "s| 要注解的字符串\n",
    "xy|箭头所在的位置\n",
    "xy_text|表示文本显示的位置\n",
    "arrowprops|是一个字典类型，定义了整个箭头的一些属性"
   ]
  },
  {
   "cell_type": "code",
   "execution_count": null,
   "metadata": {},
   "outputs": [],
   "source": [
    "a=np.arange(0.0,5.0,0.02)   #起 0.0   止  5.0  步长 0.02\n",
    "plt.plot(a,np.cos(2*np.pi*a),'r--')\n",
    "\n",
    "plt.xlabel('横轴：时间',fontproperties='SimHei',fontsize=15,color='green')\n",
    "plt.ylabel('纵轴：振幅',fontproperties='SimHei',fontsize=15)\n",
    "plt.title(r'正弦波实例 $y=cos(2\\pi x)$',fontproperties='SimHei',fontsize=25)   ##  $ Latex文本 $\n",
    "plt.annotate(r'$\\mu=100$',xy=(2,1),xytext=(3,1.5),\n",
    "             arrowprops=dict(facecolor='black',shrink=0.1,width=2))\n",
    "# width表示箭头的宽度为2   \n",
    "#shrink表示从箭头的起始到结束按照0.1的比例箭头的两侧会缩进，使箭头里这个位置留有\n",
    "#一小块空白\n",
    "\n",
    "plt.axis([-1,6,-2,2])  #横纵坐标范围\n",
    "plt.grid(True)   #加入网格曲线\n",
    "plt.show()\n"
   ]
  },
  {
   "cell_type": "markdown",
   "metadata": {},
   "source": [
    "pyplot的子绘图区域\n"
   ]
  },
  {
   "cell_type": "code",
   "execution_count": null,
   "metadata": {},
   "outputs": [],
   "source": [
    "plt.subplot2grid(GridSpec,CurSpec,colspan=1,rowspan=1)\n"
   ]
  },
  {
   "cell_type": "markdown",
   "metadata": {},
   "source": [
    "理念：设定网路，选中网络，确定选中行列区域数量，编号从0开始。\n",
    "plt.subplot2grid((3,3),(1,0),colspan=2)\n",
    "(3,3)表示把一个区域分成3行3列，9块区域的基本类型\n",
    "(1,0)表示当前选定的位置为第1行第0列\n",
    "colspan=2表示列的延伸，及选定的单元格及列延伸一个单元格共两个单元格的长度"
   ]
  },
  {
   "cell_type": "code",
   "execution_count": null,
   "metadata": {},
   "outputs": [],
   "source": [
    "plt.subplot2grid((3,3),(0,0),colspan=3)\n",
    "plt.subplot2grid((3,3),(1,0),colspan=2)\n",
    "plt.subplot2grid((3,3),(1,2),rowspan=2)\n",
    "plt.subplot2grid((3,3),(2,0))\n",
    "plt.subplot2grid((3,3),(2,1))\n",
    "\n"
   ]
  },
  {
   "cell_type": "markdown",
   "metadata": {},
   "source": [
    "这个方法每次调用都要重新对图形的设计做一个约束，可以用GradSpec类来简化其中的设计\n",
    "\n"
   ]
  },
  {
   "cell_type": "code",
   "execution_count": null,
   "metadata": {},
   "outputs": [],
   "source": [
    "import matplotlib.gridspec as gridspec\n",
    "\n",
    "gs=gridspec.GridSpec(3,3)\n",
    "\n",
    "ax1 = plt.subplot(gs[0,:])\n",
    "ax2= plt.subplot(gs[1,:-1]) # 0:-1 简写为  :-1\n",
    "ax3=plt.subplot(gs[1:,-1])  # 1:最后  简写为 1：\n",
    "ax4=plt.subplot(gs[2,0])\n",
    "ax5=plt.subplot(gs[2,1])\n",
    "\n"
   ]
  },
  {
   "cell_type": "markdown",
   "metadata": {},
   "source": [
    "pyplot的基础图标函数\n",
    "\n"
   ]
  },
  {
   "cell_type": "code",
   "execution_count": null,
   "metadata": {},
   "outputs": [],
   "source": []
  },
  {
   "cell_type": "code",
   "execution_count": null,
   "metadata": {},
   "outputs": [],
   "source": []
  },
  {
   "cell_type": "code",
   "execution_count": null,
   "metadata": {},
   "outputs": [],
   "source": []
  },
  {
   "cell_type": "markdown",
   "metadata": {},
   "source": [
    "## 第二部分 matplotlib.pylab\n",
    "\n",
    "## 第三部分 Seaborn"
   ]
  }
 ],
 "metadata": {
  "kernelspec": {
   "display_name": "Python 3",
   "language": "python",
   "name": "python3"
  },
  "language_info": {
   "codemirror_mode": {
    "name": "ipython",
    "version": 3
   },
   "file_extension": ".py",
   "mimetype": "text/x-python",
   "name": "python",
   "nbconvert_exporter": "python",
   "pygments_lexer": "ipython3",
   "version": "3.7.4"
  }
 },
 "nbformat": 4,
 "nbformat_minor": 2
}
