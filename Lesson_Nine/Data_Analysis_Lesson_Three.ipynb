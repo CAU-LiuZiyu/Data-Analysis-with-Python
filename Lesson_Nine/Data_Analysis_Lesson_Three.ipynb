{
 "cells": [
  {
   "cell_type": "markdown",
   "metadata": {},
   "source": [
    "# 第九讲 Matplotlib\n",
    "\n",
    "MATLAB是科学计算和可视化领域广泛使用的语言和工具，是一种面向过程的计算机语言。\n",
    "\n",
    "作为Scipy生态的一部分，matplotlib是受MATLAB的启发构建的，有一套完全仿照MATLAB的函数形式的绘图接口。\n",
    "\n",
    "matplotlib库由各种可视化类构成，内部结构复杂。\n",
    "\n",
    "## Intro to pyplot\n",
    "\n",
    "matplotlib.pyplot是绘制各类可视化图形的命令子库，APIs，我们可以把这些命令理解为图形用户界面上的菜单或快捷方式，只不过是使用命令行或脚本的形式来调用。\n",
    "\n",
    "最好的学习方法：\n",
    "\n",
    "- [官方文档](https://matplotlib.org/users/index.html)\n",
    "    包括了安装、教程、交互式绘图三部分，教程部分包括导论、中级、高级、色彩、文本、工具等六部分\n",
    "- [Gallery](https://matplotlib.org/gallery.html)\n",
    "- [Examples](https://matplotlib.org/examples/index.html)"
   ]
  },
  {
   "cell_type": "code",
   "execution_count": null,
   "metadata": {},
   "outputs": [],
   "source": [
    "import numpy as np\n",
    "import matplotlib.pyplot as plt   #引入模块\n",
    "\n",
    "import matplotlib.pyplot as plt\n",
    "plt.plot([1, 2, 3, 4])\n",
    "plt.ylabel('some numbers')\n",
    "plt.show()"
   ]
  },
  {
   "cell_type": "markdown",
   "metadata": {},
   "source": [
    "plt.plot()只有一个输入列表或数组时，参数被当作Y轴，X轴以索引自动生成。\n",
    "\n",
    "\n",
    "当有两个以上参数时，按照X轴和Y轴顺序绘制数据点。"
   ]
  },
  {
   "cell_type": "code",
   "execution_count": null,
   "metadata": {},
   "outputs": [],
   "source": [
    "plt.plot([1, 2, 3, 4], [1, 4, 9, 16])\n",
    "plt.show()"
   ]
  },
  {
   "cell_type": "markdown",
   "metadata": {},
   "source": [
    "除了根据数据绘图，.plot()方法还可以调整图像的各种“风格”。"
   ]
  },
  {
   "cell_type": "code",
   "execution_count": null,
   "metadata": {},
   "outputs": [],
   "source": [
    "plt.plot([1, 2, 3, 4], [1, 4, 9, 16], 'ro')\n",
    "plt.axis([0, 6, 0, 20])\n",
    "plt.show()"
   ]
  },
  {
   "cell_type": "markdown",
   "metadata": {},
   "source": [
    "当然，画多个系列的数据也是可以滴！"
   ]
  },
  {
   "cell_type": "code",
   "execution_count": null,
   "metadata": {},
   "outputs": [],
   "source": [
    "import numpy as np\n",
    "\n",
    "# evenly sampled time at 200ms intervals\n",
    "t = np.arange(0., 5., 0.2)\n",
    "\n",
    "# red dashes, blue squares and green triangles\n",
    "plt.plot(t, t, 'r--', t, t**2, 'bs', t, t**3, 'g^')\n",
    "plt.show()"
   ]
  },
  {
   "cell_type": "markdown",
   "metadata": {},
   "source": [
    "### 1. pyplot的绘图区域\n",
    "\n",
    "![](figure_axes_axis.jpeg)\n",
    "\n",
    "![](figure_axes_axis_2.jpeg)\n",
    "\n",
    "![](figure_axes_axis_3.jpeg)\n",
    "\n",
    "一个figure(画布)上，可以有多个区域axes(坐标系)，我们在每个坐标系上绘图，也就是说每个axes(坐标系)中，都有一个axis(坐标轴)。\n",
    "\n",
    "创建figure(画布)的两种方式\n",
    "\n",
    "隐式创建figure对象\n",
    "\n",
    "当第一次执行plt.xxx()画图代码时，系统会去判断是否已经有了figure对象，如果没有，系统会自动创建一个figure对象，并且在这个figure之上，自动创建一个axes坐标系(注意：默认创建一个figure对象，一个axes坐标系)。\n",
    "\n",
    "也就是说，如果我们不设置figure对象，那么一个figure对象上，只能有一个axes坐标系，即我们只能绘制一个图形。\n",
    "\n",
    "② 隐式创建figure对象存在的问题\n",
    "\n",
    "优势：如果只是绘制一个小图形，那么直接使用plt.xxx()的方式，会自动帮我们创建一个figure对象和一个axes坐标系，这个图形最终就是绘制在这个axes坐标系之上的。\n",
    "\n",
    "劣势：如果我们想要在一个figure对象上，绘制多个图形，那么我们就必须拿到每个个axes对象，然后调用每个位置上的axes对象，就可以在每个对应位置的坐标系上，进行绘图，如下图所示。注意：如果figure对象是被默认创建的，那么我们根本拿不到axes对象。因此，需要我们显示创建figure对象。\n",
    "\n",
    "显示创建figure对象：以后的文章会详细讲述布局设置\n",
    "\n",
    "手动创建一个figure对象figure = plt.figure()# 获取每个位置的axes对象axes1 = figure.add_subplot(2,1,1)axes2 = figure.add_subplot(2,1,1)\n",
    "\n",
    "![](figure_axes_axis_4.jpeg)\n"
   ]
  },
  {
   "cell_type": "code",
   "execution_count": null,
   "metadata": {},
   "outputs": [],
   "source": [
    "fig = plt.figure()\n",
    "axes1 = fig.add_subplot(2, 1, 1)\n",
    "axes2 = fig.add_subplot(2, 1, 2)\n",
    "\n",
    "axes1.plot([1, 3, 5, 7], [5, 9, 7, 8])\n",
    "axes2.plot([1, 3, 5, 7], [5, 0, 3, 2])\n",
    "fig.show()"
   ]
  },
  {
   "cell_type": "markdown",
   "metadata": {},
   "source": [
    "也可以在默认figure的条件下，使用plt.subplot()方法来创建若干绘图区。\n",
    "\n",
    "plt.subplot(nrows, ncols, plot_number)\n",
    "\n",
    "在全局绘图区域中创建一个分区体系，并定位到一个子绘图区域。\n",
    "\n",
    "【例】"
   ]
  },
  {
   "cell_type": "code",
   "execution_count": null,
   "metadata": {},
   "outputs": [],
   "source": [
    "import numpy as np\n",
    "import matplotlib.pyplot as plt\n",
    "\n",
    "def f(t):\n",
    "    return np.exp(-t) * np.cos(2*np.pi*t)\n",
    "\n",
    "a = np.arange(0.0, 5.0, 0.02)\n",
    "\n",
    "plt.subplot(2, 1, 1)\n",
    "plt.plot(a, f(a))\n",
    "\n",
    "plt.subplot(2, 1, 2)\n",
    "plt.plot(a, np.cos(2*np.pi*a), 'r--')\n",
    "\n",
    "plt.show()"
   ]
  },
  {
   "cell_type": "markdown",
   "metadata": {},
   "source": [
    "### 2. pyplot的plot()函数"
   ]
  },
  {
   "cell_type": "markdown",
   "metadata": {},
   "source": [
    "plt.plot(x,y,format_string,**kwargs)\n",
    "\n",
    "[全部参数](https://matplotlib.org/api/_as_gen/matplotlib.pyplot.html)\n",
    "\n",
    "参数|说明\n",
    ":--|:--\n",
    "x|X轴数据，列表或数组，可选。\n",
    "y|Y轴数据，列表或数组。\n",
    "format_string|控制曲线的格式字符串，可选。\n",
    "kwargs|第二组或更多(x,y,format_string) 即绘制多条曲线"
   ]
  },
  {
   "cell_type": "markdown",
   "metadata": {},
   "source": [
    "当绘制多条曲线时，各条曲线的x不能省略。"
   ]
  },
  {
   "cell_type": "code",
   "execution_count": null,
   "metadata": {},
   "outputs": [],
   "source": [
    "a = np.arange(10)\n",
    "plt.plot(a,a*1.5,a,a*2.5,a,a*3.5,a,a*4.5)\n",
    "plt.show()"
   ]
  },
  {
   "cell_type": "markdown",
   "metadata": {},
   "source": [
    "format_string：控制曲线的格式字符串，可选。由颜色字符、风格字符和标记字符组成。\n",
    "\n",
    "颜色字符|说明|颜色字符|说明\n",
    ":--|:--|:--|:--\n",
    "'b'|蓝色|'m'|洋红色magenta\n",
    "'g'|绿色|'y'|黄色\n",
    "'r'|红色|'k'|黑色\n",
    "'c'|青绿色cyan|'w'|白色\n",
    "'#008000'|RGB某颜色|'0.8'|灰度值字符串\n",
    "\n",
    "风格字符|说明|风格字符|说明\n",
    ":--|:--|:--|:--\n",
    "'\\_'|实线|'--'|破折号\n",
    "‘-.’|点画线|‘’或'  '|无线条\n",
    "\n",
    "标记字符|说明|标记字符|说明\n",
    ":--|:--|:--|:--\n",
    "‘.’|点标记|‘,’|像素标记(极小点）\n",
    "‘o’|实心圈标记|‘v’|倒三角标记\n",
    "‘^’|上三角标记|‘>’|右三角标记\n",
    "‘<’|左三角标记|‘1’|下花三角标记\n",
    "‘2’|下花三角标记|‘3’|左花三角标记\n",
    "‘4’|右花三角标记|'s'|实心方形标记\n",
    "'p’|实心五角标记|‘\\*’|星形标记\n",
    "‘h’|竖六边形标记|‘H’|横六边形标记\n",
    "‘+’|十字标记|‘x’|x标记\n",
    "‘D’|菱形标记|‘d’|瘦菱形标记\n",
    "‘\\’|竖线是垂直线标记"
   ]
  },
  {
   "cell_type": "code",
   "execution_count": null,
   "metadata": {},
   "outputs": [],
   "source": [
    "a=np.arange(10)\n",
    "plt.plot(a,a*1.5,\"go-\",a,a*2.5,'rx',a,a*3.5,'*',a,a*4.5,'b-.')   #颜色字符、风格字符、标记字符组合使用\n",
    "plt.show()\n"
   ]
  },
  {
   "cell_type": "markdown",
   "metadata": {},
   "source": [
    "参数|说明\n",
    ":--|:--\n",
    "** kwargs|第二组或更多（x,y,format_string）\n",
    "color|控制颜色，color='green'\n",
    "linestyle|线条风格，linestyle=‘dashed’\n",
    "marker|标记风格，marker=‘0’\n",
    "markerfacecolor|标记颜色，markerfacecolor='blue'\n",
    "markersize|标记尺寸，markersize=20\n",
    "\n",
    "### pyplot的中文显示方法\n",
    "\n",
    "第一种方法 这种方法会使坐标轴中数字的字体等也随之改变\n",
    "\n",
    "pyplot并不默认支持中文显示，需要rcParams修改字体实现。"
   ]
  },
  {
   "cell_type": "code",
   "execution_count": null,
   "metadata": {},
   "outputs": [],
   "source": [
    "import matplotlib\n",
    "matplotlib.rcParams['font.family']='SimHei'   #黑体\n",
    "plt.plot([3,1,4,5,2])\n",
    "plt.ylabel('纵轴（值）')\n",
    "plt.savefig('test',dpi=600)\n",
    "plt.show()\n"
   ]
  },
  {
   "cell_type": "markdown",
   "metadata": {},
   "source": [
    "rcParams的属性\n",
    "\n",
    "属性|说明\n",
    ":--|:--\n",
    "‘font.family’|用于显示字体的名字\n",
    " ‘font.style'|字体风格，正常'normal'或斜体'italic'\n",
    "  'font.size'|字体太小，整数字号或者'large'、'x-small'\n",
    "  \n",
    "rcParams\\[‘font.family’\\]可以设置为以下几种字体\n",
    "\n",
    "中文字体|说明\n",
    ":--|:--\n",
    "  'SimHei'|中文黑体\n",
    "   'Kaiti'|中文楷体 \n",
    "   'LiSu'|中文隶书\n",
    "  ‘FangSong’|中文仿宋\n",
    "  ‘YouYuan’|中文幼圆\n",
    "  ‘STSong’|华文宋体\n",
    "  \n",
    "第二种方法\n",
    "\n",
    "在有中文输出的地方，增加一个属性：fontproperties.这种方法能有效的在特定需要输入中文地方确定中文的字体和字号。"
   ]
  },
  {
   "cell_type": "code",
   "execution_count": null,
   "metadata": {},
   "outputs": [],
   "source": [
    "a=np.arange(0.0,5.0,0.02)\n",
    "plt.xlabel('横轴：时间',fontproperties='SimHei',fontsize=20)\n",
    "plt.ylabel('纵轴：振幅',fontproperties='SimHei',fontsize=20)\n",
    "plt.plot(a,np.cos(2*np.pi*a),'r--')\n",
    "plt.show()\n"
   ]
  },
  {
   "cell_type": "markdown",
   "metadata": {},
   "source": [
    "pyplot的文本显示方法\n",
    "\n",
    "pyplot的文本显示函数\n",
    "\n",
    " 函数|说明\n",
    " :--|:--\n",
    "   plt.xlabel()|对X轴增加文本标签\n",
    "   plt.ylabel()|对y轴增加文本标签\n",
    "   plt.title()|对图形整体增加文本标签\n",
    "   plt.text()|在任意位置增加文本         \n",
    "   plt.annolate()|在图形中增加带箭头的注释"
   ]
  },
  {
   "cell_type": "code",
   "execution_count": null,
   "metadata": {},
   "outputs": [],
   "source": [
    "a=np.arange(0.0,5.0,0.02)   #起 0.0   止  5.0  步长 0.02\n",
    "plt.plot(a,np.cos(2*np.pi*a),'r--')\n",
    "\n",
    "plt.xlabel('横轴：时间',fontproperties='SimHei',fontsize=15,color='green')\n",
    "plt.ylabel('纵轴：振幅',fontproperties='SimHei',fontsize=15)\n",
    "plt.title(r'正弦波实例 $y=cos(2\\pi x)$',fontproperties='SimHei',fontsize=25)   ##  $ Latex文本 $\n",
    "plt.text(2,1,r'$\\mu=100$',fontsize=15)\n",
    "\n",
    "plt.axis([-1,6,-2,2])  #横纵坐标范围\n",
    "plt.grid(True)   #加入网格曲线\n",
    "plt.show()\n"
   ]
  },
  {
   "cell_type": "markdown",
   "metadata": {},
   "source": [
    "plt.annotate(s,xy=arrow_crd,xytext=text_crd,arrowprops=dict)\n"
   ]
  },
  {
   "cell_type": "markdown",
   "metadata": {},
   "source": [
    "参数|说明\n",
    ":--|:--\n",
    "s| 要注解的字符串\n",
    "xy|箭头所在的位置\n",
    "xy_text|表示文本显示的位置\n",
    "arrowprops|是一个字典类型，定义了整个箭头的一些属性"
   ]
  },
  {
   "cell_type": "code",
   "execution_count": null,
   "metadata": {},
   "outputs": [],
   "source": [
    "a=np.arange(0.0,5.0,0.02)   #起 0.0   止  5.0  步长 0.02\n",
    "plt.plot(a,np.cos(2*np.pi*a),'r--')\n",
    "\n",
    "plt.xlabel('横轴：时间',fontproperties='SimHei',fontsize=15,color='green')\n",
    "plt.ylabel('纵轴：振幅',fontproperties='SimHei',fontsize=15)\n",
    "plt.title(r'正弦波实例 $y=cos(2\\pi x)$',fontproperties='SimHei',fontsize=25)   ##  $ Latex文本 $\n",
    "plt.annotate(r'$\\mu=100$',xy=(2,1),xytext=(3,1.5),\n",
    "             arrowprops=dict(facecolor='black',shrink=0.1,width=2))\n",
    "# width表示箭头的宽度为2   \n",
    "#shrink表示从箭头的起始到结束按照0.1的比例箭头的两侧会缩进，使箭头里这个位置留有\n",
    "#一小块空白\n",
    "\n",
    "plt.axis([-1,6,-2,2])  #横纵坐标范围\n",
    "plt.grid(True)   #加入网格曲线\n",
    "plt.show()\n"
   ]
  },
  {
   "cell_type": "markdown",
   "metadata": {},
   "source": [
    "pyplot的子绘图区域\n"
   ]
  },
  {
   "cell_type": "markdown",
   "metadata": {},
   "source": [
    "plt.subplot2grid(GridSpec,CurSpec,colspan=1,rowspan=1)\n"
   ]
  },
  {
   "cell_type": "markdown",
   "metadata": {},
   "source": [
    "理念：设定网路，选中网络，确定选中行列区域数量，编号从0开始。\n",
    "plt.subplot2grid((3,3),(1,0),colspan=2)\n",
    "(3,3)表示把一个区域分成3行3列，9块区域的基本类型\n",
    "(1,0)表示当前选定的位置为第1行第0列\n",
    "colspan=2表示列的延伸，及选定的单元格及列延伸一个单元格共两个单元格的长度"
   ]
  },
  {
   "cell_type": "code",
   "execution_count": null,
   "metadata": {},
   "outputs": [],
   "source": [
    "plt.subplot2grid((3,3),(0,0),colspan=3)\n",
    "plt.subplot2grid((3,3),(1,0),colspan=2)\n",
    "plt.subplot2grid((3,3),(1,2),rowspan=2)\n",
    "plt.subplot2grid((3,3),(2,0))\n",
    "plt.subplot2grid((3,3),(2,1))\n",
    "\n"
   ]
  },
  {
   "cell_type": "markdown",
   "metadata": {},
   "source": [
    "这个方法每次调用都要重新对图形的设计做一个约束，可以用GradSpec类来简化其中的设计\n",
    "\n"
   ]
  },
  {
   "cell_type": "code",
   "execution_count": null,
   "metadata": {},
   "outputs": [],
   "source": [
    "import matplotlib.gridspec as gridspec\n",
    "\n",
    "gs=gridspec.GridSpec(3,3)\n",
    "\n",
    "ax1 = plt.subplot(gs[0,:])\n",
    "ax2= plt.subplot(gs[1,:-1]) # 0:-1 简写为  :-1\n",
    "ax3=plt.subplot(gs[1:,-1])  # 1:最后  简写为 1：\n",
    "ax4=plt.subplot(gs[2,0])\n",
    "ax5=plt.subplot(gs[2,1])\n",
    "\n"
   ]
  },
  {
   "cell_type": "markdown",
   "metadata": {},
   "source": [
    "pyplot的基础图表函数\n",
    "\n",
    "函数|说明\n",
    ":--|:--\n",
    "plt.plot(x,y,fmt,…)|绘制一个坐标图\n",
    "plt.boxplot(data,notch,position)|绘制一个箱形图\n",
    "plt.bar(left,height,width,bottom)|绘制一个条形图\n",
    "plt.barh(width,bottom,left,height)|绘制一个横向条形图\n",
    "plt.polar(theta, r)|绘制极坐标图\n",
    "plt.pie(data, explode)|绘制饼图\n",
    "\n",
    "函数|说明\n",
    ":--|:--\n",
    "plt.psd(x,NFFT=256,pad_to,Fs)|绘制功率谱密度图\n",
    "plt.specgram(x,NFFT=256,pad_to,F)|绘制谱图\n",
    "plt.cohere(x,y,NFFT=256,Fs)|绘制X‐Y的相关性函数\n",
    "plt.scatter(x,y)|绘制散点图，其中，x和y长度相同\n",
    "plt.step(x,y,where)|绘制步阶图\n",
    "plt.hist(x,bins,normed)|绘制直方图\n",
    "\n",
    "函数|说明\n",
    ":--|:--\n",
    "plt.contour(X,Y,Z,N)|绘制等值图\n",
    "plt.vlines()|绘制垂直图\n",
    "plt.stem(x,y,linefmt,markerfmt)|绘制柴火图\n",
    "plt.plot_date()|绘制数据日期\n",
    "\n",
    "绘制饼图"
   ]
  },
  {
   "cell_type": "code",
   "execution_count": null,
   "metadata": {},
   "outputs": [],
   "source": [
    "import numpy as np\n",
    "import matplotlib.pyplot as plt\n",
    "\n",
    "labels='Frogs','Hogs','Dogs','Logs'\n",
    "sizes=[15,30,45,10]  #每一块占的百分比\n",
    "explode=(0,0.1,0,0) #第二块往外移0.1\n",
    "\n",
    "plt.pie(sizes,explode=explode,labels=labels,autopct='%1.1f%%',shadow=False,startangle=90)\n",
    "# autopct ：显示百分数的方法\n",
    "#shadow : 这个饼图是二维饼图还是带阴影的饼图效果\n",
    "#startangle : 表示饼图起始的角度\n",
    "\n",
    "plt.axis('equal')  #绘制图的时候x，y方向应该是相等的。画出的图是正圆的。\n",
    "plt.show()"
   ]
  },
  {
   "cell_type": "markdown",
   "metadata": {},
   "source": [
    "直方图"
   ]
  },
  {
   "cell_type": "code",
   "execution_count": null,
   "metadata": {},
   "outputs": [],
   "source": [
    "np.random.seed(0)  #设置随机种子\n",
    "mu,sigma=100,200   #均值和标准差\n",
    "a=np.random.normal(mu,sigma,size=100)  #100个元素\n",
    "\n",
    "plt.hist(a,20,density=1,histtype='stepfilled',facecolor='B',alpha=0.75)\n",
    "# 20 生成的图中直方的个数 将数组a的取值范围均等的划分为20个区间\n",
    "# normed=1 将直方中出现元素的个数归一化为该概率，normed=0则为在这个区域中元素出现的的个数\n",
    "plt.title('Histogram')\n",
    "\n",
    "plt.show()"
   ]
  },
  {
   "cell_type": "markdown",
   "metadata": {},
   "source": [
    "极坐标"
   ]
  },
  {
   "cell_type": "code",
   "execution_count": null,
   "metadata": {},
   "outputs": [],
   "source": [
    "N=20  #绘制极坐标图中的数据的个数\n",
    "theta=np.linspace(0.0,2*np.pi,N,endpoint=False)  #从零到360度按照个数等分出n个不同的角度\n",
    "radii=10*np.random.rand(N)  #生成每一个角度对应的值\n",
    "width=np.pi/4*np.random.rand(N)       #算出宽度值\n",
    "\n",
    "ax=plt.subplot(111,projection='polar')   # 111即为生成1个网格，polar即指定为极坐标 形成一个对象为ax\n",
    "bars= ax.bar(theta,radii,width=width,bottom=0.0)\n",
    "#theta 即为left 表示绘制极坐标区域中的颜色从哪开始\n",
    "#radii 即为height 表示中心点向边缘绘制的长度\n",
    "#width  即为宽度 每个绘图区域的面积，角度范围内辐射的面积\n",
    "\n",
    "#循环对每一个绘制极坐标区域的颜色进行设定\n",
    "for r,bar in zip(radii,bars):\n",
    "    bar.set_facecolor(plt.cm.viridis(r/10.))\n",
    "    \n",
    "plt.show()"
   ]
  },
  {
   "cell_type": "markdown",
   "metadata": {},
   "source": [
    "散点图"
   ]
  },
  {
   "cell_type": "code",
   "execution_count": null,
   "metadata": {},
   "outputs": [],
   "source": [
    "fig,ax=plt.subplots()    #参数为空，默认绘制区域是111\n",
    "ax.plot(10*np.random.randn(100),10*np.random.randn(100),'o')  #randn生成横纵坐标各扩大10倍\n",
    "#randn生成正态分布的随机数\n",
    "\n",
    "ax.set_title('Simple Scatter')\n",
    "\n",
    "plt.show()"
   ]
  }
 ],
 "metadata": {
  "kernelspec": {
   "display_name": "Python 3.7.4 64-bit ('base': conda)",
   "language": "python",
   "name": "python37464bitbaseconda21d6255dfc6f47b9a722fafee858c8c9"
  },
  "language_info": {
   "codemirror_mode": {
    "name": "ipython",
    "version": 3
   },
   "file_extension": ".py",
   "mimetype": "text/x-python",
   "name": "python",
   "nbconvert_exporter": "python",
   "pygments_lexer": "ipython3",
   "version": "3.7.4"
  }
 },
 "nbformat": 4,
 "nbformat_minor": 2
}
